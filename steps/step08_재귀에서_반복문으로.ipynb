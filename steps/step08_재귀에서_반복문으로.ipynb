{
 "cells": [
  {
   "cell_type": "markdown",
   "metadata": {},
   "source": [
    "## 8단계: 재귀에서 반복문으로\n",
    "\n",
    "> 앞 단계에서는 Variable 클래스에 backward 메서드를 추가했습니다. \\\n",
    "이번에는 처리 효율을 개선하고 앞으로의 확장을 대비해 backward 메서드의 구현 방식을 바꿔보겠습니다."
   ]
  },
  {
   "cell_type": "markdown",
   "metadata": {},
   "source": [
    "### 8.1 현재의 Variable 클래스"
   ]
  },
  {
   "cell_type": "code",
   "execution_count": null,
   "metadata": {},
   "outputs": [],
   "source": [
    "class Variable:\n",
    "    ...  # 생략\n",
    "    \n",
    "    def backward(self):\n",
    "        f = self.creator\n",
    "        if f is not None:\n",
    "            x = f.input\n",
    "            x.grad = f.backward(self.grad)\n",
    "            x.backward()  # 이전 장에서는 Variable.backward를 재귀 구조로 구현했다."
   ]
  },
  {
   "cell_type": "markdown",
   "metadata": {},
   "source": [
    "### 8.2 반복문을 이용한 구현\n",
    "\n",
    "재귀 구조를 반복문으로 바꿔보자."
   ]
  },
  {
   "cell_type": "code",
   "execution_count": 2,
   "metadata": {},
   "outputs": [],
   "source": [
    "class Variable:\n",
    "    def __init__(self, data):\n",
    "        self.data = data\n",
    "        self.grad = None\n",
    "        self.creator = None\n",
    "\n",
    "    def set_creator(self, func):\n",
    "        self.creator = func\n",
    "    \n",
    "    def backward(self):\n",
    "        funcs = [self.creator]\n",
    "        while funcs:\n",
    "            f = funcs.pop()  # 함수를 가져온다.\n",
    "            x, y = f.input, f.output  # 함수의 입력과 출력을 가져온다.\n",
    "            x.grad = f.backward(y.grad)  # backward 메서드를 호출한다.\n",
    "            \n",
    "            if x.creator is not None:\n",
    "                funcs.append(x.creator)  # 하나 앞의 함수를 리스트에 추가한다."
   ]
  },
  {
   "cell_type": "markdown",
   "metadata": {},
   "source": [
    "### 8.3 동작 확인\n",
    "\n",
    "개선된 Variable 클래스를 이용해보자."
   ]
  },
  {
   "cell_type": "code",
   "execution_count": null,
   "metadata": {},
   "outputs": [],
   "source": [
    "# 필요 모듈 정의\n",
    "\n",
    "import numpy as np\n",
    "\n",
    "class Function:\n",
    "    def __call__(self, input):\n",
    "        x = input.data\n",
    "        y = self.forward(x)\n",
    "        output = Variable(y)\n",
    "        output.set_creator(self)\n",
    "        self.input = input\n",
    "        self.output = output\n",
    "        return output\n",
    "\n",
    "\n",
    "class Square(Function):\n",
    "    def forward(self, x):\n",
    "        y = x ** 2\n",
    "        return y\n",
    "    \n",
    "    def backward(self, gy):\n",
    "        x = self.input.data\n",
    "        gx = 2 * x * gy\n",
    "        return gx\n",
    "\n",
    "\n",
    "class Exp(Function):\n",
    "    def forward(self, x):\n",
    "        y = np.exp(x)\n",
    "        return y\n",
    "    \n",
    "    def backward(self, gy):\n",
    "        x = self.input.data\n",
    "        gx = np.exp(x) * gy\n",
    "        return gx"
   ]
  },
  {
   "cell_type": "code",
   "execution_count": 4,
   "metadata": {},
   "outputs": [
    {
     "name": "stdout",
     "output_type": "stream",
     "text": [
      "3.297442541400256\n"
     ]
    }
   ],
   "source": [
    "A = Square()\n",
    "B = Exp()\n",
    "C = Square()\n",
    "\n",
    "x = Variable(np.array(0.5))\n",
    "a = A(x)\n",
    "b = B(a)\n",
    "y = C(b)\n",
    "\n",
    "# 역전파\n",
    "y.grad = np.array(1.0)\n",
    "y.backward()\n",
    "print(x.grad)"
   ]
  },
  {
   "cell_type": "markdown",
   "metadata": {},
   "source": [
    "7단계와 동일한 결과를 출력함을 알 수 있다.\n",
    "\n",
    "반복문의 이점은 15단계에서 더 알 수 있다.\n",
    "\n",
    "> 재귀는 함수 호출을 스택에 쌓으면서 처리하므로 보통 반복문으로 전환이 권장된다. \\\n",
    "그러나 요즘에는 컴퓨터 메모리도 넉넉하고, 꼬리 재귀(tail recursion) 기법을 이용하여 재귀를 반복문처럼 실행하기도 한다."
   ]
  }
 ],
 "metadata": {
  "kernelspec": {
   "display_name": ".venv",
   "language": "python",
   "name": "python3"
  },
  "language_info": {
   "codemirror_mode": {
    "name": "ipython",
    "version": 3
   },
   "file_extension": ".py",
   "mimetype": "text/x-python",
   "name": "python",
   "nbconvert_exporter": "python",
   "pygments_lexer": "ipython3",
   "version": "3.12.9"
  }
 },
 "nbformat": 4,
 "nbformat_minor": 2
}
