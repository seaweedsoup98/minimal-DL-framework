{
 "cells": [
  {
   "cell_type": "markdown",
   "id": "22096fcc",
   "metadata": {},
   "source": [
    "## 56단계: CNN 메커니즘(2)\n",
    "\n",
    "> 이전 단계에서는 수직 및 수평 방향으로 늘어선 2차원 데이터(2차원 텐서)에서의 합성곱 연산을 설명했습니다. 그러나 사진에는 가로/세로 방향뿐 아니라 RGB처럼 '채널 방향'으로도 데이터가 쌓여 있기 때문에 3차원 데이터(3차원 텐서)를 다뤄야 합니다. 이번 단계에서는 앞 단계와 똑같은 순서로 3차원 텐서에서의 합성곱 연산을 살펴보고, 이어서 풀링까지 설명하겠습니다."
   ]
  },
  {
   "cell_type": "markdown",
   "id": "a86e289a",
   "metadata": {},
   "source": [
    "### 56.1 3차원 텐서\n",
    "\n",
    "<img src=\"images/그림 56-1.png\" width=500/>"
   ]
  },
  {
   "cell_type": "markdown",
   "id": "201caae1",
   "metadata": {},
   "source": [
    "### 56.2 블록으로 생각하기\n",
    "\n",
    "<img src=\"images/그림 56-2.png\" width=500/>\n",
    "\n",
    "출력을 특징 맵(feature map)이라고 부르는데, 특징 맵을 여러 장 가지려면 다음과 같이 할 수 있다.\n",
    "\n",
    "<img src=\"images/그림 56-3.png\" width=500/>\n",
    "\n",
    "여기에 편향을 추가하면 다음과 같다.\n",
    "\n",
    "<img src=\"images/그림 56-4.png\" width=500/>"
   ]
  },
  {
   "cell_type": "markdown",
   "id": "bd05e11b",
   "metadata": {},
   "source": [
    "### 56.3 미니배치 처리\n",
    "\n",
    "<img src=\"images/그림 56-5.png\" width=500/>"
   ]
  },
  {
   "cell_type": "markdown",
   "id": "7d3d7bbe",
   "metadata": {},
   "source": [
    "### 56.4 풀링층\n",
    "\n",
    "풀링은 가로, 세로 공간을 작게 만드는 연산이다.\n",
    "\n",
    "<img src=\"images/그림 56-6.png\" width=500/>\n",
    "\n",
    "위와 같이 Max 연산을 하면 Max 풀링, 평균을 취하면 Average 풀링이라고 한다.\n",
    "\n",
    "풀링층은 다음 특징을 갖는다.\n",
    "- 학습하는 매개변수가 없다\n",
    "- 채널 수가 변하지 않는다\n",
    "- 미세한 위치 변화에 영향을 덜 받는다\n",
    "\n",
    "<img src=\"images/그림 56-7.png\" width=400/>\n",
    "\n",
    "<br/>\n",
    "\n",
    "<img src=\"images/그림 56-8.png\" width=600/>"
   ]
  },
  {
   "cell_type": "markdown",
   "id": "5ef2ddb3",
   "metadata": {},
   "source": []
  }
 ],
 "metadata": {
  "kernelspec": {
   "display_name": ".venv",
   "language": "python",
   "name": "python3"
  },
  "language_info": {
   "codemirror_mode": {
    "name": "ipython",
    "version": 3
   },
   "file_extension": ".py",
   "mimetype": "text/x-python",
   "name": "python",
   "nbconvert_exporter": "python",
   "pygments_lexer": "ipython3",
   "version": "3.12.9"
  }
 },
 "nbformat": 4,
 "nbformat_minor": 5
}
