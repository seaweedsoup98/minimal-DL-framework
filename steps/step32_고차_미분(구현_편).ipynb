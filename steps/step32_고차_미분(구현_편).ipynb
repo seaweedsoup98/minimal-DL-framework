{
 "cells": [
  {
   "cell_type": "markdown",
   "id": "22096fcc",
   "metadata": {},
   "source": [
    "## 32단계: 고차 미분(구현 편)\n",
    "\n",
    "> 이번 단계에서는 고차 미분을 해낼 수 있도록 DeZero를 변경하겠습니다. 이전 단계에서 이야기한 대로 역전파 시 수행되는 계산에 대해서도 Variable 인스턴스를 사용해 계산 그래프를 만들면 됩니다."
   ]
  },
  {
   "cell_type": "markdown",
   "id": "130bc698",
   "metadata": {},
   "source": [
    "### 32.1 새로운 DeZero로!\n",
    "\n",
    "기존 `core_simple.py`를 `core.py`로 복사한 뒤, `Variable` 클래스를 다음과 같이 수정한다."
   ]
  },
  {
   "cell_type": "code",
   "execution_count": null,
   "id": "3c3ac361",
   "metadata": {},
   "outputs": [],
   "source": [
    "class Variable:\n",
    "    ...\n",
    "    \n",
    "    def backward(self, retain_grad=False):\n",
    "        if self.grad is None:\n",
    "            # self.grad = np.ones_like(self.data)\n",
    "            self.grad = Variable(np.ones_like(self.data))  # grad is now a Variable\n",
    "        ..."
   ]
  },
  {
   "cell_type": "markdown",
   "id": "0f679065",
   "metadata": {},
   "source": [
    "### 32.2 함수 클래스의 역전파\n",
    "\n",
    "이제 다음 함수 클래스들의 `backward` 메서드를 확인하고, 필요시 수정한다.\n",
    "- Add\n",
    "- Mul\n",
    "- Neg\n",
    "- Sub\n",
    "- Div\n",
    "- Pow"
   ]
  },
  {
   "cell_type": "code",
   "execution_count": null,
   "id": "1b83ba52",
   "metadata": {},
   "outputs": [],
   "source": [
    "class Add(Function):\n",
    "    ...\n",
    "    \n",
    "    def backward(self, gy):\n",
    "        # Add 클래스는 입력을 그대로 전달하기 때문에 수정할게 없다.\n",
    "        return gy, gy"
   ]
  },
  {
   "cell_type": "code",
   "execution_count": null,
   "id": "0efb755f",
   "metadata": {},
   "outputs": [],
   "source": [
    "class Mul(Function):\n",
    "    ...\n",
    "\n",
    "    def backward(self, gy):\n",
    "        # gy가 이제 ndarray가 아닌 Variable이므로\n",
    "        # inputs에서 ndarray를 꺼내지 않고 그대로 사용한다.\n",
    "        \n",
    "        # x0, x1 = self.inputs[0].data, self.inputs[1].data\n",
    "        x0, x1 = self.inputs\n",
    "        return gy * x1, gy * x0"
   ]
  },
  {
   "cell_type": "code",
   "execution_count": null,
   "id": "56ade81e",
   "metadata": {},
   "outputs": [],
   "source": [
    "class Neg(Function):\n",
    "    ...\n",
    "    \n",
    "    def backward(self, gy):\n",
    "        # 입력 Variable의 부호를 바꿔주므로 변경 사항이 없다.\n",
    "        return -gy"
   ]
  },
  {
   "cell_type": "code",
   "execution_count": null,
   "id": "48d0e975",
   "metadata": {},
   "outputs": [],
   "source": [
    "class Sub(Function):\n",
    "    ...\n",
    "    \n",
    "    def backward(self, gy):\n",
    "        # 변경 사항 없음\n",
    "        return gy, -gy"
   ]
  },
  {
   "cell_type": "code",
   "execution_count": null,
   "id": "5fea0913",
   "metadata": {},
   "outputs": [],
   "source": [
    "class Div(Function):\n",
    "    ...\n",
    "    \n",
    "    def backward(self, gy):\n",
    "        # Mul 클래스와 마찬가지.\n",
    "        \n",
    "        # x0, x1 = self.inputs[0].data, self.inputs[1].data\n",
    "        x0, x1 = self.inputs\n",
    "        gx0 = gy / x1\n",
    "        gx1 = gy * (-x0 / x1 ** 2)\n",
    "        return gx0, gx1"
   ]
  },
  {
   "cell_type": "code",
   "execution_count": null,
   "id": "010c8ca3",
   "metadata": {},
   "outputs": [],
   "source": [
    "class Pow(Function):\n",
    "    ...\n",
    "    \n",
    "    def backward(self, gy):\n",
    "        # Mul 클래스와 마찬가지.\n",
    "        \n",
    "        # x = self.inputs[0].data\n",
    "        x = self.inputs\n",
    "        c = self.c\n",
    "        gx = c * x ** (c - 1) * gy\n",
    "        return gx"
   ]
  },
  {
   "cell_type": "markdown",
   "id": "ade73511",
   "metadata": {},
   "source": [
    "### 32.3 역전파를 더 효율적으로(모드 추가)\n",
    "\n",
    "18단계에서의 '역전파 비활성 모드'와 비슷하게, 2차 미분을 계산할 일이 없다면 역전파 계산을 '역전파 비활성 모드'로 실행하도록 하자."
   ]
  },
  {
   "cell_type": "code",
   "execution_count": null,
   "id": "9773e62a",
   "metadata": {},
   "outputs": [],
   "source": [
    "class Variable:\n",
    "    ...\n",
    "    \n",
    "    # def backward(self, retain_grad=False):\n",
    "    def backward(self, retain_grad=False, create_graph=False):\n",
    "        if self.grad is None:\n",
    "            self.grad = Variable(np.ones_like(self.data))\n",
    "        \n",
    "        funcs_heap = []\n",
    "        seen_set = set()\n",
    "        \n",
    "        def add_func(f):\n",
    "            if f not in seen_set:\n",
    "                heappush(funcs_heap, f)\n",
    "                seen_set.add(f)\n",
    "        \n",
    "        add_func(self.creator)\n",
    "        \n",
    "        while funcs_heap:\n",
    "            f = heappop(funcs_heap)\n",
    "            gys = [output.grad for output in f.outputs]\n",
    "            \n",
    "            # create_graph == True인 경우에만 계산 그래프를 생성한다.\n",
    "            with using_config('enable_backprop', create_graph):\n",
    "                gxs = f.backward(*gys)  # target 1\n",
    "                if not isinstance(gxs, tuple):\n",
    "                    gxs = (gxs,)\n",
    "                \n",
    "                for x, gx in zip(f.inputs, gxs):\n",
    "                    if x.grad is None:\n",
    "                        x.grad = gx\n",
    "                    else:\n",
    "                        x.grad = x.grad + gx  # target 2\n",
    "                    \n",
    "                    if x.creator is not None:\n",
    "                        add_func(x.creator)\n",
    "                \n",
    "                if not retain_grad:\n",
    "                    for y in f.outputs:\n",
    "                        y.grad = None"
   ]
  },
  {
   "cell_type": "markdown",
   "id": "5925d0c3",
   "metadata": {},
   "source": [
    "`create_graph=False`로 기본값이 설정된 이유는 보통 1차 미분만 사용하는 경우가 압도적으로 많기 때문."
   ]
  },
  {
   "cell_type": "markdown",
   "id": "481bf0d7",
   "metadata": {},
   "source": [
    "### 32.4 `__init__.py` 변경\n",
    "\n",
    "이것으로 새로운 DeZero의 핵심이 완성되었다. 이제 `core.py`가 기초를 갖췄으므로, `__init__.py`에서 `is_simple_core = False`로 설정한다."
   ]
  },
  {
   "cell_type": "code",
   "execution_count": null,
   "id": "339bc903",
   "metadata": {},
   "outputs": [],
   "source": [
    "# __init__.py\n",
    "\n",
    "# is_simple_core = True\n",
    "is_simple_core = False  # 수정\n",
    "\n",
    "if is_simple_core:\n",
    "    from dezero.core_simple import (\n",
    "        Variable,\n",
    "        Function,\n",
    "        using_config,\n",
    "        no_grad,\n",
    "        as_variable,\n",
    "        as_array,\n",
    "        setup_variable,\n",
    "    )\n",
    "\n",
    "else:\n",
    "    from dezero.core import (\n",
    "        Variable,\n",
    "        Function,\n",
    "        using_config,\n",
    "        no_grad,\n",
    "        as_variable,\n",
    "        as_array,\n",
    "        setup_variable,\n",
    "    )\n",
    "\n",
    "\n",
    "setup_variable()"
   ]
  },
  {
   "cell_type": "markdown",
   "id": "85525730",
   "metadata": {},
   "source": [
    "이것으로 이번 단계를 마친다. 다음 단계에서는 새로은 DeZero를 사용하여 고차 미분을 자동으로 계산해보자."
   ]
  }
 ],
 "metadata": {
  "kernelspec": {
   "display_name": ".venv",
   "language": "python",
   "name": "python3"
  },
  "language_info": {
   "codemirror_mode": {
    "name": "ipython",
    "version": 3
   },
   "file_extension": ".py",
   "mimetype": "text/x-python",
   "name": "python",
   "nbconvert_exporter": "python",
   "pygments_lexer": "ipython3",
   "version": "3.12.9"
  }
 },
 "nbformat": 4,
 "nbformat_minor": 5
}
