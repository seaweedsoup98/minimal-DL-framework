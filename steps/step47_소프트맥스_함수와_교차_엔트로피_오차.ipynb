{
 "cells": [
  {
   "cell_type": "markdown",
   "id": "22096fcc",
   "metadata": {},
   "source": [
    "## 47단계: 소프트맥스 함수와 교차 엔트로피 오차\n",
    "\n",
    "> 다중 클래스 분류 도전"
   ]
  },
  {
   "cell_type": "markdown",
   "id": "a86e289a",
   "metadata": {},
   "source": [
    "### 47.1 슬라이스 조작 함수\n",
    "\n",
    "get_item 함수 구현 (부록 B 참고)\n",
    "\n",
    "<img src=\"images/그림 47-1.png\" width=400/>"
   ]
  },
  {
   "cell_type": "code",
   "execution_count": 1,
   "id": "6a7600b8",
   "metadata": {},
   "outputs": [],
   "source": [
    "# dezero/functions.py\n",
    "import numpy as np\n",
    "from dezero import Function\n",
    "\n",
    "class GetItem(Function):\n",
    "    def __init__(self, slices):\n",
    "        self.slices = slices\n",
    "\n",
    "    def forward(self, x):\n",
    "        y = x[self.slices]\n",
    "        return y\n",
    "\n",
    "    def backward(self, gy):\n",
    "        x, = self.inputs\n",
    "        f = GetItemGrad(self.slices, x.shape)\n",
    "        return f(gy)\n",
    "\n",
    "\n",
    "class GetItemGrad(Function):\n",
    "    def __init__(self, slices, in_shape):\n",
    "        self.slices = slices\n",
    "        self.in_shape = in_shape\n",
    "\n",
    "    def forward(self, gy):\n",
    "        gx = np.zeros(self.in_shape, dtype=gy.dtype)\n",
    "        np.add.at(gx, self.slices, gy)\n",
    "        return gx\n",
    "\n",
    "    def backward(self, ggx):\n",
    "        return get_item(ggx, self.slices)\n",
    "\n",
    "\n",
    "def get_item(x, slices):\n",
    "    f = GetItem(slices)\n",
    "    return f(x)"
   ]
  },
  {
   "cell_type": "code",
   "execution_count": 2,
   "id": "24bb0556",
   "metadata": {},
   "outputs": [
    {
     "name": "stdout",
     "output_type": "stream",
     "text": [
      "Variable([4 5 6])\n"
     ]
    }
   ],
   "source": [
    "# Sample Usage\n",
    "\n",
    "import numpy as np\n",
    "from dezero import Variable\n",
    "import dezero.functions as F\n",
    "\n",
    "x = Variable(np.array([[1, 2, 3], [4, 5, 6]]))\n",
    "y = F.get_item(x, 1)\n",
    "print(y)"
   ]
  },
  {
   "cell_type": "code",
   "execution_count": 3,
   "id": "b885a6f8",
   "metadata": {},
   "outputs": [
    {
     "name": "stdout",
     "output_type": "stream",
     "text": [
      "Variable([[0 0 0]\n",
      "          [1 1 1]])\n"
     ]
    }
   ],
   "source": [
    "y.backward()\n",
    "print(x.grad)"
   ]
  },
  {
   "cell_type": "code",
   "execution_count": 4,
   "id": "165f12ea",
   "metadata": {},
   "outputs": [
    {
     "name": "stdout",
     "output_type": "stream",
     "text": [
      "Variable([[1 2 3]\n",
      "          [1 2 3]\n",
      "          [4 5 6]])\n"
     ]
    }
   ],
   "source": [
    "x = Variable(np.array([[1, 2, 3], [4, 5, 6]]))\n",
    "indices = np.array([0, 0, 1])\n",
    "y = F.get_item(x, indices)\n",
    "print(y)"
   ]
  },
  {
   "cell_type": "code",
   "execution_count": 5,
   "id": "847b5e3e",
   "metadata": {},
   "outputs": [
    {
     "name": "stdout",
     "output_type": "stream",
     "text": [
      "Variable([4 5 6])\n",
      "Variable([3 6])\n"
     ]
    }
   ],
   "source": [
    "Variable.__getitem__ = F.get_item  # Variable의 메서드로 설정\n",
    "\n",
    "y = x[1]\n",
    "print(y)\n",
    "\n",
    "y = x[:, 2]\n",
    "print(y)"
   ]
  },
  {
   "cell_type": "markdown",
   "id": "3f5c7e01",
   "metadata": {},
   "source": [
    "### 47.2 소프트맥스 함수\n",
    "\n",
    "<img src=\"images/식 47.1.png\" width=400/>"
   ]
  },
  {
   "cell_type": "code",
   "execution_count": 6,
   "id": "83958495",
   "metadata": {},
   "outputs": [
    {
     "name": "stdout",
     "output_type": "stream",
     "text": [
      "Variable([[ 0.21256552  0.75854128 -1.03716231]])\n"
     ]
    }
   ],
   "source": [
    "from dezero.models import MLP\n",
    "\n",
    "model = MLP((10, 3))\n",
    "x = np.array([[0.2, -0.4]])\n",
    "y = model(x)\n",
    "print(y)"
   ]
  },
  {
   "cell_type": "code",
   "execution_count": 7,
   "id": "6206327c",
   "metadata": {},
   "outputs": [
    {
     "name": "stdout",
     "output_type": "stream",
     "text": [
      "Variable([[ 0.21256552  0.75854128 -1.03716231]])\n",
      "Variable([[0.33190891 0.57297171 0.09511938]])\n"
     ]
    }
   ],
   "source": [
    "from dezero import Variable, as_variable\n",
    "import dezero.functions as F\n",
    "\n",
    "def softmax1d(x):\n",
    "    x = as_variable(x)\n",
    "    y = F.exp(x)\n",
    "    sum_y = F.sum(y)\n",
    "    return y / sum_y\n",
    "\n",
    "x = Variable(np.array([[0.2, -0.4]]))\n",
    "y = model(x)\n",
    "p = softmax1d(y)\n",
    "print(y)\n",
    "print(p)"
   ]
  },
  {
   "cell_type": "markdown",
   "id": "48bd6b2d",
   "metadata": {},
   "source": [
    "<img src=\"images/그림 47-2.png\" width=500/>"
   ]
  },
  {
   "cell_type": "code",
   "execution_count": 8,
   "id": "675cf97e",
   "metadata": {},
   "outputs": [],
   "source": [
    "# dezero/functions.py\n",
    "\n",
    "def softmax_simple(x, axis=1):\n",
    "    x = as_variable(x)\n",
    "    y = F.exp(x)\n",
    "    sum_y = F.sum(y, axis=axis, keepdims=True)\n",
    "    return y / sum_y"
   ]
  },
  {
   "cell_type": "markdown",
   "id": "0305cb91",
   "metadata": {},
   "source": [
    "### 47.3 교차 엔트로피 오차\n",
    "\n",
    "다중 클래스에 적합한 손실 함수 구현\n",
    "\n",
    "<img src=\"images/식 47.2.png\" width=400/>\n",
    "\n",
    "$\\bold{t} = (0,0,1)$이고 $\\bold{p} = (p_0, p_1, p_2)$인 경우를 대입하면 다음과 같다.\n",
    "\n",
    "<img src=\"images/식 47.3.png\" width=400/>\n"
   ]
  },
  {
   "cell_type": "code",
   "execution_count": 9,
   "id": "ad2b9600",
   "metadata": {},
   "outputs": [],
   "source": [
    "# dezero/functions.py\n",
    "\n",
    "def softmax_cross_entropy_simple(x, t):\n",
    "    x, t = as_variable(x), as_variable(t)\n",
    "    N = x.shape[0]\n",
    "    \n",
    "    p = softmax(x)\n",
    "    p = F.clip(p, 1e-15, 1.0)  # log(0)을 방지하기 위해\n",
    "    log_p = F.log(p)\n",
    "    tlog_p = log_p[np.arange(N), t.data]\n",
    "    y = -1 * F.sum(tlog_p) / N\n",
    "    return y"
   ]
  },
  {
   "cell_type": "code",
   "execution_count": 10,
   "id": "ec66a60b",
   "metadata": {},
   "outputs": [
    {
     "name": "stdout",
     "output_type": "stream",
     "text": [
      "Variable(1.2768203800191946)\n"
     ]
    }
   ],
   "source": [
    "x = np.array([[0.2, -0.4], [0.3, 0.5], [1.3, -3.2], [2.1, 0.3]])\n",
    "t = np.array([2, 0, 1, 0])\n",
    "y = model(x)\n",
    "\n",
    "loss = F.softmax_cross_entropy(y, t)\n",
    "print(loss)"
   ]
  }
 ],
 "metadata": {
  "kernelspec": {
   "display_name": ".venv",
   "language": "python",
   "name": "python3"
  },
  "language_info": {
   "codemirror_mode": {
    "name": "ipython",
    "version": 3
   },
   "file_extension": ".py",
   "mimetype": "text/x-python",
   "name": "python",
   "nbconvert_exporter": "python",
   "pygments_lexer": "ipython3",
   "version": "3.12.9"
  }
 },
 "nbformat": 4,
 "nbformat_minor": 5
}
