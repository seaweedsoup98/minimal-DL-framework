{
 "cells": [
  {
   "cell_type": "markdown",
   "metadata": {},
   "source": [
    "## 4단계: 수치 미분"
   ]
  },
  {
   "cell_type": "markdown",
   "metadata": {},
   "source": [
    "### 4.1 미분이란\n",
    "\n",
    "미분은 '변화율'이다.\n",
    "\n",
    "미분을 러프하게 수식으로 표현하면 $f(x)$에 대해 다음과 같이 정의된다.\n",
    "\n",
    "$$f'(x) = \\lim_{h\\rightarrow 0}\\frac{f(x+h)-f(x)}{h}$$\n",
    "\n",
    "이 때, $f'(x)$를 $f(x)$의 도함수라고 한다.\n",
    "\n",
    "<img src=\"images/그림 4-1.png\" width=500/>"
   ]
  },
  {
   "cell_type": "markdown",
   "metadata": {},
   "source": [
    "### 4.2 수치 미분 구현\n",
    "\n",
    "위 식을 참고하여 미분을 계산하는 코드를 구현해보자.\n",
    "\n",
    "실제 극한을 취급할 수는 없으니 $h$를 극한과 비슷한 값으로 대체하자. ($h = 0.0001$)\n",
    "\n",
    "이렇게 미세한 값으로 함수의 변화량을 구하는 방법을 수치 미분(numerical differentiation)이라고 한다."
   ]
  },
  {
   "cell_type": "markdown",
   "metadata": {},
   "source": [
    "하지만 수치 미분은 작은 $h$를 이용하여 '진정한 미분'을 근사하기 때문에 필연적으로 오차가 포함된다.\n",
    "\n",
    "이를 완화하기 위해 '중앙차분(centered differnece)'를 이용할 수 있다.\n",
    "\n",
    "중앙차분은 $f(x+h)$와 $f(x-h)$의 차이를 이용한다.\n",
    "\n",
    "식은 아래와 같다. (분모가 $2h$인 점 주의)\n",
    "\n",
    "$$f'(x)=\\lim_{h\\rightarrow 0}\\frac{f(x+h)-f(x-h)}{2h}$$\n",
    "<br>\n",
    "<img src=\"images/그림 4-2.png\" width=500/>"
   ]
  },
  {
   "cell_type": "code",
   "execution_count": 1,
   "metadata": {},
   "outputs": [],
   "source": [
    "import numpy as np\n",
    "\n",
    "class Variable:\n",
    "    def __init__(self, data):\n",
    "        self.data = data\n",
    "\n",
    "class Function:\n",
    "    def __call__(self, input: Variable):\n",
    "        x = input.data\n",
    "        y = self.forward(x) # 구체적인 계산은 forward 메서드에서 한다.\n",
    "        output = Variable(y)\n",
    "        return output\n",
    "\n",
    "    def forward(self, x):\n",
    "        raise NotImplementedError\n",
    "\n",
    "class Square(Function):\n",
    "    def forward(self, x):\n",
    "        return x ** 2\n",
    "\n",
    "class Exp(Function):\n",
    "    def forward(self, x):\n",
    "        return np.exp(x)"
   ]
  },
  {
   "cell_type": "code",
   "execution_count": 2,
   "metadata": {},
   "outputs": [
    {
     "name": "stdout",
     "output_type": "stream",
     "text": [
      "4.000000000004\n"
     ]
    }
   ],
   "source": [
    "# 수치 미분의 구현\n",
    "def numerical_diff(f, x, eps=1e-4):\n",
    "    # eps: epsilon으로, 매우 작은 h를 나타냄\n",
    "    x0 = Variable(x.data - eps)\n",
    "    x1 = Variable(x.data + eps)\n",
    "    y0 = f(x0)\n",
    "    y1 = f(x1)\n",
    "    # 중앙차분을 이용한 수치 미분\n",
    "    return (y1.data - y0.data) / (2 * eps)\n",
    "\n",
    "f = Square()\n",
    "x = Variable(np.array(2.0))\n",
    "dy = numerical_diff(f, x)\n",
    "print(dy)"
   ]
  },
  {
   "cell_type": "markdown",
   "metadata": {},
   "source": [
    "미분은 해석적으로 계산할 수도 있는데, 해석적 계산은 우리에게 익숙한 '수식 변형을 통한 미분'을 가리킨다.\n",
    "\n",
    "위의 예시에서는 $y=x^2$일 때 $\\frac{dy}{dx}=2x$가 되고,\n",
    "\n",
    "$x=2.0$에서 미분값은 $4.0$이 된다.\n",
    "\n",
    "앞의 수치 미분 값과 비교하면 수치 미분의 오차가 매우 작음을 알 수 있다."
   ]
  },
  {
   "cell_type": "markdown",
   "metadata": {},
   "source": [
    "### 4.3 합성 함수의 미분\n",
    "\n",
    "$y=(e^{x^2})^2$를 미분해보자."
   ]
  },
  {
   "cell_type": "code",
   "execution_count": 3,
   "metadata": {},
   "outputs": [
    {
     "name": "stdout",
     "output_type": "stream",
     "text": [
      "3.2974426293330694\n"
     ]
    }
   ],
   "source": [
    "def f(x):\n",
    "    A = Square()\n",
    "    B = Exp()\n",
    "    C = Square()\n",
    "    return C(B(A(x)))\n",
    "\n",
    "x = Variable(np.array(0.5))\n",
    "dy = numerical_diff(f, x)\n",
    "print(dy)"
   ]
  },
  {
   "cell_type": "markdown",
   "metadata": {},
   "source": [
    "이를 해석적으로 계산한 결과와 비교해보면 다음과 같다. (부동소수점 오차 감안 필요)"
   ]
  },
  {
   "cell_type": "code",
   "execution_count": 4,
   "metadata": {},
   "outputs": [
    {
     "name": "stdout",
     "output_type": "stream",
     "text": [
      "오차: -0.000000087933\n"
     ]
    }
   ],
   "source": [
    "# (f(g(h))))' = f'(g(h))*g(h) * g'(h)*h * h'\n",
    "analytic_dy = (2 * np.exp(x.data**2) * np.exp(x.data**2) * 2*x.data).data\n",
    "print(f\"오차: {analytic_dy - dy:.12f}\")"
   ]
  },
  {
   "cell_type": "markdown",
   "metadata": {},
   "source": [
    "### 4.4 수치 미분의 문제점\n",
    "\n",
    "수치 미분의 결과값에는 오차가 존재하고, 어떤 계산이냐에 따라 오차가 커질 수 있다.\n",
    "\n",
    "또한, 변수가 여러 개인 계산을 미분하는 경우 각각을 수치 미분하면 계산량이 많아진다.\n",
    "\n",
    "특히 수백만에서 수백억 개의 매개변수를 이용하는 신경망에서는 수치 미분은 현실적이지 않다.\n",
    "\n",
    "이를 다음 단계에서 역전파로 해결해보자."
   ]
  },
  {
   "cell_type": "markdown",
   "metadata": {},
   "source": [
    "덧붙여서, 수치 미분은 구현이 쉽고 거의 정확한 값을 얻을 수 있기 때문에 역전파 알고리즘의 테스트에 사용되기도 한다.\n",
    "\n",
    "이를 기울기 확인(gradient checking)이라고 하는데, 단순히 수치 미분 결과와 역전파 결과를 비교하는 것이다.\n",
    "\n",
    "이는 10단계 \"테스트\"에서 구현한다."
   ]
  }
 ],
 "metadata": {
  "kernelspec": {
   "display_name": ".venv",
   "language": "python",
   "name": "python3"
  },
  "language_info": {
   "codemirror_mode": {
    "name": "ipython",
    "version": 3
   },
   "file_extension": ".py",
   "mimetype": "text/x-python",
   "name": "python",
   "nbconvert_exporter": "python",
   "pygments_lexer": "ipython3",
   "version": "3.12.9"
  }
 },
 "nbformat": 4,
 "nbformat_minor": 2
}
