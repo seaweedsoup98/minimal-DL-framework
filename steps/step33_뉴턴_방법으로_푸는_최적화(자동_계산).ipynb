{
 "cells": [
  {
   "cell_type": "markdown",
   "id": "22096fcc",
   "metadata": {},
   "source": [
    "## 33단계: 뉴턴 방법으로 푸는 최적화(자동 계산)\n",
    "\n",
    "> 지금까지는 2차 미분을 수동으로 계산했습니다. 이번 단계에서는 새로운 DeZero를 사용하여 2차 미분도 자동으로 계산할 생각입니다. 우선 간단한 수식의 2차 미분을 계산합니다. 그리고 미분값이 제대로 구해졌음을 확인한 다음, 이어서 뉴턴 방법을 사용해 최적화하겠습니다."
   ]
  },
  {
   "cell_type": "markdown",
   "id": "82392349",
   "metadata": {
    "vscode": {
     "languageId": "plaintext"
    }
   },
   "source": [
    "### 33.1 2차 미분 계산하기\n",
    "\n",
    "$y = x^4 - 2x^2$의 2차 미분을 계산해보자.\n",
    "\n",
    "<!-- <img src=\"images/그림 1-1.png\" width=400/> -->"
   ]
  },
  {
   "cell_type": "code",
   "execution_count": 1,
   "id": "9a438c5f",
   "metadata": {},
   "outputs": [
    {
     "name": "stdout",
     "output_type": "stream",
     "text": [
      "Variable(24.0)\n",
      "Variable(44.0)\n"
     ]
    }
   ],
   "source": [
    "import numpy as np\n",
    "from dezero import Variable\n",
    "\n",
    "def f(x):\n",
    "    y = x**4 - 2 * x**2\n",
    "    return y\n",
    "\n",
    "x = Variable(np.array(2.0))\n",
    "y = f(x)\n",
    "y.backward(create_graph=True)\n",
    "print(x.grad)\n",
    "\n",
    "gx = x.grad\n",
    "x.cleargrad()  # 미분값을 초기화하지 않으면 2차 미분값에 1차 미분값이 더해진다.\n",
    "gx.backward()\n",
    "print(x.grad)"
   ]
  },
  {
   "cell_type": "markdown",
   "id": "579cf169",
   "metadata": {},
   "source": [
    "### 33.2 뉴턴 방법을 활용한 최적화\n",
    "\n",
    "아래 계산을 DeZero를 사용해서 구현해보자.\n",
    "\n",
    "<img src=\"images/식 33.1.png\" width=400/>"
   ]
  },
  {
   "cell_type": "code",
   "execution_count": 2,
   "id": "636c7b1c",
   "metadata": {},
   "outputs": [
    {
     "name": "stdout",
     "output_type": "stream",
     "text": [
      "0 Variable(2.0)\n",
      "1 Variable(1.4545454545454546)\n",
      "2 Variable(1.1510467893775467)\n",
      "3 Variable(1.0253259289766978)\n",
      "4 Variable(1.0009084519430513)\n",
      "5 Variable(1.0000012353089454)\n",
      "6 Variable(1.000000000002289)\n",
      "7 Variable(1.0)\n",
      "8 Variable(1.0)\n",
      "9 Variable(1.0)\n"
     ]
    }
   ],
   "source": [
    "def f(x):\n",
    "    y = x**4 - 2 * x**2\n",
    "    return y\n",
    "\n",
    "x = Variable(np.array(2.0))\n",
    "iters = 10\n",
    "\n",
    "for i in range(iters):\n",
    "    print(i, x)\n",
    "    \n",
    "    y = f(x)\n",
    "    x.cleargrad()\n",
    "    y.backward(create_graph=True)\n",
    "    \n",
    "    gx = x.grad\n",
    "    x.cleargrad()\n",
    "    gx.backward()\n",
    "    gx2 = x.grad\n",
    "    \n",
    "    x.data -= gx.data / gx2.data"
   ]
  }
 ],
 "metadata": {
  "kernelspec": {
   "display_name": ".venv",
   "language": "python",
   "name": "python3"
  },
  "language_info": {
   "codemirror_mode": {
    "name": "ipython",
    "version": 3
   },
   "file_extension": ".py",
   "mimetype": "text/x-python",
   "name": "python",
   "nbconvert_exporter": "python",
   "pygments_lexer": "ipython3",
   "version": "3.12.9"
  }
 },
 "nbformat": 4,
 "nbformat_minor": 5
}
