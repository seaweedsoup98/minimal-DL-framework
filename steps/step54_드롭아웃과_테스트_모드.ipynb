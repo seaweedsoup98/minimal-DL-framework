{
 "cells": [
  {
   "cell_type": "markdown",
   "id": "22096fcc",
   "metadata": {},
   "source": [
    "## 54단계: 드롭아웃과 테스트 모드\n",
    "\n",
    "> 이번 단계에서는 DeZero에 드롭아웃을 추가합니다. 드롭아웃을 적용하려면 학습 시와 테스트 시의 처리 로직을 달리해야 합니다. 그래서 학습 단계인지 테스트 단계인지 구별하는 구조를 만들겠습니다."
   ]
  },
  {
   "cell_type": "markdown",
   "id": "a86e289a",
   "metadata": {},
   "source": [
    "### 54.1 드롭아웃이란\n",
    "\n",
    "드롭아웃은 학습 시에 은닉층 뉴런을 무작위로 골라 삭제한다.\n",
    "\n",
    "<img src=\"images/그림 54-1.png\" width=400/>\n",
    "\n",
    "이 동작은 아래처럼 구현할 수 있다."
   ]
  },
  {
   "cell_type": "code",
   "execution_count": 1,
   "id": "10e3be9d",
   "metadata": {},
   "outputs": [],
   "source": [
    "import numpy as np\n",
    "\n",
    "dropout_ratio = 0.6\n",
    "x = np.ones(10)\n",
    "\n",
    "mask = np.random.rand(10) > dropout_ratio\n",
    "y = x * mask"
   ]
  },
  {
   "cell_type": "markdown",
   "id": "53402b50",
   "metadata": {},
   "source": [
    "테스트 시에는 모든 뉴런을 사용하면서도 앙상블 학습처럼 동작하게끔 '흉내' 내야 한다."
   ]
  },
  {
   "cell_type": "code",
   "execution_count": 2,
   "id": "ca1a84da",
   "metadata": {},
   "outputs": [],
   "source": [
    "# 학습 시\n",
    "mask = np.random.rand(10) > dropout_ratio\n",
    "y = x * mask\n",
    "\n",
    "# 테스트 시\n",
    "scale = 1 - dropout_ratio\n",
    "y = x * scale"
   ]
  },
  {
   "cell_type": "markdown",
   "id": "731195e5",
   "metadata": {},
   "source": [
    "### 54.2 역 드롭아웃\n",
    "\n",
    "역 드롭아웃은 스케일 맞추기를 '학습할 때' 수행한다."
   ]
  },
  {
   "cell_type": "code",
   "execution_count": 3,
   "id": "f5f7a48a",
   "metadata": {},
   "outputs": [],
   "source": [
    "# 학습 시\n",
    "scale = 1 - dropout_ratio\n",
    "mask = np.random.rand(10) > dropout_ratio\n",
    "y = x * mask\n",
    "\n",
    "# 테스트 시\n",
    "y = x"
   ]
  },
  {
   "cell_type": "markdown",
   "id": "5c84f064",
   "metadata": {},
   "source": [
    "역 드롭아웃은 테스트 속도가 약간 향상되고, 학습 시 dropout_ratio를 동적으로 변경할 수 있다. \\\n",
    "이런 이점들 때문에 많은 딥러닝 프레임워크에서 역 드롭아웃 방식을 채용하고 있다."
   ]
  },
  {
   "cell_type": "markdown",
   "id": "100215e9",
   "metadata": {},
   "source": [
    "### 54.3 테스트 모드 추가"
   ]
  },
  {
   "cell_type": "code",
   "execution_count": 4,
   "id": "564b627c",
   "metadata": {},
   "outputs": [],
   "source": [
    "## dezero/core.py\n",
    "\n",
    "class Config:\n",
    "    enable_backprop = True\n",
    "    train = True\n",
    "\n",
    "def using_config(name, value):\n",
    "    ...\n",
    "\n",
    "def test_mode():\n",
    "    return using_config('train', False)"
   ]
  },
  {
   "cell_type": "markdown",
   "id": "356b676e",
   "metadata": {},
   "source": [
    "### 54.4 드롭아웃 구현"
   ]
  },
  {
   "cell_type": "code",
   "execution_count": 5,
   "id": "9d1860ff",
   "metadata": {},
   "outputs": [],
   "source": [
    "# dezero/functions.py\n",
    "import dezero\n",
    "from dezero.core import as_variable\n",
    "from dezero import cuda\n",
    "\n",
    "def dropout(x, dropout_ratio=0.5):\n",
    "    x = as_variable(x)\n",
    "    \n",
    "    if dezero.Config.train:\n",
    "        xp = cuda.get_array_module(x)\n",
    "        mask = xp.random.rand(*x.shape) > dropout_ratio\n",
    "        scale = xp.array(1.0 - dropout_ratio).astype(x.dtype)\n",
    "        y = x * mask / scale\n",
    "        return y\n",
    "    else:\n",
    "        return x"
   ]
  },
  {
   "cell_type": "code",
   "execution_count": 6,
   "id": "902bd236",
   "metadata": {},
   "outputs": [
    {
     "name": "stdout",
     "output_type": "stream",
     "text": [
      "[1. 1. 1. 1. 1.]\n",
      "Variable([0. 0. 2. 2. 0.])\n",
      "Variable([1. 1. 1. 1. 1.])\n"
     ]
    }
   ],
   "source": [
    "import numpy as np\n",
    "from dezero import test_mode\n",
    "import dezero.functions as F\n",
    "\n",
    "x = np.ones(5)\n",
    "print(x)\n",
    "\n",
    "# 학습 시\n",
    "y = F.dropout(x)\n",
    "print(y)\n",
    "\n",
    "# 테스트 시\n",
    "with test_mode():\n",
    "    y = F.dropout(x)\n",
    "    print(y)"
   ]
  },
  {
   "cell_type": "code",
   "execution_count": null,
   "id": "3ec3a782",
   "metadata": {},
   "outputs": [],
   "source": []
  }
 ],
 "metadata": {
  "kernelspec": {
   "display_name": ".venv",
   "language": "python",
   "name": "python3"
  },
  "language_info": {
   "codemirror_mode": {
    "name": "ipython",
    "version": 3
   },
   "file_extension": ".py",
   "mimetype": "text/x-python",
   "name": "python",
   "nbconvert_exporter": "python",
   "pygments_lexer": "ipython3",
   "version": "3.12.9"
  }
 },
 "nbformat": 4,
 "nbformat_minor": 5
}
