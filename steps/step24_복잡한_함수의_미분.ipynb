{
 "cells": [
  {
   "cell_type": "markdown",
   "id": "9d652e48",
   "metadata": {},
   "source": [
    "## 24단계: 복잡한 함수의 미분\n",
    "\n",
    "> DeZero는 이제 대표적인 연산자들(+, *, -, /, **)을 지원합니다. 따라서 평소 파이썬 프로그래밍을 하듯 코딩할 수 있습니다. 이 혜택은 복잡한 수식을 코딩할 때 피부로 느껴질 것입니다. \\\n",
    "그래서 이번 단계에서는 지금까지의 성과를 느낄 수 있는 복잡한 수식의 미분 몇 가지를 풀어보겠습니다.\n",
    "\n",
    "이번 단계에서 다루는 함수들은 최적화 문제에서 자주 사용되는 테스트 함수입니다. 최적화 문제의 테스트 함수란 다양한 최적화 기법이 '얼마나 좋은가'를 평가하는 데 사용되는 함수를 뜻합니다. '벤치마크'용 함수라고 할 수 있겠네요. 테스트 함수에도 종류가 많은데, 위키백과의 [Test functions for optimization 페이지](https://en.wikipedia.org/wiki/Test_functions_for_optimization)를 보면 대표적인 예를 확인할 수 있으며, `그림 24-1`과 같은 표로 정리되어 있습니다.\n",
    "\n",
    "`그림 24-1`은 일부만 발췌한 것이며, 우리는 이 중 세 함수를 선택하여 실제로 미분해보려 합니다. 그러면 DeZero의 실력이 어느 정도인지 알 수 있겠죠. 우선 **Sphere**라는 간단한 함수에서 시작하겠습니다.\n",
    "\n",
    "<img src=\"images/그림 24-1.png\" width=600/>"
   ]
  },
  {
   "cell_type": "markdown",
   "id": "54c83e62",
   "metadata": {},
   "source": [
    "### 24.1 Sphere 함수"
   ]
  },
  {
   "cell_type": "code",
   "execution_count": 1,
   "id": "1198ee8c",
   "metadata": {},
   "outputs": [
    {
     "name": "stdout",
     "output_type": "stream",
     "text": [
      "Variable(2.0)\n",
      "2.0 2.0\n"
     ]
    }
   ],
   "source": [
    "import numpy as np\n",
    "from dezero import Variable\n",
    "\n",
    "def sphere(x, y):\n",
    "    return x**2 + y**2\n",
    "\n",
    "x = Variable(np.array(1.0))\n",
    "y = Variable(np.array(1.0))\n",
    "z = sphere(x, y)\n",
    "z.backward()\n",
    "\n",
    "print(z)\n",
    "print(x.grad, y.grad)"
   ]
  },
  {
   "cell_type": "markdown",
   "id": "7fac1f1f",
   "metadata": {},
   "source": [
    "### 24.2 matyas 함수"
   ]
  },
  {
   "cell_type": "code",
   "execution_count": 2,
   "id": "a4c36a43",
   "metadata": {},
   "outputs": [
    {
     "name": "stdout",
     "output_type": "stream",
     "text": [
      "Variable(0.040000000000000036)\n",
      "0.040000000000000036 0.040000000000000036\n"
     ]
    }
   ],
   "source": [
    "def matyas(x, y):\n",
    "    return 0.26 * (x**2 + y**2) - 0.48 * x * y\n",
    "\n",
    "x = Variable(np.array(1.0))\n",
    "y = Variable(np.array(1.0))\n",
    "z = matyas(x, y)\n",
    "z.backward()\n",
    "\n",
    "print(z)\n",
    "print(x.grad, y.grad)"
   ]
  },
  {
   "cell_type": "markdown",
   "id": "952c6fb5",
   "metadata": {},
   "source": [
    "### 24.3 Goldstein-Price 함수"
   ]
  },
  {
   "cell_type": "code",
   "execution_count": 3,
   "id": "0ff9d5d8",
   "metadata": {},
   "outputs": [
    {
     "name": "stdout",
     "output_type": "stream",
     "text": [
      "Variable(1876.0)\n",
      "-5376.0 8064.0\n"
     ]
    }
   ],
   "source": [
    "def goldstein(x, y):\n",
    "    return (1 + (x + y + 1)**2 * (19 - 14*x + 3*x**2 - 14*y + 6*x*y + 3*y**2)) * \\\n",
    "        (30 + (2*x - 3*y)**2 * (18 - 32*x + 12*x**2 + 48*y - 36*x*y + 27*y**2))\n",
    "\n",
    "x = Variable(np.array(1.0))\n",
    "y = Variable(np.array(1.0))\n",
    "z = goldstein(x, y)\n",
    "z.backward()\n",
    "\n",
    "print(z)\n",
    "print(x.grad, y.grad)"
   ]
  },
  {
   "cell_type": "markdown",
   "id": "089ec467",
   "metadata": {},
   "source": [
    "이것으로 제2고지를 마무리한다. 다음 고지에서는 더 고급 계산도 처리가 가능하도록 DeZero를 확장할 것이다."
   ]
  }
 ],
 "metadata": {
  "kernelspec": {
   "display_name": ".venv",
   "language": "python",
   "name": "python3"
  },
  "language_info": {
   "codemirror_mode": {
    "name": "ipython",
    "version": 3
   },
   "file_extension": ".py",
   "mimetype": "text/x-python",
   "name": "python",
   "nbconvert_exporter": "python",
   "pygments_lexer": "ipython3",
   "version": "3.12.9"
  }
 },
 "nbformat": 4,
 "nbformat_minor": 5
}
