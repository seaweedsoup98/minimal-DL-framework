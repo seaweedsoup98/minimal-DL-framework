{
 "cells": [
  {
   "cell_type": "markdown",
   "id": "22096fcc",
   "metadata": {},
   "source": [
    "## 46단계: Optimizer로 수행하는 매개변수 갱신\n",
    "\n",
    "> ."
   ]
  },
  {
   "cell_type": "markdown",
   "id": "a86e289a",
   "metadata": {},
   "source": [
    "### 46.1 Optimizer 클래스\n",
    "\n",
    "Optimizer: 매개변수 갱신을 위한 기반 클래스"
   ]
  },
  {
   "cell_type": "code",
   "execution_count": 5,
   "id": "78f8523d",
   "metadata": {},
   "outputs": [],
   "source": [
    "# dezero/optimizers.py\n",
    "\n",
    "class Optimizer:\n",
    "    def __init__(self):\n",
    "        self.target = None\n",
    "        self.hooks = []\n",
    "        \n",
    "    def setup(self, target):\n",
    "        self.target = target\n",
    "        return self\n",
    "\n",
    "    def update(self):\n",
    "        # None 이외의 매개변수를 리스트에 모아둠\n",
    "        params = [p for p in self.target.params() if p.grad is not None]\n",
    "        \n",
    "        # 전처리(옵션)\n",
    "        for f in self.hooks:\n",
    "            f(params)\n",
    "            \n",
    "        # 매개변수 갱신\n",
    "        for param in params:\n",
    "            self.update_one(param)\n",
    "        \n",
    "    def update_one(self, param):\n",
    "        raise NotImplementedError()\n",
    "    \n",
    "    def add_hook(self, f):\n",
    "        self.hooks.append(f)"
   ]
  },
  {
   "cell_type": "markdown",
   "id": "901ae967",
   "metadata": {},
   "source": [
    "### 46.2 SGD 클래스 구현"
   ]
  },
  {
   "cell_type": "code",
   "execution_count": 6,
   "id": "b3354c9f",
   "metadata": {},
   "outputs": [],
   "source": [
    "# dezero/optimizers.py\n",
    "\n",
    "class SGD(Optimizer):\n",
    "    def __init__(self, lr=0.01):\n",
    "        super().__init__()\n",
    "        self.lr = lr\n",
    "\n",
    "    def update_ont(self, param):\n",
    "        param.data -= self.lr * param.grad.data"
   ]
  },
  {
   "cell_type": "markdown",
   "id": "8c33a3a3",
   "metadata": {},
   "source": [
    "### 46.3 SGD 클래스를 사용한 문제 해결"
   ]
  },
  {
   "cell_type": "code",
   "execution_count": 7,
   "id": "116aca27",
   "metadata": {},
   "outputs": [
    {
     "name": "stdout",
     "output_type": "stream",
     "text": [
      "Variable(0.8165178479901415)\n",
      "Variable(0.2499028014603371)\n",
      "Variable(0.24609874026436834)\n",
      "Variable(0.23721586110833612)\n",
      "Variable(0.20793217994822147)\n",
      "Variable(0.12311919860580518)\n",
      "Variable(0.07888168390348675)\n",
      "Variable(0.07656075297857305)\n",
      "Variable(0.07643364647799142)\n",
      "Variable(0.0761937449484299)\n"
     ]
    }
   ],
   "source": [
    "import numpy as np\n",
    "from dezero import optimizers\n",
    "import dezero.functions as F\n",
    "from dezero.models import MLP\n",
    "\n",
    "\n",
    "np.random.seed(0)\n",
    "x = np.random.rand(100, 1)\n",
    "y = np.sin(2 * np.pi * x) + np.random.rand(100, 1)\n",
    "\n",
    "lr = 0.2\n",
    "max_iter = 10000\n",
    "hidden_size = 10\n",
    "\n",
    "model = MLP((hidden_size, 1))\n",
    "optimizer = optimizers.SGD(lr).setup(model)\n",
    "\n",
    "for i in range(max_iter):\n",
    "    y_pred = model(x)\n",
    "    loss = F.mean_squared_error(y, y_pred)\n",
    "\n",
    "    model.cleargrads()\n",
    "    loss.backward()\n",
    "\n",
    "    optimizer.update()\n",
    "    if i % 1000 == 0:\n",
    "        print(loss)"
   ]
  },
  {
   "cell_type": "markdown",
   "id": "fe6b4ba8",
   "metadata": {},
   "source": [
    "### 46.4 SGD 이외의 최적화 기법\n",
    "\n",
    "Momentum 구현\n",
    "\n",
    "<img src=\"images/식 46.1.png\" width=400/>\n",
    "<br/>\n",
    "<img src=\"images/식 46.2.png\" width=380/>"
   ]
  },
  {
   "cell_type": "code",
   "execution_count": 8,
   "id": "5e1ad6ed",
   "metadata": {},
   "outputs": [],
   "source": [
    "# dezero/optimizers.py\n",
    "\n",
    "class MomentumSGD(Optimizer):\n",
    "    def __init__(self, lr=0.01, momentum=0.9):\n",
    "        super().__init__()\n",
    "        self.lr = lr\n",
    "        self.momentum = momentum\n",
    "        self.vs = {}\n",
    "\n",
    "    def update_one(self, param):\n",
    "        v_key = id(param)\n",
    "        if v_key not in self.vs:\n",
    "            self.vs[v_key] = np.zeros_like(param.data)\n",
    "\n",
    "        v = self.vs[v_key]\n",
    "        v *= self.momentum\n",
    "        v -= self.lr * param.grad.data\n",
    "        param.data += v"
   ]
  }
 ],
 "metadata": {
  "kernelspec": {
   "display_name": ".venv",
   "language": "python",
   "name": "python3"
  },
  "language_info": {
   "codemirror_mode": {
    "name": "ipython",
    "version": 3
   },
   "file_extension": ".py",
   "mimetype": "text/x-python",
   "name": "python",
   "nbconvert_exporter": "python",
   "pygments_lexer": "ipython3",
   "version": "3.12.9"
  }
 },
 "nbformat": 4,
 "nbformat_minor": 5
}
