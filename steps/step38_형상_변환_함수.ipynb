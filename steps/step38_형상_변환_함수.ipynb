{
 "cells": [
  {
   "cell_type": "markdown",
   "id": "22096fcc",
   "metadata": {},
   "source": [
    "## 38단계: 형상 변환 함수\n",
    "\n",
    "> ."
   ]
  },
  {
   "cell_type": "markdown",
   "id": "a86e289a",
   "metadata": {},
   "source": [
    "### 38.1 reshape 함수 구현\n",
    "\n",
    "<img src=\"images/그림 38-1.png\" width=600/>"
   ]
  },
  {
   "cell_type": "code",
   "execution_count": 1,
   "id": "8153f310",
   "metadata": {},
   "outputs": [
    {
     "name": "stdout",
     "output_type": "stream",
     "text": [
      "[1 2 3 4 5 6]\n"
     ]
    }
   ],
   "source": [
    "import numpy as np\n",
    "\n",
    "x = np.array([[1, 2, 3], [4, 5, 6]])\n",
    "y = np.reshape(x, (6,))\n",
    "print(y)"
   ]
  },
  {
   "cell_type": "code",
   "execution_count": 2,
   "id": "03867a86",
   "metadata": {},
   "outputs": [],
   "source": [
    "# dezero/functions.py\n",
    "\n",
    "from dezero import Function\n",
    "\n",
    "class Reshape(Function):\n",
    "    def __init__(self, shape):\n",
    "        self.shape = shape\n",
    "\n",
    "    def forward(self, x):\n",
    "        self.x_shape = x.shape\n",
    "        y = np.reshape(x, self.shape)\n",
    "        return y\n",
    "\n",
    "    def backward(self, gy):\n",
    "        return np.reshape(gy, self.x_shape)\n",
    "\n",
    "\n",
    "from dezero.core import as_variable\n",
    "\n",
    "def reshape(x, shape):\n",
    "    if x.shape == shape:\n",
    "        return as_variable(x)\n",
    "    return Reshape(shape)(x)"
   ]
  },
  {
   "cell_type": "code",
   "execution_count": 3,
   "id": "6743b009",
   "metadata": {},
   "outputs": [
    {
     "name": "stdout",
     "output_type": "stream",
     "text": [
      "Variable([[1 1 1]\n",
      "          [1 1 1]])\n"
     ]
    }
   ],
   "source": [
    "import numpy as np\n",
    "from dezero import Variable\n",
    "import dezero.functions as F\n",
    "\n",
    "x = Variable(np.array([[1, 2, 3], [4, 5, 6]]))\n",
    "y = F.reshape(x, (6,))\n",
    "y.backward(retain_grad=True)\n",
    "print(x.grad)"
   ]
  },
  {
   "cell_type": "markdown",
   "id": "4767fd42",
   "metadata": {},
   "source": [
    "<img src=\"images/그림 38-2.png\" width=400/>"
   ]
  },
  {
   "cell_type": "markdown",
   "id": "8cef95f4",
   "metadata": {},
   "source": [
    "### 38.2 Variable에서 reshape 사용하기"
   ]
  },
  {
   "cell_type": "code",
   "execution_count": 4,
   "id": "910c6ac1",
   "metadata": {},
   "outputs": [],
   "source": [
    "x = np.random.rand(1, 2, 3)\n",
    "\n",
    "y = x.reshape((2, 3))  # 튜플로 받기\n",
    "y = x.reshape([2, 3])  # 리스트로 받기\n",
    "y = x.reshape(2, 3)  # 인수를 그대로(풀어서) 받기"
   ]
  },
  {
   "cell_type": "code",
   "execution_count": 5,
   "id": "af26190f",
   "metadata": {},
   "outputs": [],
   "source": [
    "# dezero/core.py\n",
    "\n",
    "import dezero\n",
    "\n",
    "class Variable:\n",
    "    ...\n",
    "    \n",
    "    def reshape(self, *shape):\n",
    "        if len(shape) == 1 and isinstance(shape[0], (list, tuple)):\n",
    "            shape = shape[0]\n",
    "        return dezero.functions.reshape(self, shape)"
   ]
  },
  {
   "cell_type": "code",
   "execution_count": 6,
   "id": "55c806ba",
   "metadata": {},
   "outputs": [],
   "source": [
    "from dezero import Variable\n",
    "\n",
    "x = Variable(np.random.randn(1, 2, 3))\n",
    "y = x.reshape((2, 3))\n",
    "y = x.reshape(2, 3)"
   ]
  },
  {
   "cell_type": "markdown",
   "id": "e4cf926e",
   "metadata": {},
   "source": [
    "### 38.3 행렬의 전치\n",
    "\n",
    "<img src=\"images/그림 38-3.png\" width=500/>"
   ]
  },
  {
   "cell_type": "code",
   "execution_count": 7,
   "id": "a16db333",
   "metadata": {},
   "outputs": [
    {
     "name": "stdout",
     "output_type": "stream",
     "text": [
      "[[1 4]\n",
      " [2 5]\n",
      " [3 6]]\n"
     ]
    }
   ],
   "source": [
    "x = np.array([[1, 2, 3], [4, 5, 6]])\n",
    "y = np.transpose(x)\n",
    "print(y)"
   ]
  },
  {
   "cell_type": "code",
   "execution_count": 8,
   "id": "e225563b",
   "metadata": {},
   "outputs": [],
   "source": [
    "# dezero/functions.py\n",
    "\n",
    "class Transpose(Function):\n",
    "    def forward(self, x):\n",
    "        y = np.transpose(x)\n",
    "        return y\n",
    "\n",
    "    def backward(self, gy):\n",
    "        gx = transpose(gy)\n",
    "        return gx\n",
    "\n",
    "def transpose(x):\n",
    "    return Transpose()(x)"
   ]
  },
  {
   "cell_type": "code",
   "execution_count": 9,
   "id": "f58b8cf2",
   "metadata": {},
   "outputs": [
    {
     "name": "stdout",
     "output_type": "stream",
     "text": [
      "Variable([[1 1 1]\n",
      "          [1 1 1]])\n"
     ]
    }
   ],
   "source": [
    "x = Variable(np.array([[1, 2, 3], [4, 5, 6]]))\n",
    "y = F.transpose(x)\n",
    "y.backward()\n",
    "print(x.grad)"
   ]
  },
  {
   "cell_type": "code",
   "execution_count": 10,
   "id": "7abef7fb",
   "metadata": {},
   "outputs": [],
   "source": [
    "class Variable:\n",
    "    ...\n",
    "    \n",
    "    def transpose(self):\n",
    "        return dezero.functions.transpose(self)\n",
    "    \n",
    "    @property\n",
    "    def T(self):\n",
    "        return dezero.functions.transpose(self)"
   ]
  },
  {
   "cell_type": "code",
   "execution_count": 11,
   "id": "d984123e",
   "metadata": {},
   "outputs": [
    {
     "name": "stdout",
     "output_type": "stream",
     "text": [
      "(3, 2)\n"
     ]
    }
   ],
   "source": [
    "from dezero import Variable\n",
    "\n",
    "x = Variable(np.random.rand(2, 3))\n",
    "y = x.transpose()\n",
    "y = x.T\n",
    "print(y.shape)"
   ]
  },
  {
   "cell_type": "markdown",
   "id": "c86eb361",
   "metadata": {},
   "source": [
    "### 38.4 [보충] 실제 transpose 함수\n",
    "\n",
    "<img src=\"images/그림 38-4.png\" width=450/>"
   ]
  }
 ],
 "metadata": {
  "kernelspec": {
   "display_name": ".venv",
   "language": "python",
   "name": "python3"
  },
  "language_info": {
   "codemirror_mode": {
    "name": "ipython",
    "version": 3
   },
   "file_extension": ".py",
   "mimetype": "text/x-python",
   "name": "python",
   "nbconvert_exporter": "python",
   "pygments_lexer": "ipython3",
   "version": "3.12.9"
  }
 },
 "nbformat": 4,
 "nbformat_minor": 5
}
