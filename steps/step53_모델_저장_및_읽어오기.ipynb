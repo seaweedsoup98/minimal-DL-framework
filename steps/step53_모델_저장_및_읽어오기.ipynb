{
 "cells": [
  {
   "cell_type": "markdown",
   "id": "22096fcc",
   "metadata": {},
   "source": [
    "## 53단계: 모델 저장 및 읽어오기기\n",
    "\n",
    "> ."
   ]
  },
  {
   "cell_type": "markdown",
   "id": "a86e289a",
   "metadata": {},
   "source": [
    "### 53.1 넘파이의 save 함수와 load 함수\n",
    "\n",
    "`np.save`, `np.load` 함수를 알아보자."
   ]
  },
  {
   "cell_type": "code",
   "execution_count": 1,
   "id": "c6b3c796",
   "metadata": {},
   "outputs": [
    {
     "name": "stdout",
     "output_type": "stream",
     "text": [
      "[1 2 3]\n"
     ]
    }
   ],
   "source": [
    "import numpy as np\n",
    "\n",
    "x = np.array([1, 2, 3])\n",
    "np.save('test.npy', x)\n",
    "\n",
    "x = np.load('test.npy')\n",
    "print(x)"
   ]
  },
  {
   "cell_type": "code",
   "execution_count": 2,
   "id": "0f22216b",
   "metadata": {},
   "outputs": [
    {
     "name": "stdout",
     "output_type": "stream",
     "text": [
      "[1 2 3]\n",
      "[4 5 6]\n"
     ]
    }
   ],
   "source": [
    "x1 = np.array([1, 2, 3])\n",
    "x2 = np.array([4, 5, 6])\n",
    "\n",
    "np.savez('test.npz', x1=x1, x2=x2)\n",
    "\n",
    "arrays = np.load('test.npz')\n",
    "x1 = arrays['x1']\n",
    "x2 = arrays['x2']\n",
    "print(x1)\n",
    "print(x2)"
   ]
  },
  {
   "cell_type": "code",
   "execution_count": 3,
   "id": "bcdbccfa",
   "metadata": {},
   "outputs": [
    {
     "name": "stdout",
     "output_type": "stream",
     "text": [
      "[1 2 3]\n",
      "[4 5 6]\n"
     ]
    }
   ],
   "source": [
    "x1 = np.array([1, 2, 3])\n",
    "x2 = np.array([4, 5, 6])\n",
    "data = {'x1':x1, 'x2':x2}\n",
    "\n",
    "np.savez('test.npz', **data)\n",
    "\n",
    "arrays = np.load('test.npz')\n",
    "x1 = arrays['x1']\n",
    "x2 = arrays['x2']\n",
    "print(x1)\n",
    "print(x2)"
   ]
  },
  {
   "cell_type": "code",
   "execution_count": 4,
   "id": "3d7ea036",
   "metadata": {},
   "outputs": [
    {
     "name": "stdout",
     "output_type": "stream",
     "text": [
      "[1 2 3]\n",
      "[4 5 6]\n"
     ]
    }
   ],
   "source": [
    "x1 = np.array([1, 2, 3])\n",
    "x2 = np.array([4, 5, 6])\n",
    "data = {'x1':x1, 'x2':x2}\n",
    "\n",
    "# 압축 후 저장\n",
    "np.savez_compressed('test.npz', **data)\n",
    "\n",
    "arrays = np.load('test.npz')\n",
    "x1 = arrays['x1']\n",
    "x2 = arrays['x2']\n",
    "print(x1)\n",
    "print(x2)"
   ]
  },
  {
   "cell_type": "markdown",
   "id": "5fa224f8",
   "metadata": {},
   "source": [
    "### 53.2 Layer 클래스의 매개변수를 평평하게\n",
    "\n",
    "계층은 아래 그림과 같이 Layer가 중첩된 구조를 갖는다.\n",
    "\n",
    "```python\n",
    "layer = Layer()\n",
    "\n",
    "l1 = Layer()\n",
    "l1.p1 = Parameter(np.array(1))\n",
    "\n",
    "layer.l1 = l1\n",
    "layer.p2 = Parameter(np.array(2))\n",
    "layer.p3 = Parameter(np.array(3))\n",
    "```\n",
    "\n",
    "<img src=\"images/그림 53-1.png\" width=400/>\n",
    "\n",
    "이때 Parameter를 '하나의 평평한 딕셔너리'로 뽑아보자."
   ]
  },
  {
   "cell_type": "code",
   "execution_count": 5,
   "id": "9bac27be",
   "metadata": {},
   "outputs": [],
   "source": [
    "# dezero/layers.py\n",
    "\n",
    "class Layer:\n",
    "    ...\n",
    "    \n",
    "    def _flatten_params(self, params_dict, parent_key=''):\n",
    "        for name in self._params:\n",
    "            obj = self.__dict__[name]\n",
    "            key = parent_key + '/' + name if parent_key else name\n",
    "            \n",
    "            if isinstance(obj, Layer):\n",
    "                obj.__flatten_params(params_dict, key)\n",
    "            else:\n",
    "                params_dict[key] = obj"
   ]
  },
  {
   "cell_type": "code",
   "execution_count": 6,
   "id": "91fda573",
   "metadata": {},
   "outputs": [
    {
     "name": "stdout",
     "output_type": "stream",
     "text": [
      "{'l1/p1': Variable(1), 'p3': Variable(3), 'p2': Variable(2)}\n"
     ]
    }
   ],
   "source": [
    "from dezero import Layer\n",
    "from dezero.core import Parameter\n",
    "\n",
    "layer = Layer()\n",
    "\n",
    "l1 = Layer()\n",
    "l1.p1 = Parameter(np.array(1))\n",
    "\n",
    "layer.l1 = l1\n",
    "layer.p2 = Parameter(np.array(2))\n",
    "layer.p3 = Parameter(np.array(3))\n",
    "\n",
    "params_dict = {}\n",
    "layer._flatten_params(params_dict)\n",
    "print(params_dict)"
   ]
  },
  {
   "cell_type": "markdown",
   "id": "ab75ebed",
   "metadata": {},
   "source": [
    "### 53.3 Layer 클래스의 save 함수와 load 함수"
   ]
  },
  {
   "cell_type": "code",
   "execution_count": 7,
   "id": "e0861f1c",
   "metadata": {},
   "outputs": [],
   "source": [
    "# dezero/layers.py\n",
    "\n",
    "import os\n",
    "\n",
    "class Layer:\n",
    "    ...\n",
    "    \n",
    "    def save_weights(self, path):\n",
    "        self.to_cpu()\n",
    "\n",
    "        params_dict = {}\n",
    "        self._flatten_params(params_dict)\n",
    "        array_dict = {key: param.data for key, param in params_dict.items()\n",
    "                      if param is not None}\n",
    "        try:\n",
    "            np.savez_compressed(path, **array_dict)\n",
    "        except (Exception, KeyboardInterrupt) as e:\n",
    "            if os.path.exists(path):\n",
    "                os.remove(path)\n",
    "            raise\n",
    "\n",
    "    def load_weights(self, path):\n",
    "        npz = np.load(path)\n",
    "        params_dict = {}\n",
    "        self._flatten_params(params_dict)\n",
    "        for key, param in params_dict.items():\n",
    "            param.data = npz[key]"
   ]
  },
  {
   "cell_type": "code",
   "execution_count": 8,
   "id": "a900b49b",
   "metadata": {},
   "outputs": [
    {
     "name": "stdout",
     "output_type": "stream",
     "text": [
      "epoch: 1, loss: 1.897141\n",
      "epoch: 2, loss: 1.263978\n",
      "epoch: 3, loss: 0.909363\n",
      "test accuracy: 0.8403\n"
     ]
    }
   ],
   "source": [
    "# MNIST 학습 예시\n",
    "\n",
    "import os\n",
    "import dezero\n",
    "import dezero.dataloaders\n",
    "import dezero.functions as F\n",
    "from dezero import optimizers\n",
    "from dezero import DataLoader\n",
    "from dezero.models import MLP\n",
    "\n",
    "max_epoch = 3\n",
    "batch_size = 100\n",
    "\n",
    "train_set = dezero.datasets.MNIST(train=True)\n",
    "train_loader = DataLoader(train_set, batch_size)\n",
    "model = MLP((1000, 10))\n",
    "optimizer = optimizers.SGD().setup(model)\n",
    "\n",
    "for epoch in range(max_epoch):\n",
    "    sum_loss = 0\n",
    "    \n",
    "    for x, t in train_loader:\n",
    "        y = model(x)\n",
    "        loss = F.softmax_cross_entropy(y, t)\n",
    "        model.cleargrads()\n",
    "        loss.backward()\n",
    "        optimizer.update()\n",
    "        sum_loss += float(loss.data) * len(t)\n",
    "        \n",
    "    print('epoch: {}, loss: {:4f}'.format(\n",
    "        epoch + 1, sum_loss / len(train_set)\n",
    "    ))\n",
    "\n",
    "# 테스트셋 점수 확인\n",
    "test_set = dezero.datasets.MNIST(train=False)\n",
    "test_loader = DataLoader(test_set, batch_size)\n",
    "sum_acc = 0\n",
    "with dezero.no_grad():\n",
    "    for x, t in test_loader:\n",
    "        y = model(x)\n",
    "        acc = F.accuracy(y, t)\n",
    "        sum_acc += float(acc.data) * len(t)\n",
    "\n",
    "print('test accuracy: {:.4f}'.format(sum_acc / len(test_set)))\n",
    "\n",
    "# 매개변수 저장하기\n",
    "model.save_weights('my_mlp.npz')"
   ]
  },
  {
   "cell_type": "code",
   "execution_count": 9,
   "id": "2a323d63",
   "metadata": {},
   "outputs": [
    {
     "name": "stdout",
     "output_type": "stream",
     "text": [
      "test accuracy: 0.8403\n"
     ]
    }
   ],
   "source": [
    "model = MLP((1000, 10))\n",
    "\n",
    "# 매개변수 읽기\n",
    "if os.path.exists('my_mlp.npz'):\n",
    "    model.load_weights('my_mlp.npz')\n",
    "\n",
    "\n",
    "# 테스트셋 점수 확인\n",
    "test_set = dezero.datasets.MNIST(train=False)\n",
    "test_loader = DataLoader(test_set, batch_size)\n",
    "sum_acc = 0\n",
    "with dezero.no_grad():\n",
    "    for x, t in test_loader:\n",
    "        y = model(x)\n",
    "        acc = F.accuracy(y, t)\n",
    "        sum_acc += float(acc.data) * len(t)\n",
    "\n",
    "print('test accuracy: {:.4f}'.format(sum_acc / len(test_set)))"
   ]
  },
  {
   "cell_type": "code",
   "execution_count": null,
   "id": "88d3abae",
   "metadata": {},
   "outputs": [],
   "source": []
  }
 ],
 "metadata": {
  "kernelspec": {
   "display_name": ".venv",
   "language": "python",
   "name": "python3"
  },
  "language_info": {
   "codemirror_mode": {
    "name": "ipython",
    "version": 3
   },
   "file_extension": ".py",
   "mimetype": "text/x-python",
   "name": "python",
   "nbconvert_exporter": "python",
   "pygments_lexer": "ipython3",
   "version": "3.12.9"
  }
 },
 "nbformat": 4,
 "nbformat_minor": 5
}
