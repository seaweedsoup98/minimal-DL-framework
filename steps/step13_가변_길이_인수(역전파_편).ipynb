{
 "cells": [
  {
   "cell_type": "markdown",
   "metadata": {},
   "source": [
    "## 13단계: 가변 길이 인수(역전파 편)\n",
    "\n",
    "> 이번 단계에서는 가변 길이 인수에 대응하는 역전파를 구현합니다."
   ]
  },
  {
   "cell_type": "markdown",
   "metadata": {},
   "source": [
    "### 13.1 가변 길이 인수에 대응한 Add 클래스의 역전파\n",
    "\n",
    "`그림 13-1`과 같이 리스트나 튜플을 거치지 않고 인수와 결과를 직접 주고받도록 개선해보자.\n",
    "\n",
    "<img src=\"images/그림 13-1.png\" width=600/>\n",
    "\n",
    "위 그림을 수식으로 확인하면, $y = x_0 + x_1$일 때 미분하면 $\\frac{\\partial{y}}{\\partial{x_0}} = 1$, $\\frac{\\partial{y}}{\\partial{x_1}} = 1$이 된다."
   ]
  },
  {
   "cell_type": "code",
   "execution_count": 5,
   "metadata": {},
   "outputs": [],
   "source": [
    "# 필요 모듈 정의\n",
    "\n",
    "import numpy as np\n",
    "\n",
    "class Variable:\n",
    "    def __init__(self, data):\n",
    "        if not isinstance(data, (type(None), np.ndarray)):\n",
    "            raise TypeError(f'{type(data)}은(는) 지원하지 않습니다.')\n",
    "        \n",
    "        self.data = data\n",
    "        self.grad = None\n",
    "        self.creator = None\n",
    "\n",
    "    def set_creator(self, func):\n",
    "        self.creator = func\n",
    "    \n",
    "    def backward(self):\n",
    "        if self.grad is None:\n",
    "            self.grad = np.ones_like(self.data)\n",
    "        \n",
    "        funcs = [self.creator]\n",
    "        while funcs:\n",
    "            f = funcs.pop()\n",
    "            x, y = f.input, f.output\n",
    "            x.grad = f.backward(y.grad)\n",
    "            \n",
    "            if x.creator is not None:\n",
    "                funcs.append(x.creator)\n",
    "\n",
    "\n",
    "def as_array(x):\n",
    "    if np.isscalar(x):\n",
    "        return np.asarray(x)\n",
    "    return x\n",
    "\n",
    "\n",
    "class Function:\n",
    "    def __call__(self, *inputs):\n",
    "        xs = [x.data for x in inputs]\n",
    "        ys = self.forward(*xs)\n",
    "        if not isinstance(ys, tuple):\n",
    "            ys = (ys,)\n",
    "        outputs = [Variable(as_array(y)) for y in ys]\n",
    "        \n",
    "        for output in outputs:\n",
    "            output.set_creator(self)\n",
    "        self.inputs = inputs\n",
    "        self.outputs = outputs\n",
    "        \n",
    "        return outputs if len(outputs) > 1 else outputs[0]\n",
    "    \n",
    "    def forward(self, xs):\n",
    "        raise NotImplementedError()\n",
    "    \n",
    "    def backward(self, gys):\n",
    "        raise NotImplementedError()"
   ]
  },
  {
   "cell_type": "code",
   "execution_count": 6,
   "metadata": {},
   "outputs": [],
   "source": [
    "class Add(Function):\n",
    "    def forward(self, x0, x1):\n",
    "        y = x0 + x1\n",
    "        return y\n",
    "    \n",
    "    def backward(self, gy):\n",
    "        # 덧셈의 역전파는 입력이 1개, 출력이 2개이다.\n",
    "        # 이 부분의 대응을 위해 Variable 클래스를 수정해야 한다.\n",
    "        return gy, gy"
   ]
  },
  {
   "cell_type": "markdown",
   "metadata": {},
   "source": [
    "### 13.2 Variable 클래스 수정\n",
    "\n",
    "Add 클래스와 같이 입력과 출력이 여러 개인 함수의 backward 메서드 대응을 위해 Variable 클래스를 수정한다."
   ]
  },
  {
   "cell_type": "code",
   "execution_count": 7,
   "metadata": {},
   "outputs": [],
   "source": [
    "class Variable:\n",
    "    def __init__(self, data):\n",
    "        if not isinstance(data, (type(None), np.ndarray)):\n",
    "            raise TypeError(f'{type(data)}은(는) 지원하지 않습니다.')\n",
    "        \n",
    "        self.data = data\n",
    "        self.grad = None\n",
    "        self.creator = None\n",
    "\n",
    "    def set_creator(self, func):\n",
    "        self.creator = func\n",
    "    \n",
    "    def backward(self):\n",
    "        if self.grad is None:\n",
    "            self.grad = np.ones_like(self.data)\n",
    "        \n",
    "        funcs = [self.creator]\n",
    "        while funcs:\n",
    "            f = funcs.pop()\n",
    "            \n",
    "            # 기존 코드\n",
    "            # x, y = f.input, f.output  # 함수의 입출력이 1개임을 가정한다.\n",
    "            # x.grad = f.backward(y.grad)  # backward 메서드를 호출한다.\n",
    "            \n",
    "            # if x.creator is not None:\n",
    "            #     funcs.append(x.creator)\n",
    "            \n",
    "            # 수정 코드\n",
    "            gys = [output.grad for output in f.outputs]  # 1. 출력변수의 미분값들을 리스트에 담는다.\n",
    "            gxs = f.backward(*gys)  # 2. backward 메서드에 미분값들을 언팩(unpack)하여 넣어준다.\n",
    "            if not isinstance(gxs, tuple):  # 3. 만약 gxs가 튜플이 아니라면 튜플로 변환한다.\n",
    "                gxs = (gxs,)\n",
    "            \n",
    "            for x, gx in zip(f.inputs, gxs):  # 4.backward로 생성된 미분값을 입력변수의 grad에 저장한다.\n",
    "                # f.inputs[i]와 gxs[i]는 서로 대응 관계에 있다.\n",
    "                x.grad = gx\n",
    "\n",
    "                if x.creator is not None:\n",
    "                    funcs.append(x.creator)\n",
    "                    "
   ]
  },
  {
   "cell_type": "markdown",
   "metadata": {},
   "source": [
    "Q. 위 구현은 입력변수의 순서와 backward 메서드의 결과값의 순서가 동일함이 보장되어야 한다. \\\n",
    "이를 Function 인터페이스에서 자연스럽게 강제할 수 있도록 해야할까?"
   ]
  },
  {
   "cell_type": "markdown",
   "metadata": {},
   "source": [
    "### 13.3 Square 클래스 구현\n",
    "\n",
    "Function 클래스의 입력변수(*inputs)가 복수형(tuple)으로 변경되었으므로 해당 부분만 수정해준다."
   ]
  },
  {
   "cell_type": "code",
   "execution_count": 10,
   "metadata": {},
   "outputs": [
    {
     "name": "stdout",
     "output_type": "stream",
     "text": [
      "13.0\n",
      "4.0\n",
      "6.0\n"
     ]
    }
   ],
   "source": [
    "class Square(Function):\n",
    "    def forward(self, x):\n",
    "        y = x ** 2\n",
    "        return y\n",
    "    \n",
    "    def backward(self, gy):\n",
    "        # 기존 코드\n",
    "        # x = self.input.data\n",
    "        \n",
    "        # 수정 코드\n",
    "        x = self.inputs[0].data\n",
    "        gx = 2 * x * gy\n",
    "        return gx\n",
    "\n",
    "\n",
    "def add(x0, x1):\n",
    "    return Add()(x0, x1)\n",
    "\n",
    "def square(x):\n",
    "    return Square()(x)\n",
    "\n",
    "x = Variable(np.array(2.0))\n",
    "y = Variable(np.array(3.0))\n",
    "\n",
    "z = add(square(x), square(y))\n",
    "z.backward()\n",
    "print(z.data)\n",
    "print(x.grad)\n",
    "print(y.grad)"
   ]
  },
  {
   "cell_type": "markdown",
   "metadata": {},
   "source": [
    "보다시피 $z = x^2 + y^2$라는 계산의 순전파와 역전파가 정상 작동됨을 확인했다.\\\n",
    "이상으로 복수의 입출력에 대응한 자동 미분 구조를 완성했다. \\\n",
    "그러나 지금의 DeZero에는 몇 가지 문제가 있는데, 다음 단계에서는 이 문제들을 해결하겠다."
   ]
  }
 ],
 "metadata": {
  "kernelspec": {
   "display_name": ".venv",
   "language": "python",
   "name": "python3"
  },
  "language_info": {
   "codemirror_mode": {
    "name": "ipython",
    "version": 3
   },
   "file_extension": ".py",
   "mimetype": "text/x-python",
   "name": "python",
   "nbconvert_exporter": "python",
   "pygments_lexer": "ipython3",
   "version": "3.12.9"
  }
 },
 "nbformat": 4,
 "nbformat_minor": 2
}
