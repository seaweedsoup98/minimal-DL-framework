{
 "cells": [
  {
   "cell_type": "markdown",
   "id": "22096fcc",
   "metadata": {},
   "source": [
    "## 31단계: 고차 미분(이론 편)\n",
    "\n",
    "> 이전 단계에서는 현재의 DeZero 구현을 되돌아봤습니다. 요점은 다음과 같습니다.\n",
    "\n",
    "- 계산의 '연결'은 Function 클래스의 __call__ 메서드에서 만들어집니다.\n",
    "- 구체적인 순전파와 역전파 계산은 Function 클래스를 상속한 클래스의 forward 메서드와 backward 메서드로 처리합니다.\n",
    "\n",
    "> 여기서 주목할 점은 계산 그래프의 '연결'이 만들어지는 시점으로, 순전파를 계산할 때 만들어집니다. 다시 말해 역전파를 계산할 때는 계산 그래프가 만들어지지 않는데, 여기에 문제의 핵심이 있었습니다."
   ]
  },
  {
   "cell_type": "markdown",
   "id": "130bc698",
   "metadata": {},
   "source": [
    "### 31.1 역전파 계산\n",
    "\n",
    "현재는 역전파 계산에 `ndarray`를 사용하며 계산 그래프를 만들지 않는다. sin 함수를 기준으로 만약 역전파 계산 그래프를 만든다면 아래와 같을 것이다.\n",
    "\n",
    "<img src=\"images/그림 31-1.png\" width=200/>\n",
    "<br/>\n",
    "<img src=\"images/그림 31-2.png\" width=500/>"
   ]
  },
  {
   "cell_type": "markdown",
   "id": "ade73511",
   "metadata": {},
   "source": [
    "### 31.2 역전파로 계산 그래프 만들기\n",
    "\n",
    "`backward` 메서드에서 `ndarray`가 아닌 `Variable`을 사용하도록 하자.\n",
    "\n",
    "<img src=\"images/그림 31-3.png\" width=600/>\n",
    "\n",
    "위 그림과 같이 변경하면 $y = sin(x)$의 순전파와 역전파 계산 그래프가 다음과 같아진다.\n",
    "\n",
    "<img src=\"images/그림 31-4.png\" width=600/>\n",
    "\n",
    "좀 더 구체적으로는 `그림 31-2`를 참고하여, 다음과 같이 나타낼 수 있다.\n",
    "\n",
    "<img src=\"images/그림 31-5.png\" width=600/>\n"
   ]
  },
  {
   "cell_type": "markdown",
   "id": "481bf0d7",
   "metadata": {},
   "source": [
    "이상이 고차 미분을 계산하기 위한 전략이다. 다음 단계에서는 실제로 구현하겠다."
   ]
  }
 ],
 "metadata": {
  "kernelspec": {
   "display_name": ".venv",
   "language": "python",
   "name": "python3"
  },
  "language_info": {
   "codemirror_mode": {
    "name": "ipython",
    "version": 3
   },
   "file_extension": ".py",
   "mimetype": "text/x-python",
   "name": "python",
   "nbconvert_exporter": "python",
   "pygments_lexer": "ipython3",
   "version": "3.12.9"
  }
 },
 "nbformat": 4,
 "nbformat_minor": 5
}
