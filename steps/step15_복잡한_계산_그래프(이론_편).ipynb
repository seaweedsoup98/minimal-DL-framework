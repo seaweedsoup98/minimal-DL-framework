{
 "cells": [
  {
   "cell_type": "markdown",
   "metadata": {},
   "source": [
    "## 15단계: 복잡한 계산 그래프(이론 편)\n",
    "\n",
    "> 지금까지는 `그림 15-1`처럼 일렬로 늘어선 계산 그래프를 다뤘지만, \\\n",
    "앞으로는 DeZero가 `그림 15-2`와 같은 복잡한 계산 그래프도 만들 수 있어야 합니다. \\\n",
    "현재는 복잡한 계산 그래프를 다룰 수 없는데 15단계에서 그 이유와 해결방법을 알아봅시다.\n",
    "\n",
    "<img src=\"images/그림 15-1.png\" width=500/>\n",
    "<br/>\n",
    "<img src=\"images/그림 15-2.png\" width=500/>"
   ]
  },
  {
   "cell_type": "markdown",
   "metadata": {},
   "source": [
    "### 15.1 역전파의 올바른 순서\n",
    "\n",
    "아래와 같은 계산 그래프가 있다고 하자.\n",
    "\n",
    "<img src=\"images/그림 15-3.png\" width=500/>\n",
    "\n",
    "이 때, 변수 `a`의 미분값을 계산하기 위해서는 2개의 출력에서 역전파되는 미분값이 필요하다. \\\n",
    "따라서 올바른 역전파의 순서는 `그림 15-4`와 같아야 한다.\n",
    "\n",
    "<img src=\"images/그림 15-4.png\" width=550/>"
   ]
  },
  {
   "cell_type": "markdown",
   "metadata": {},
   "source": [
    "### 15.2 현재의 DeZero\n",
    "\n",
    "그러나 현재는 DFS 방식으로 그래프를 순회하고 있기 때문에 `그림 15-5`와 같은 순서로 역전파 흐름이 발생한다. \\\n",
    "이로 인해 함수의 처리 순서는 `D`, `C`, `A`, `B`, `A`가 된다. \\\n",
    "`A`의 역전파가 `B` 이전에 이뤄지는 것도 문제이고, `A`가 두 번 역전파 되는 것도 문제이다.\n",
    "\n",
    "<img src=\"images/그림 15-5.png\" width=550/>\n",
    "\n",
    "이 과정은 다음 그림들에서 자세히 알 수 있다.\n",
    "\n",
    "<img src=\"images/그림 15-6.png\" width=600/>\n",
    "<br/>\n",
    "<img src=\"images/그림 15-7.png\" width=600/>"
   ]
  },
  {
   "cell_type": "markdown",
   "metadata": {},
   "source": [
    "### 15.3 함수 우선순위\n",
    "\n",
    "그렇다면 이를 어떻게 해결할 수 있을까? \\\n",
    "일단, 계산 그래프를 위상 정렬(Topological Sort) 알고리즘 등으로 **'분석'**하여 노드들을 정렬할 수 있다. \\\n",
    "하지만 더 쉬운 방법으로, 순전파 시 생성되는 함수와 변수의 순서를 바탕으로 함수와 변수의 **'세대(generation)'**을 기록할 수 있다.\n",
    "\n",
    "<img src=\"images/그림 15-8.png\" width=600/>\n",
    "\n",
    "이렇게 '세대'를 기반으로 역전파를 처리하면 올바른 순서가 된다. \\\n",
    "다음 단계에서는 이 이론을 코드로 구현해보겠다."
   ]
  }
 ],
 "metadata": {
  "kernelspec": {
   "display_name": ".venv",
   "language": "python",
   "name": "python3"
  },
  "language_info": {
   "codemirror_mode": {
    "name": "ipython",
    "version": 3
   },
   "file_extension": ".py",
   "mimetype": "text/x-python",
   "name": "python",
   "nbconvert_exporter": "python",
   "pygments_lexer": "ipython3",
   "version": "3.12.9"
  }
 },
 "nbformat": 4,
 "nbformat_minor": 2
}
