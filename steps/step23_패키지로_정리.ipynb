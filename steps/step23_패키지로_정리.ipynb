{
 "cells": [
  {
   "cell_type": "markdown",
   "metadata": {},
   "source": [
    "## 23단계: 패키지로 정리\n",
    "\n",
    "> 지금까지는 단계마다 내용 전체를 파일 하나에 담았습니다. 그런데 어느덧 우리의 DeZero는 크게 '성장'했습니다. \\\n",
    "그래서 이번 단계에서는 지금까지의 성과를 재사용할 수 있도록 패키지로 정리할 생각입니다.\n",
    "\n",
    "참고로 파이썬에서는 '모듈', '패키지', '라이브러리'라는 용어를 사용하는데, 보통 다음의 의미로 통용됩니다.\n",
    "\n",
    "- **모듈**\n",
    "\n",
    "모듈은 파이썬 파일(.py)입니다. 특히 다른 파이썬 프로그램에서 임포트(import)하여 사용하는 것을 가정하고 만들어진 파이썬 파일을 '모듈'이라고 합니다.\n",
    "\n",
    "- **패키지**\n",
    "\n",
    "패키지는 여러 모듈을 묶은 것입니다. 패키지를 만들려면 먼저 디렉터리를 만들고 그 안에 모듈(.py)을 추가합니다.\n",
    "\n",
    "- **라이브러리**\n",
    "\n",
    "라이브러리는 여러 패키지를 묶은 것입니다. 그래서 하나 이상의 디렉터리로 구성되죠. 때로는 패키지를 가리켜 '라이브러리'라고 부르기도 합니다."
   ]
  },
  {
   "cell_type": "markdown",
   "metadata": {},
   "source": [
    "### 23.1 파일 구성\n",
    "\n",
    "```text\n",
    ".\n",
    "├── dezero/\n",
    "│   ├── __init__.py\n",
    "│   ├── core_simple.py\n",
    "│   └── ... (추후 추가 예정)\n",
    "│\n",
    "├── steps/\n",
    "│   └── ...\n",
    "│\n",
    "```"
   ]
  },
  {
   "cell_type": "markdown",
   "metadata": {},
   "source": [
    "### 23.2 코어 클래스로 옮기기\n",
    "\n",
    "step22의 코드들을 `core_simple.py`파일로 옮기자.\n",
    "\n",
    "**클래스**\n",
    "- Config\n",
    "- Variable\n",
    "- Function\n",
    "- Add(Function)\n",
    "- Mul(Function)\n",
    "- Neg\n",
    "- Sub\n",
    "- Div\n",
    "- Pow\n",
    "\n",
    "**함수**\n",
    "- using_config\n",
    "- no_grad\n",
    "- as_array\n",
    "- as_variable\n",
    "- add\n",
    "- mul\n",
    "- neg\n",
    "- sub\n",
    "- rsub\n",
    "- div\n",
    "- rdiv\n",
    "- pow"
   ]
  },
  {
   "cell_type": "code",
   "execution_count": 1,
   "metadata": {},
   "outputs": [
    {
     "data": {
      "text/plain": [
       "Variable(1.0)"
      ]
     },
     "execution_count": 1,
     "metadata": {},
     "output_type": "execute_result"
    }
   ],
   "source": [
    "# dezero 라이브러리를 import 경로에 추가해주기 위해 pip이나 poetry로 설치해준다.\n",
    "# pip install -e .\n",
    "# poetry install\n",
    "\n",
    "# 혹은 부모 디렉토리를 sys.path에 추가해준다.\n",
    "# import os, sys\n",
    "# sys.path.append(os.path.abspath('..'))\n",
    "\n",
    "import numpy as np\n",
    "from dezero.core_simple import Variable\n",
    "\n",
    "Variable(np.array(1.0))"
   ]
  },
  {
   "cell_type": "markdown",
   "metadata": {},
   "source": [
    "### 23.3 연산자 오버로드\n",
    "\n",
    "Variable의 연산자를 오버로드하는 함수 `setup_variable`을 정의하자.\n",
    "\n",
    "이후 `__init__.py`를 아래와 같이 작성하자.\n",
    "\n",
    "```python\n",
    "from dezero.core_simple import (\n",
    "    Variable,\n",
    "    Function,\n",
    "    using_config,\n",
    "    no_grad,\n",
    "    as_variable,\n",
    "    as_array,\n",
    "    setup_variable,\n",
    ")\n",
    "\n",
    "setup_variable()\n",
    "```"
   ]
  },
  {
   "cell_type": "markdown",
   "metadata": {},
   "source": [
    "### 23.4 실제 `__init__.py` 파일\n",
    "\n",
    "추후에 `core_simple.py`를 `core.py`로 대체할 것을 대비하여, `__init__.py`를 다음과 같이 수정한다.\n",
    "\n",
    "```python\n",
    "is_simple_core = True\n",
    "\n",
    "if is_simple_core:\n",
    "    from dezero.core_simple import (\n",
    "        Variable,\n",
    "        Function,\n",
    "        using_config,\n",
    "        no_grad,\n",
    "        as_variable,\n",
    "        as_array,\n",
    "        setup_variable,\n",
    "    )\n",
    "\n",
    "    setup_variable()\n",
    "\n",
    "else:\n",
    "    from dezero.core import *\n",
    "```"
   ]
  },
  {
   "cell_type": "markdown",
   "metadata": {},
   "source": [
    "### 23.5 dezero 임포트하기\n",
    "\n",
    "dezero 라이브러리를 import 경로에 추가해주기 위해 pip이나 poetry로 설치해준다.\n",
    "```bash\n",
    "pip install -e .\n",
    "\n",
    "혹은\n",
    "\n",
    "poetry install\n",
    "```\n",
    "\n",
    "설치를 생략한다면, 부모 디렉토리를 sys.path에 추가해줄 수 있다.\n",
    "```python\n",
    "# 파일의 맨 위에서 실행\n",
    "import os, sys\n",
    "sys.path.append(os.path.abspath('..'))\n",
    "```"
   ]
  }
 ],
 "metadata": {
  "kernelspec": {
   "display_name": ".venv",
   "language": "python",
   "name": "python3"
  },
  "language_info": {
   "codemirror_mode": {
    "name": "ipython",
    "version": 3
   },
   "file_extension": ".py",
   "mimetype": "text/x-python",
   "name": "python",
   "nbconvert_exporter": "python",
   "pygments_lexer": "ipython3",
   "version": "3.12.9"
  }
 },
 "nbformat": 4,
 "nbformat_minor": 2
}
