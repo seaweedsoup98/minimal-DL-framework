{
 "cells": [
  {
   "cell_type": "markdown",
   "metadata": {},
   "source": [
    "## 17단계: 메모리 관리와 순환 참조\n",
    "\n",
    "> DeZero는 교육용이기 때문에 성능은 다소 희생하였습니다. \\\n",
    "하지만 처리 속도와 메모리 사용량에 전혀 신경 쓰지 않는 것도 교육적으로 좋지는 않을 것 같습니다. \\\n",
    "이번 단계에서는 메모리 관리를 개선해보겠습니다."
   ]
  },
  {
   "cell_type": "markdown",
   "metadata": {},
   "source": [
    "### 17.1 메모리 관리\n",
    "\n",
    "파이썬은 필요 없어진 객체를 메모리에서 삭제해준다. \\\n",
    "파이썬(정확히는 CPython)의 메모리 관리 방식은 두 가지로 나뉘는데, 하나는 참조(reference) 수를 세는 방식이고, 다른 하나는 세대(generation)를 기준으로 쓸모 없어진 객체(garbage)를 회수(collection)하는 방식이다. \\\n",
    "이 책에서는 전자를 '참조 카운트'로, 후자를 'GC(Garbage Collection)'이라 부를 것이다.\n",
    "\n",
    "> 문헌에 따라 참조 카운트 방식의 메모리 관리도 GC의 일부로 보기도 한다.\n"
   ]
  },
  {
   "cell_type": "markdown",
   "metadata": {},
   "source": [
    "### 17.2 참조 카운트 방식의 메모리 관리\n",
    "\n",
    "참조 카운트는 구조가 간단하고 속도가 빠르다. \\\n",
    "모든 객체는 생성될 때 참조 카운트가 0으로 초기화되고, 다른 객체가 참조할 때마다 1씩 증가하고, 참조가 끊길 때마다 1씩 감소하여 다시 0이 되면 회수된다. \\\n",
    "참조 카운트가 증가하는 케이스의 예시는 다음과 같다.\n",
    "- 대입 연산자를 사용할 때\n",
    "- 함수에 인수로 전달할 때\n",
    "- 컨테이너 타입 객체(리스트 튜플, 클래스 등)에 추가할 때"
   ]
  },
  {
   "cell_type": "code",
   "execution_count": 2,
   "metadata": {},
   "outputs": [
    {
     "name": "stdout",
     "output_type": "stream",
     "text": [
      "<__main__.obj object at 0x7f9ff85ab170>\n"
     ]
    }
   ],
   "source": [
    "# 참조 카운트 의사코드 1\n",
    "\n",
    "class obj:\n",
    "    pass\n",
    "\n",
    "def f(x):\n",
    "    print(x)\n",
    "\n",
    "a = obj()  # 변수에 대입: 참조 카운트 1\n",
    "f(a)  # 함수에 전달: 함수 내에서는 참조 카운트 2\n",
    "# 함수 완료: 참고 카운트 1\n",
    "a = None  # 변수 대입 해제: 참조 카운트 0 -> 회수(collect)"
   ]
  },
  {
   "cell_type": "code",
   "execution_count": null,
   "metadata": {},
   "outputs": [],
   "source": [
    "# 참조 카운트 의사코드 2\n",
    "\n",
    "a = obj()  # 변수 대입: a.참조 1\n",
    "b = obj()  # 변수 대입: b.참조 1\n",
    "c = obj()  # 변수 대입: c.참조 1\n",
    "\n",
    "a.b = b  # a의 속성에 대입: b.참조 2\n",
    "b.c = c  # b의 속성에 대입: c.참조 2\n",
    "# --- [그림 17-1]의 첫번째 그림\n",
    "\n",
    "a = b = c = None  # 변수 할당 해제: a.참조 0, b.참조 1, c.참조 1\n",
    "# --- [그림 17-1]의 두번째 그림\n",
    "\n",
    "# a.참조 0 -> a 회수(collect) -> b.참조 0, c.참조 1\n",
    "# b.참조 0 -> b 회수(collect) -> c.참조 0\n",
    "# c.참조 0 -> c 회수(collect)"
   ]
  },
  {
   "cell_type": "markdown",
   "metadata": {},
   "source": [
    "<img src=\"images/그림 17-1.png\" width=550/>"
   ]
  },
  {
   "cell_type": "markdown",
   "metadata": {},
   "source": [
    "### 17.3 순환 참조\n",
    "\n",
    "먼저 의사코드를 통해 상황을 살펴보자."
   ]
  },
  {
   "cell_type": "code",
   "execution_count": 5,
   "metadata": {},
   "outputs": [],
   "source": [
    "# 참조 카운트 의사코드 3\n",
    "\n",
    "a = obj()  # 변수 대입: a.참조 1\n",
    "b = obj()  # 변수 대입: b.참조 1\n",
    "c = obj()  # 변수 대입: c.참조 1\n",
    "\n",
    "a.b = b  # a의 속성에 대입: b.참조 2\n",
    "b.c = c  # b의 속성에 대입: c.참조 2\n",
    "c.a = a  # c의 속성에 대입: a.참조 2\n",
    "# --- [그림 17-2]의 첫번째 그림\n",
    "\n",
    "a = b = c = None  # 변수 할당 해제: a.참조 1, b.참조 1, c.참조 1\n",
    "# --- [그림 17-2]의 두번째 그림"
   ]
  },
  {
   "cell_type": "markdown",
   "metadata": {},
   "source": [
    "<img src=\"images/그림 17-2.png\" width=550/>\n",
    "\n",
    "객체 a, b, c는 서로를 참조하기 때문에 자동으로 메모리에서 회수되지 않는다. 이를 해결하기 위해 GC(정확히는 '세대별 가비지 컬렉션(generational garbage collection)')가 등장한다.\n",
    "\n",
    "GC는 더욱 영리한 방식으로 불필요한 객체를 찾아낸다. (구조 설명은 생략) GC는 참조 카운트와 달리 메모리가 부족해지는 시점에 파이썬 인터프리터에 의해 자동으로 호출된다. 물론 `gc`모듈을 임포트하여 `gc.collect()`를 실행하여 명시적으로 호출할 수도 있다.\n",
    "\n",
    "하지만 GC에 메모리 관리를 일임하면 순환 참조로 인해 메모리 사용량이 커질 수 있는데, 머신러닝이나 딥러닝에서 메모리는 중요한 자원이므로 순환 참조를 만들지 않는 것이 좋다.\n",
    "\n",
    "다시 DeZero로 돌아와서, 현재 DeZero에는 사실 '변수'와 '함수'를 연결하는 지점에 순환 참조가 숨어 있다. 이를 파이썬의 약한 참조(weak reference) 모듈인 `weakref`로 해결해보자.\n",
    "\n",
    "<img src=\"images/그림 17-3.png\" width=350/>"
   ]
  },
  {
   "cell_type": "markdown",
   "metadata": {},
   "source": [
    "### 17.4 weakref 모듈\n",
    "\n",
    "`weakref` 모듈은 다른 객체를 참조하되 참조 카운트를 증가시키지 않는 여러 기능들을 지원한다."
   ]
  },
  {
   "cell_type": "code",
   "execution_count": null,
   "metadata": {},
   "outputs": [
    {
     "name": "stdout",
     "output_type": "stream",
     "text": [
      "<weakref at 0x7f9fe2e48ae0; to 'numpy.ndarray' at 0x7f9fe2eb17d0>\n",
      "[1 2 3]\n"
     ]
    }
   ],
   "source": [
    "import weakref\n",
    "import numpy as np\n",
    "\n",
    "a = np.array([1, 2, 3])  # a 변수에 할당: ndarray 객체 참조 카운트 1\n",
    "b = weakref.ref(a)  # weakref로 b에 할당: ndarray 객체 참조 카운트 1 (변화 없음)\n",
    "\n",
    "print(repr(b))\n",
    "\n",
    "print(b())"
   ]
  },
  {
   "cell_type": "markdown",
   "metadata": {},
   "source": [
    "`weakref.ref` 함수를 사용하면 원래 변수를 가리키는 약한 참조를 만들 수 있다. \\\n",
    "이 때 참조되는 객체에 접근하려면 호출('call')하여 불러올 수 있다."
   ]
  },
  {
   "cell_type": "code",
   "execution_count": null,
   "metadata": {},
   "outputs": [
    {
     "data": {
      "text/plain": [
       "<weakref at 0x7f9fe2e48ae0; dead>"
      ]
     },
     "execution_count": 10,
     "metadata": {},
     "output_type": "execute_result"
    }
   ],
   "source": [
    "a = None  # 변수 할당 해제: ndarray 객체 참조 카운트 0\n",
    "# ndarray 객체 삭제\n",
    "b"
   ]
  },
  {
   "cell_type": "markdown",
   "metadata": {},
   "source": [
    "ndarray 객체가 삭제되면 변수 b에서도 객체를 참조할 수 없게 된다.\n",
    "\n",
    "만약 `weakref.ref`의 함수 호출 방식이 불편하다면 `weakref.proxy`를 사용할 수도 있다."
   ]
  },
  {
   "cell_type": "code",
   "execution_count": null,
   "metadata": {},
   "outputs": [
    {
     "data": {
      "text/plain": [
       "(3,)"
      ]
     },
     "execution_count": 14,
     "metadata": {},
     "output_type": "execute_result"
    }
   ],
   "source": [
    "a = np.array([1, 2, 3])\n",
    "b = weakref.proxy(a)\n",
    "\n",
    "b.shape  # ref와 다르게 proxy는 바로 원본 객체의 속성과 메서드에 접근할 수 있다."
   ]
  },
  {
   "cell_type": "markdown",
   "metadata": {},
   "source": [
    "책과 다르게 DeZero에서는 `weakref.proxy`를 도입해보자."
   ]
  },
  {
   "cell_type": "code",
   "execution_count": 16,
   "metadata": {},
   "outputs": [],
   "source": [
    "import weakref\n",
    "from heapq import heappush, heappop\n",
    "\n",
    "\n",
    "def as_array(x):\n",
    "    if np.isscalar(x):\n",
    "        return np.asarray(x)\n",
    "    return x\n",
    "\n",
    "\n",
    "class Function:\n",
    "    def __call__(self, *inputs):\n",
    "        xs = [x.data for x in inputs]\n",
    "        ys = self.forward(*xs)\n",
    "        if not isinstance(ys, tuple):\n",
    "            ys = (ys,)\n",
    "        outputs = [Variable(as_array(y)) for y in ys]\n",
    "        \n",
    "        self.generation = max([x.generation for x in inputs])\n",
    "        for output in outputs:\n",
    "            output.set_creator(self)\n",
    "        self.inputs = inputs\n",
    "        \n",
    "        # self.outputs에 약한 참조 적용\n",
    "        # self.outputs = outputs  # 기존 코드\n",
    "        # self.outputs = [weakref.ref(output) for output in outputs]  # 책 버전 수정 코드\n",
    "        self.outputs = [weakref.proxy(output) for output in outputs]  # weakref.proxy 적용 코드\n",
    "        \n",
    "        return outputs if len(outputs) > 1 else outputs[0]\n",
    "\n",
    "    def __lt__(self, other):\n",
    "        return self.generation > other.generation\n",
    "    \n",
    "    def forward(self, xs):\n",
    "        raise NotImplementedError()\n",
    "    \n",
    "    def backward(self, gys):\n",
    "        raise NotImplementedError()\n",
    "\n",
    "\n",
    "\n",
    "class Variable:\n",
    "    def __init__(self, data):\n",
    "        if not isinstance(data, (type(None), np.ndarray)):\n",
    "            raise TypeError(f'{type(data)}은(는) 지원하지 않습니다.')\n",
    "        \n",
    "        self.data = data\n",
    "        self.grad = None\n",
    "        self.creator = None\n",
    "        self.generation = 0\n",
    "\n",
    "    def set_creator(self, func):\n",
    "        self.creator = func\n",
    "        self.generation = func.generation + 1\n",
    "    \n",
    "    def backward(self):\n",
    "        if self.grad is None:\n",
    "            self.grad = np.ones_like(self.data)\n",
    "        \n",
    "        funcs_heap = []\n",
    "        seen_set = set()\n",
    "        \n",
    "        def add_func(f):\n",
    "            if f not in seen_set:\n",
    "                heappush(funcs_heap, f)\n",
    "                seen_set.add(f)\n",
    "        \n",
    "        add_func(self.creator)\n",
    "        \n",
    "        while funcs_heap:\n",
    "            f = heappop(funcs_heap)\n",
    "            # output 참조 시 약한 참조 적용\n",
    "            # gys = [output.grad for output in f.outputs]  # 기존 코드\n",
    "            # gys = [output().grad for output in f.outputs]  # 책 버전 수정 코드\n",
    "            gys = [output.grad for output in f.outputs]  # weakref.proxy 적용 코드\n",
    "            \n",
    "            gxs = f.backward(*gys)\n",
    "            if not isinstance(gxs, tuple):\n",
    "                gxs = (gxs,)\n",
    "            \n",
    "            for x, gx in zip(f.inputs, gxs):\n",
    "                if x.grad is None:\n",
    "                    x.grad = gx\n",
    "                else:\n",
    "                    x.grad = x.grad + gx\n",
    "                \n",
    "                if x.creator is not None:\n",
    "                    add_func(x.creator)\n",
    "    \n",
    "    def cleargrad(self):\n",
    "        self.grad = None"
   ]
  },
  {
   "cell_type": "markdown",
   "metadata": {},
   "source": [
    "### 17.5 동작 확인"
   ]
  },
  {
   "cell_type": "code",
   "execution_count": 17,
   "metadata": {},
   "outputs": [],
   "source": [
    "# 필요 모듈 정의\n",
    "\n",
    "class Add(Function):\n",
    "    def forward(self, x0, x1):\n",
    "        y = x0 + x1\n",
    "        return y\n",
    "    \n",
    "    def backward(self, gy):\n",
    "        return gy, gy\n",
    "\n",
    "\n",
    "class Square(Function):\n",
    "    def forward(self, x):\n",
    "        y = x ** 2\n",
    "        return y\n",
    "    \n",
    "    def backward(self, gy):\n",
    "        x = self.inputs[0].data\n",
    "        gx = 2 * x * gy\n",
    "        return gx\n",
    "\n",
    "\n",
    "def add(x0, x1):\n",
    "    return Add()(x0, x1)\n",
    "\n",
    "def square(x):\n",
    "    return Square()(x)"
   ]
  },
  {
   "cell_type": "code",
   "execution_count": 18,
   "metadata": {},
   "outputs": [],
   "source": [
    "for i in range(10):\n",
    "    x = Variable(np.random.randn(10000))  # 거대한 데이터\n",
    "    y = square(square(square(x)))  # 복잡한 계산"
   ]
  },
  {
   "cell_type": "markdown",
   "metadata": {},
   "source": [
    "위 반복문은 다음과 같이 복잡한 참조 구조를 반복하여 생성한다.\n",
    "\n",
    "<img src=\"images/그림 17-4.png\" width=550/>\n",
    "\n",
    "예전 코드라면 순환참조가 발생하여 모든 객체가 메모리에 남아있었겠지만, 현재는 순환참조가 없어졌기 때문에 객체가 메모리에서 잘 회수된다. 이는 외부 라이브러리인 'memory profiler' 등을 사용하면 측정할 수 있다."
   ]
  }
 ],
 "metadata": {
  "kernelspec": {
   "display_name": ".venv",
   "language": "python",
   "name": "python3"
  },
  "language_info": {
   "codemirror_mode": {
    "name": "ipython",
    "version": 3
   },
   "file_extension": ".py",
   "mimetype": "text/x-python",
   "name": "python",
   "nbconvert_exporter": "python",
   "pygments_lexer": "ipython3",
   "version": "3.12.9"
  }
 },
 "nbformat": 4,
 "nbformat_minor": 2
}
