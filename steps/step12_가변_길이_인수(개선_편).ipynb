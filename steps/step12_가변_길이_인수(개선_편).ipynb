{
 "cells": [
  {
   "cell_type": "markdown",
   "metadata": {},
   "source": [
    "## 12단계: 가변 길이 인수(개선 편)\n",
    "\n",
    "> 이번 단계에서는 11단계의 함수를 개선해보겠습니다. \\\n",
    "첫 번째는 Add 클래스(혹은 다른 구체적인 함수 클래스)를 '사용하는 사람'을 위한 개선이고, \\\n",
    "두 번째는 '구현하는 사람'을 위한 개선입니다."
   ]
  },
  {
   "cell_type": "markdown",
   "metadata": {},
   "source": [
    "### 12.1 첫 번째 개선: 함수를 사용하기 쉽게\n",
    "\n",
    "'사용하는 사람'을 위해 개선해보자. \\\n",
    "`그림 12-1`과 같이 리스트나 튜플을 거치지 않고 인수와 결과를 직접 주고받도록 수정한다.\n",
    "\n",
    "<img src=\"images/그림 12-1.png\" width=600/>"
   ]
  },
  {
   "cell_type": "code",
   "execution_count": 1,
   "metadata": {},
   "outputs": [],
   "source": [
    "# 필요 모듈 정의\n",
    "\n",
    "import numpy as np\n",
    "\n",
    "class Variable:\n",
    "    def __init__(self, data):\n",
    "        if not isinstance(data, (type(None), np.ndarray)):\n",
    "            raise TypeError(f'{type(data)}은(는) 지원하지 않습니다.')\n",
    "        \n",
    "        self.data = data\n",
    "        self.grad = None\n",
    "        self.creator = None\n",
    "\n",
    "    def set_creator(self, func):\n",
    "        self.creator = func\n",
    "    \n",
    "    def backward(self):\n",
    "        if self.grad is None:\n",
    "            self.grad = np.ones_like(self.data)\n",
    "        \n",
    "        funcs = [self.creator]\n",
    "        while funcs:\n",
    "            f = funcs.pop()\n",
    "            x, y = f.input, f.output\n",
    "            x.grad = f.backward(y.grad)\n",
    "            \n",
    "            if x.creator is not None:\n",
    "                funcs.append(x.creator)\n",
    "\n",
    "\n",
    "def as_array(x):\n",
    "    if np.isscalar(x):\n",
    "        return np.asarray(x)\n",
    "    return x"
   ]
  },
  {
   "cell_type": "code",
   "execution_count": null,
   "metadata": {},
   "outputs": [
    {
     "name": "stdout",
     "output_type": "stream",
     "text": [
      "5\n"
     ]
    }
   ],
   "source": [
    "class Function:\n",
    "    def __call__(self, *inputs):  # 별표(*)를 붙여 가변인자로 만든다.\n",
    "        xs = [x.data for x in inputs]\n",
    "        ys = self.forward(xs)\n",
    "        outputs = [Variable(as_array(y)) for y in ys]\n",
    "        \n",
    "        for output in outputs:\n",
    "            output.set_creator(self)\n",
    "        self.inputs = inputs\n",
    "        self.outputs = outputs\n",
    "        \n",
    "        # 리스트의 원소가 하나라면 첫 번째 원소를 반환한다.\n",
    "        return outputs if len(outputs) > 1 else outputs[0]\n",
    "    \n",
    "    def forward(self, xs):\n",
    "        raise NotImplementedError()\n",
    "    \n",
    "    def backward(self, gys):\n",
    "        raise NotImplementedError()\n",
    "\n",
    "\n",
    "class Add(Function):\n",
    "    def forward(self, xs):\n",
    "        x0, x1 = xs\n",
    "        y = x0 + x1\n",
    "        return (y,)\n",
    "\n",
    "\n",
    "x0 = Variable(np.array(2))\n",
    "x1 = Variable(np.array(3))\n",
    "f = Add()\n",
    "y = f(x0, x1)\n",
    "print(y.data)"
   ]
  },
  {
   "cell_type": "markdown",
   "metadata": {},
   "source": [
    "### 12.2 두 번째 개선: 함수를 구현하기 쉽도록\n",
    "\n",
    "이번엔 '구현하는 사람'을 위한 개선이다. \\\n",
    "`그림 12-2`와 같이 Add 클래스의 forward문 역시 입력도 변수를 직접 받고 결과도 변수를 직접 돌려주도록 개선하자. "
   ]
  },
  {
   "cell_type": "code",
   "execution_count": 3,
   "metadata": {},
   "outputs": [],
   "source": [
    "class Function:\n",
    "    def __call__(self, *inputs):\n",
    "        xs = [x.data for x in inputs]\n",
    "        ys = self.forward(*xs)  # 별표(*)를 붙여 언팩(unpack)\n",
    "        if not isinstance(ys, tuple):  # 튜플이 아닌 경우 추가 지원\n",
    "            ys = (ys,)\n",
    "        outputs = [Variable(as_array(y)) for y in ys]\n",
    "        \n",
    "        for output in outputs:\n",
    "            output.set_creator(self)\n",
    "        self.inputs = inputs\n",
    "        self.outputs = outputs\n",
    "        \n",
    "        return outputs if len(outputs) > 1 else outputs[0]\n",
    "    \n",
    "    def forward(self, xs):\n",
    "        raise NotImplementedError()\n",
    "    \n",
    "    def backward(self, gys):\n",
    "        raise NotImplementedError()\n",
    "\n",
    "\n",
    "class Add(Function):\n",
    "    \n",
    "    # Add 클래스의 forward 구현이 쉬워짐짐\n",
    "    def forward(self, x0, x1):\n",
    "        y = x0 + x1\n",
    "        return y"
   ]
  },
  {
   "cell_type": "markdown",
   "metadata": {},
   "source": [
    "### 12.3 add 함수 구현\n",
    "\n",
    "마지막으로 Add 클래스를 '파이썬 함수'로 사용할 수 있는 코드를 추가한다."
   ]
  },
  {
   "cell_type": "code",
   "execution_count": null,
   "metadata": {},
   "outputs": [
    {
     "name": "stdout",
     "output_type": "stream",
     "text": [
      "5\n"
     ]
    }
   ],
   "source": [
    "def add(x0, x1):\n",
    "    return Add()(x0, x1)\n",
    "\n",
    "x0 = Variable(np.array(2))\n",
    "x1 = Variable(np.array(3))\n",
    "y = add(x0, x1)  # Add 클래스 생성 과정을 숨김김\n",
    "print(y.data)"
   ]
  },
  {
   "cell_type": "markdown",
   "metadata": {},
   "source": [
    "지금까지 순전파에 가변 길이 인수를 적용했다. \\\n",
    "다음 단계부터는 '역전파'의 가변 길이 인수를 구현한다."
   ]
  }
 ],
 "metadata": {
  "kernelspec": {
   "display_name": ".venv",
   "language": "python",
   "name": "python3"
  },
  "language_info": {
   "codemirror_mode": {
    "name": "ipython",
    "version": 3
   },
   "file_extension": ".py",
   "mimetype": "text/x-python",
   "name": "python",
   "nbconvert_exporter": "python",
   "pygments_lexer": "ipython3",
   "version": "3.12.9"
  }
 },
 "nbformat": 4,
 "nbformat_minor": 2
}
