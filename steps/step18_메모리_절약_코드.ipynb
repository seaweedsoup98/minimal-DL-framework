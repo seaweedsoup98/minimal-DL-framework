{
 "cells": [
  {
   "cell_type": "markdown",
   "metadata": {},
   "source": [
    "## 18단계: 메모리 절약 모드\n",
    "\n",
    "> 이번 단계에서는 DeZero의 메모리 사용을 개선할 수 있는 구조 두 가지를 도입합니다. \\\n",
    "첫 번째는 역전파 시 사용하는 메모리양을 줄이는 방법으로, 불필요한 미분 결과를 보관하지 않고 즉시 삭제합니다. \\\n",
    "두 번째는 '역전파가 필요 없는 경우용 모드'를 제공하는 것입니다. 이 모드에서는 불필요한 미분 계산을 생략합니다."
   ]
  },
  {
   "cell_type": "markdown",
   "metadata": {},
   "source": [
    "### 18.1 필요 없는 미분값 삭제\n",
    "\n",
    "현재의 DeZero는 모든 변수가 미분값을 변수에 저장해두고 있다. 하지만 보통 계산을 위한 임시 변수들의 미분값은 불필요하기 때문에, 중간 변수에 대해 미분값을 제거해줄 수 있는 모드를 추가한다.\n"
   ]
  },
  {
   "cell_type": "code",
   "execution_count": null,
   "metadata": {},
   "outputs": [
    {
     "name": "stdout",
     "output_type": "stream",
     "text": [
      "None None\n",
      "2.0 1.0\n"
     ]
    }
   ],
   "source": [
    "import weakref\n",
    "from heapq import heappush, heappop\n",
    "import numpy as np\n",
    "\n",
    "\n",
    "def as_array(x):\n",
    "    if np.isscalar(x):\n",
    "        return np.asarray(x)\n",
    "    return x\n",
    "\n",
    "\n",
    "class Function:\n",
    "    def __call__(self, *inputs):\n",
    "        xs = [x.data for x in inputs]\n",
    "        ys = self.forward(*xs)\n",
    "        if not isinstance(ys, tuple):\n",
    "            ys = (ys,)\n",
    "        outputs = [Variable(as_array(y)) for y in ys]\n",
    "        \n",
    "        self.generation = max([x.generation for x in inputs])\n",
    "        for output in outputs:\n",
    "            output.set_creator(self)\n",
    "        self.inputs = inputs\n",
    "        self.outputs = [weakref.proxy(output) for output in outputs]\n",
    "        \n",
    "        return outputs if len(outputs) > 1 else outputs[0]\n",
    "\n",
    "    def __lt__(self, other):\n",
    "        return self.generation > other.generation\n",
    "    \n",
    "    def forward(self, xs):\n",
    "        raise NotImplementedError()\n",
    "    \n",
    "    def backward(self, gys):\n",
    "        raise NotImplementedError()\n",
    "\n",
    "\n",
    "\n",
    "class Variable:\n",
    "    def __init__(self, data):\n",
    "        if not isinstance(data, (type(None), np.ndarray)):\n",
    "            raise TypeError(f'{type(data)}은(는) 지원하지 않습니다.')\n",
    "        \n",
    "        self.data = data\n",
    "        self.grad = None\n",
    "        self.creator = None\n",
    "        self.generation = 0\n",
    "\n",
    "    def set_creator(self, func):\n",
    "        self.creator = func\n",
    "        self.generation = func.generation + 1\n",
    "    \n",
    "    # 미분값 유지 여부 옵션 추가\n",
    "    def backward(self, retain_grad=False):\n",
    "        if self.grad is None:\n",
    "            self.grad = np.ones_like(self.data)\n",
    "        \n",
    "        funcs_heap = []\n",
    "        seen_set = set()\n",
    "        \n",
    "        def add_func(f):\n",
    "            if f not in seen_set:\n",
    "                heappush(funcs_heap, f)\n",
    "                seen_set.add(f)\n",
    "        \n",
    "        add_func(self.creator)\n",
    "        \n",
    "        while funcs_heap:\n",
    "            f = heappop(funcs_heap)\n",
    "            gys = [output.grad for output in f.outputs]\n",
    "            \n",
    "            gxs = f.backward(*gys)\n",
    "            if not isinstance(gxs, tuple):\n",
    "                gxs = (gxs,)\n",
    "            \n",
    "            for x, gx in zip(f.inputs, gxs):\n",
    "                if x.grad is None:\n",
    "                    x.grad = gx\n",
    "                else:\n",
    "                    x.grad = x.grad + gx\n",
    "                \n",
    "                if x.creator is not None:\n",
    "                    add_func(x.creator)\n",
    "            \n",
    "            # retain_grad == False이면 중간 변수의 미분값을 모두 삭제\n",
    "            if not retain_grad:\n",
    "                for y in f.outputs:\n",
    "                    # y().grad = None  # y는 약한 참조(weakref)\n",
    "                    y.grad = None  # weakref.proxy 적용 버전\n",
    "    \n",
    "    def cleargrad(self):\n",
    "        self.grad = None\n",
    "\n",
    "\n",
    "class Add(Function):\n",
    "    def forward(self, x0, x1):\n",
    "        y = x0 + x1\n",
    "        return y\n",
    "    \n",
    "    def backward(self, gy):\n",
    "        return gy, gy\n",
    "\n",
    "\n",
    "class Square(Function):\n",
    "    def forward(self, x):\n",
    "        y = x ** 2\n",
    "        return y\n",
    "    \n",
    "    def backward(self, gy):\n",
    "        x = self.inputs[0].data\n",
    "        gx = 2 * x * gy\n",
    "        return gx\n",
    "\n",
    "\n",
    "def add(x0, x1):\n",
    "    return Add()(x0, x1)\n",
    "\n",
    "def square(x):\n",
    "    return Square()(x)\n",
    "\n",
    "\n",
    "x0 = Variable(np.array(1.0))\n",
    "x1 = Variable(np.array(1.0))\n",
    "t = add(x0, x1)\n",
    "y = add(x0, t)\n",
    "y.backward()\n",
    "\n",
    "print(y.grad, t.grad)  # 중간 변수 미분값은 삭제됨\n",
    "print(x0.grad, x1.grad)  # 말단의 미분값은 유지"
   ]
  },
  {
   "cell_type": "markdown",
   "metadata": {},
   "source": [
    "### 18.2 Function 클래스 복습\n",
    "\n",
    "`Function` 클래스는 입력값들을 `self.inputs`라는 인스턴스 변수로 참조하고, 따라서 입력값의 참조 카운트를 증가시켜 변수들을 메모리에 유지시킨다. 이는 미분값을 계산할 때 필요하기 때문인데, 만약 미분값이 필요 없다면 (모델의 '추론' 과정 등) 오히려 메모리에서 회수하는게 나을 것이다."
   ]
  },
  {
   "cell_type": "markdown",
   "metadata": {},
   "source": [
    "### 18.3 Config 클래스를 활용한 모드 전환\n",
    "\n",
    "DeZero에 '역전파 활성 모드'와 '역전파 비활성 모드'를 전환하는 구조를 추가한다."
   ]
  },
  {
   "cell_type": "code",
   "execution_count": 16,
   "metadata": {},
   "outputs": [],
   "source": [
    "class Config:\n",
    "    enable_backprop = True  # True이면 역전파 활성 모드\n",
    "\n",
    "\n",
    "class Function:\n",
    "    def __call__(self, *inputs):\n",
    "        xs = [x.data for x in inputs]\n",
    "        ys = self.forward(*xs)\n",
    "        if not isinstance(ys, tuple):\n",
    "            ys = (ys,)\n",
    "        outputs = [Variable(as_array(y)) for y in ys]\n",
    "        \n",
    "        # 역전파 활성 모드 확인\n",
    "        if Config.enable_backprop:\n",
    "            self.generation = max([x.generation for x in inputs])  # Todo: __lt__와 충돌 가능\n",
    "            for output in outputs:\n",
    "                output.set_creator(self)\n",
    "            self.inputs = inputs\n",
    "            self.outputs = [weakref.proxy(output) for output in outputs]\n",
    "        \n",
    "        return outputs if len(outputs) > 1 else outputs[0]\n",
    "\n",
    "    def __lt__(self, other):\n",
    "        return self.generation > other.generation\n",
    "    \n",
    "    def forward(self, xs):\n",
    "        raise NotImplementedError()\n",
    "    \n",
    "    def backward(self, gys):\n",
    "        raise NotImplementedError()"
   ]
  },
  {
   "cell_type": "code",
   "execution_count": 21,
   "metadata": {},
   "outputs": [],
   "source": [
    "class Add(Function):\n",
    "    def forward(self, x0, x1):\n",
    "        y = x0 + x1\n",
    "        return y\n",
    "    \n",
    "    def backward(self, gy):\n",
    "        return gy, gy\n",
    "\n",
    "\n",
    "class Square(Function):\n",
    "    def forward(self, x):\n",
    "        y = x ** 2\n",
    "        return y\n",
    "    \n",
    "    def backward(self, gy):\n",
    "        x = self.inputs[0].data\n",
    "        gx = 2 * x * gy\n",
    "        return gx\n",
    "\n",
    "\n",
    "def add(x0, x1):\n",
    "    return Add()(x0, x1)\n",
    "\n",
    "def square(x):\n",
    "    return Square()(x)"
   ]
  },
  {
   "cell_type": "markdown",
   "metadata": {},
   "source": [
    "### 18.4 모드 전환\n",
    "\n",
    "모드 전환 예시"
   ]
  },
  {
   "cell_type": "code",
   "execution_count": 24,
   "metadata": {},
   "outputs": [],
   "source": [
    "# 역전파 활성 모드\n",
    "Config.enable_backprop = True\n",
    "x = Variable(np.ones((100, 100, 100)))\n",
    "y = square(square(square(x)))\n",
    "y.backward()\n",
    "# -> 중간 변수들이 유지되고 역전파가 가능함"
   ]
  },
  {
   "cell_type": "code",
   "execution_count": 25,
   "metadata": {},
   "outputs": [
    {
     "ename": "AttributeError",
     "evalue": "'NoneType' object has no attribute 'outputs'",
     "output_type": "error",
     "traceback": [
      "\u001b[0;31m---------------------------------------------------------------------------\u001b[0m",
      "\u001b[0;31mAttributeError\u001b[0m                            Traceback (most recent call last)",
      "Cell \u001b[0;32mIn[25], line 6\u001b[0m\n\u001b[1;32m      4\u001b[0m y \u001b[38;5;241m=\u001b[39m square(square(square(x)))\n\u001b[1;32m      5\u001b[0m \u001b[38;5;66;03m# -> 중간 변수들이 삭제되고 역전파가 불가능함\u001b[39;00m\n\u001b[0;32m----> 6\u001b[0m \u001b[43my\u001b[49m\u001b[38;5;241;43m.\u001b[39;49m\u001b[43mbackward\u001b[49m\u001b[43m(\u001b[49m\u001b[43m)\u001b[49m  \u001b[38;5;66;03m# 오류\u001b[39;00m\n",
      "Cell \u001b[0;32mIn[6], line 70\u001b[0m, in \u001b[0;36mVariable.backward\u001b[0;34m(self, retain_grad)\u001b[0m\n\u001b[1;32m     68\u001b[0m \u001b[38;5;28;01mwhile\u001b[39;00m funcs_heap:\n\u001b[1;32m     69\u001b[0m     f \u001b[38;5;241m=\u001b[39m heappop(funcs_heap)\n\u001b[0;32m---> 70\u001b[0m     gys \u001b[38;5;241m=\u001b[39m [output\u001b[38;5;241m.\u001b[39mgrad \u001b[38;5;28;01mfor\u001b[39;00m output \u001b[38;5;129;01min\u001b[39;00m \u001b[43mf\u001b[49m\u001b[38;5;241;43m.\u001b[39;49m\u001b[43moutputs\u001b[49m]\n\u001b[1;32m     72\u001b[0m     gxs \u001b[38;5;241m=\u001b[39m f\u001b[38;5;241m.\u001b[39mbackward(\u001b[38;5;241m*\u001b[39mgys)\n\u001b[1;32m     73\u001b[0m     \u001b[38;5;28;01mif\u001b[39;00m \u001b[38;5;129;01mnot\u001b[39;00m \u001b[38;5;28misinstance\u001b[39m(gxs, \u001b[38;5;28mtuple\u001b[39m):\n",
      "\u001b[0;31mAttributeError\u001b[0m: 'NoneType' object has no attribute 'outputs'"
     ]
    }
   ],
   "source": [
    "# 역전파 비활성 모드\n",
    "Config.enable_backprop = False\n",
    "x = Variable(np.ones((100, 100, 100)))\n",
    "y = square(square(square(x)))\n",
    "# -> 중간 변수들이 삭제되고 역전파가 불가능함\n",
    "y.backward()  # 오류"
   ]
  },
  {
   "cell_type": "markdown",
   "metadata": {},
   "source": [
    "### 18.5 with 문을 활용한 모드 전환\n",
    "\n",
    "파이썬에는 `with`문을 활용한 '컨텍스트 전환' 기능이 있다. 대표적으로 파일의 `open`과 `close`에 사용된다."
   ]
  },
  {
   "cell_type": "code",
   "execution_count": 26,
   "metadata": {},
   "outputs": [],
   "source": [
    "# 파일 수정 예시\n",
    "f = open('sample.txt', 'w')\n",
    "f.write('hello world!')\n",
    "f.close()  # 파일을 명시적으로 닫아줘야함\n",
    "# 파일을 닫지 않으면 자원도 낭비되고, 다른 프로세스가 같은 파일을 참고할 때 race condition도 발생 가능함\n",
    "# 또한 파일이 제대로 저장되지 않을 수도 있음 (파일 저장 버퍼 관련 문제)\n",
    "\n",
    "# with문 예시\n",
    "with open('sample.txt', 'w') as f:\n",
    "    f.write('hello world!')\n",
    "# with문을 빠져나오면 자동으로 f.close 메서드가 호출됨"
   ]
  },
  {
   "cell_type": "markdown",
   "metadata": {},
   "source": [
    "이를 활용하여 with문 안에 들어오면 역전파 비활성 모드, with문을 나오면 활성 모드로 전환해주는 함수를 만들어보자. 파이썬 내장 모듈인 `contextlib` 모듈을 이용하면 쉽게 구현이 가능하다."
   ]
  },
  {
   "cell_type": "code",
   "execution_count": null,
   "metadata": {},
   "outputs": [
    {
     "name": "stdout",
     "output_type": "stream",
     "text": [
      "start\n",
      "process...\n",
      "done\n"
     ]
    }
   ],
   "source": [
    "# contextlib 모듈 사용 테스트\n",
    "\n",
    "import contextlib\n",
    "\n",
    "@contextlib.contextmanager\n",
    "def config_test():\n",
    "    print('start')  # 전처리\n",
    "    # 오류 발생을 대비하여 try-finally 구문으로 감싸준다.\n",
    "    try:\n",
    "        yield\n",
    "    finally:\n",
    "        print('done')  # 후처리\n",
    "\n",
    "with config_test():\n",
    "    print('process...')"
   ]
  },
  {
   "cell_type": "code",
   "execution_count": null,
   "metadata": {},
   "outputs": [
    {
     "name": "stdout",
     "output_type": "stream",
     "text": [
      "with문 이전: True\n",
      "with문 내부: False\n",
      "with문 이후: True\n"
     ]
    }
   ],
   "source": [
    "# Config 값 임시 수정용 contextlib 코드\n",
    "\n",
    "import contextlib\n",
    "\n",
    "@contextlib.contextmanager\n",
    "def using_config(name, value):\n",
    "    old_value = getattr(Config, name)\n",
    "    setattr(Config, name, value)\n",
    "    try:\n",
    "        yield\n",
    "    finally:\n",
    "        setattr(Config, name, old_value)\n",
    "\n",
    "Config.enable_backprop = True\n",
    "print('with문 이전:', Config.enable_backprop)\n",
    "\n",
    "with using_config('enable_backprop', False):\n",
    "    print('with문 내부:', Config.enable_backprop)\n",
    "    x = Variable(np.array(2.0))\n",
    "    y = square(x)\n",
    "\n",
    "print('with문 이후:', Config.enable_backprop)"
   ]
  },
  {
   "cell_type": "code",
   "execution_count": null,
   "metadata": {},
   "outputs": [
    {
     "name": "stdout",
     "output_type": "stream",
     "text": [
      "with문 이전: True\n",
      "with문 내부: False\n",
      "with문 이후: True\n"
     ]
    }
   ],
   "source": [
    "# with문 활용한 역전파 임시 비활성 함수 구현\n",
    "\n",
    "def no_grad():\n",
    "    return using_config('enable_backprop', False)\n",
    "\n",
    "Config.enable_backprop = True\n",
    "print('with문 이전:', Config.enable_backprop)\n",
    "\n",
    "with no_grad():\n",
    "    print('with문 내부:', Config.enable_backprop)\n",
    "    x = Variable(np.array(2.0))\n",
    "    y = square(x)\n",
    "\n",
    "print('with문 이후:', Config.enable_backprop)"
   ]
  },
  {
   "cell_type": "markdown",
   "metadata": {},
   "source": [
    "이상으로 메모리 효율적인 DeZero 구현을 마친다."
   ]
  },
  {
   "cell_type": "markdown",
   "metadata": {},
   "source": []
  }
 ],
 "metadata": {
  "kernelspec": {
   "display_name": ".venv",
   "language": "python",
   "name": "python3"
  },
  "language_info": {
   "codemirror_mode": {
    "name": "ipython",
    "version": 3
   },
   "file_extension": ".py",
   "mimetype": "text/x-python",
   "name": "python",
   "nbconvert_exporter": "python",
   "pygments_lexer": "ipython3",
   "version": "3.12.9"
  }
 },
 "nbformat": 4,
 "nbformat_minor": 2
}
