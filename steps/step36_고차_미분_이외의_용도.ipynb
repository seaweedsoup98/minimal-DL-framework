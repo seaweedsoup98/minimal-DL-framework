{
 "cells": [
  {
   "cell_type": "markdown",
   "id": "22096fcc",
   "metadata": {},
   "source": [
    "## 36단계: 고차 미분 이외의 용도도\n",
    "\n",
    "> 지금까지 여러 단계를 거쳐 DeZero로 고차 미분을 계산해봤습니다. 본질적으로는 한 가지 일을 한 셈인데, 바로 역전파 시 수행되는 계산에 대해서도 '연결'을 만들도록 했습니다. 여기에서 중요한 점은 역전파의 계산 그래프를 만드는 기능 자체가 DeZero의 새로운 능력이라는 사실입니다. 고차 미분은 이 능력을 응용한 한 가지 예에 지나지 않습니다. 그래서 이번 단계에서는 새로워진 DeZero를 고차 미분 외에 또 어떻게 활용할 수 있는지 살펴보겠습니다."
   ]
  },
  {
   "cell_type": "markdown",
   "id": "a86e289a",
   "metadata": {},
   "source": [
    "### 36.1 double backprop의 용도\n",
    "\n",
    "2계도함수는 다음과 같은 문제에서도 사용이 가능하다.\n",
    "\n",
    "> 문제: 다음 두 식이 주어졌을 때 $x=2.0$에서 $x$에 대한 $z$의 미분 $\\frac{\\partial z}{\\partial x}$를 구하라. \\\n",
    "$ y = x^2 \\\\ z = \\left( \\frac{\\partial y}{\\partial x} \\right)^3 + y$\n",
    "\n",
    "\n",
    "위를 손으로 계산한다면 $\\frac{\\partial y}{\\partial x}$를 먼저 계산하여 $\\frac{\\partial z}{\\partial x} = 24x^2 + 2x$를 얻을 수 있다.\n",
    "\n",
    "여기에 $x=2.0$을 대입하면 `100.0`이라는 답을 얻을 수 있다."
   ]
  },
  {
   "cell_type": "code",
   "execution_count": 1,
   "id": "c5122abe",
   "metadata": {},
   "outputs": [
    {
     "name": "stdout",
     "output_type": "stream",
     "text": [
      "Variable(100.0)\n"
     ]
    }
   ],
   "source": [
    "import numpy as np\n",
    "from dezero import Variable\n",
    "\n",
    "x = Variable(np.array(2.0))\n",
    "y = x ** 2\n",
    "y.backward(create_graph=True)\n",
    "gx = x.grad\n",
    "x.cleargrad()\n",
    "\n",
    "z = gx ** 3 + y\n",
    "z.backward()\n",
    "print(x.grad)"
   ]
  },
  {
   "cell_type": "markdown",
   "id": "f2e8836c",
   "metadata": {},
   "source": [
    "### 36.2 딥러닝 연구에서의 사용 예\n",
    "\n",
    "다양한 예시가 있는데, 먼저 [WGAN-GP](https://arxiv.org/pdf/1704.00028) 논문에서는 `그림 36-1`의 수식을 최적화한다.\n",
    "\n",
    "<img src=\"images/그림 36-1.png\" width=500/>\n",
    "\n",
    "위 식에는 1차 미분값이 들어있고, 위 식을 최적화하기 위해 다시 미분하므로 결국 2차 미분값을 사용하게 된다.\n",
    "\n",
    "이 외에도 [MAML](https://arxiv.org/pdf/1703.03400)과 [TRPO](https://arxiv.org/pdf/1502.05477) 등 유명한 연구에서 double backprop 기능이 실제로 사용되고 있다."
   ]
  },
  {
   "cell_type": "markdown",
   "id": "5bf0ecef",
   "metadata": {},
   "source": [
    "이상으로 제 3고지를 마친다. 이번 고지에서는 DeZero의 역전파를 수정하여 double backprop이 가능하게 되었다. 다음 고지에서는 DeZero를 본격 신경망용으로 탈바꿈시킨다."
   ]
  }
 ],
 "metadata": {
  "kernelspec": {
   "display_name": ".venv",
   "language": "python",
   "name": "python3"
  },
  "language_info": {
   "codemirror_mode": {
    "name": "ipython",
    "version": 3
   },
   "file_extension": ".py",
   "mimetype": "text/x-python",
   "name": "python",
   "nbconvert_exporter": "python",
   "pygments_lexer": "ipython3",
   "version": "3.12.9"
  }
 },
 "nbformat": 4,
 "nbformat_minor": 5
}
