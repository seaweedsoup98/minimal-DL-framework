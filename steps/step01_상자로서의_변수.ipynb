{
 "cells": [
  {
   "cell_type": "markdown",
   "metadata": {},
   "source": [
    "## 1단계: 상자로서의 변수\n",
    "\n",
    "> 첫 번째 단계에서는 DeZero의 구성 요소인 '변수'를 만듭니다. \\\n",
    "변수는 DeZero에서 가장 중요한 개념입니다. \\\n",
    "이번 단계에서는 변수가 어떤 기능을 하는지 이해하고, 그 기능에 맞게 코드로 구현합니다."
   ]
  },
  {
   "cell_type": "markdown",
   "metadata": {},
   "source": [
    "### 1.1 변수란\n",
    "\n",
    "아래 상자와 같다.\n",
    "- 상자와 데이터는 별개\n",
    "- 상자에는 데이터가 들어감 (대입 or 할당)\n",
    "- 상자 속을 보면 데이터를 알 수 있음 (참조)\n",
    "\n",
    "<img src=\"images/그림 1-1.png\" width=450/>"
   ]
  },
  {
   "cell_type": "markdown",
   "metadata": {},
   "source": [
    "### 1.2 Variable 클래스 구현\n",
    "\n",
    "Variable 클래스가 변수의 역할을 하도록 구현한다."
   ]
  },
  {
   "cell_type": "code",
   "execution_count": 1,
   "metadata": {},
   "outputs": [
    {
     "name": "stdout",
     "output_type": "stream",
     "text": [
      "1.0\n"
     ]
    }
   ],
   "source": [
    "import numpy as np\n",
    "\n",
    "class Variable:\n",
    "    def __init__(self, data):\n",
    "        self.data = data\n",
    "\n",
    "data = np.array(1.0)\n",
    "x = Variable(data)\n",
    "# x는 Variable의 인스턴스, 즉 변수\n",
    "# 실제 데이터는 x 안에 있으며, x는 상자 역할임\n",
    "print(x.data)"
   ]
  },
  {
   "cell_type": "code",
   "execution_count": 2,
   "metadata": {},
   "outputs": [
    {
     "name": "stdout",
     "output_type": "stream",
     "text": [
      "2.0\n"
     ]
    }
   ],
   "source": [
    "# x의 데이터는 자유롭게 치환 가능하다.\n",
    "x.data = np.array(2.0)\n",
    "print(x.data)"
   ]
  },
  {
   "cell_type": "markdown",
   "metadata": {},
   "source": [
    "### 1.3 [보충] 넘파이의 다차원 배열\n",
    "\n",
    "다차원 배열은 숫자 등의 원소가 일정하게 모여 있는 데이터 구조이다.\n",
    "\n",
    "다차원 배열에서 원소의 순서에는 방향이 있고, 이 방향을 차원(dimension) 혹은 축(axis)이라고 한다.\n",
    "\n",
    "<img src=\"images/그림 1-2.png\" width=500/>\n",
    "\n",
    "[그림 1-2]에서 왼쪽부터 다음과 같이 부른다.\n",
    "- 0차원 배열: 스칼라(scaler)\n",
    "- 1차원 배열: 벡터(vector)\n",
    "- 2차원 배열: 행렬(matrix)"
   ]
  },
  {
   "cell_type": "code",
   "execution_count": 3,
   "metadata": {},
   "outputs": [
    {
     "data": {
      "text/plain": [
       "0"
      ]
     },
     "execution_count": 3,
     "metadata": {},
     "output_type": "execute_result"
    }
   ],
   "source": [
    "# ndim으로 차원을 확인할 수 있다.\n",
    "x = np.array(1)\n",
    "x.ndim"
   ]
  },
  {
   "cell_type": "code",
   "execution_count": 4,
   "metadata": {},
   "outputs": [
    {
     "data": {
      "text/plain": [
       "1"
      ]
     },
     "execution_count": 4,
     "metadata": {},
     "output_type": "execute_result"
    }
   ],
   "source": [
    "x = np.array([1, 2, 3])\n",
    "x.ndim"
   ]
  },
  {
   "cell_type": "code",
   "execution_count": 5,
   "metadata": {},
   "outputs": [
    {
     "data": {
      "text/plain": [
       "2"
      ]
     },
     "execution_count": 5,
     "metadata": {},
     "output_type": "execute_result"
    }
   ],
   "source": [
    "x = np.array([[1, 2, 3],\n",
    "              [4, 5, 6]])\n",
    "x.ndim"
   ]
  },
  {
   "cell_type": "code",
   "execution_count": null,
   "metadata": {},
   "outputs": [],
   "source": []
  }
 ],
 "metadata": {
  "kernelspec": {
   "display_name": ".venv",
   "language": "python",
   "name": "python3"
  },
  "language_info": {
   "codemirror_mode": {
    "name": "ipython",
    "version": 3
   },
   "file_extension": ".py",
   "mimetype": "text/x-python",
   "name": "python",
   "nbconvert_exporter": "python",
   "pygments_lexer": "ipython3",
   "version": "3.12.9"
  }
 },
 "nbformat": 4,
 "nbformat_minor": 2
}
