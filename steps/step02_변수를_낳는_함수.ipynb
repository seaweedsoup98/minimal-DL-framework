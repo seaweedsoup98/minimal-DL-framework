{
 "cells": [
  {
   "cell_type": "markdown",
   "metadata": {},
   "source": [
    "## 2단계: 변수를 낳는 함수\n",
    "\n",
    "> 앞 단계에서 Variable 클래스를 상자로 사용할 수 있게 했습니다. \\\n",
    "하지만 지금 이대로는 그냥 상자일뿐입니다. \\\n",
    "우리에겐 단순한 상자를 마법의 상자로 바꾸는 장치가 필요한데, 그 열쇠는 바로 '함수'입니다. \\\n",
    "이번 단계에서는 함수에 대해 생각해보겠습니다."
   ]
  },
  {
   "cell_type": "markdown",
   "metadata": {},
   "source": [
    "### 2.1 함수란\n",
    "\n",
    "어떤 변수로부터 다른 변수로의 대응 관계를 정한 것.\n",
    "\n",
    "<img src=\"images/그림 2-1.png\" width=300/>\n",
    "\n",
    "[그림 2-1]처럼 원(◯)과 사각형(□) 모양의 노드들을 화살표로 연결해 계산 과정을 표현한 그림을 계산 그래프(computational graph)라고 한다.\n",
    "\n",
    "책에서는 변수를 ◯으로, 함수를 □로 표시한다.\n"
   ]
  },
  {
   "cell_type": "markdown",
   "metadata": {},
   "source": [
    "### 2.2 Function 클래스 구현\n",
    "\n",
    "앞서 구현한 Variable 인스턴스를 다루는 Function 클래스를 구현한다. 이 때, 아래 두 가지를 주의한다.\n",
    "- Function 클래스는 Variable 인스턴스를 입력받아 Variable 인스턴스를 출력\n",
    "- Variable 인스턴스의 실제 데이터는 인스턴스 변수인 data에 있음"
   ]
  },
  {
   "cell_type": "code",
   "execution_count": 1,
   "metadata": {},
   "outputs": [
    {
     "name": "stdout",
     "output_type": "stream",
     "text": [
      "<class '__main__.Variable'>\n",
      "100\n"
     ]
    }
   ],
   "source": [
    "import numpy as np\n",
    "\n",
    "class Variable:\n",
    "    def __init__(self, data):\n",
    "        self.data = data\n",
    "\n",
    "class Function:\n",
    "    def __call__(self, input: Variable):\n",
    "        # __call__ 메서드는 인스턴스를 f(...) 형태로 사용할 수 있게 해줌\n",
    "        \n",
    "        x = input.data  # 데이터를 꺼낸다.\n",
    "        y = x ** 2  # 실제 계산\n",
    "        output = Variable(y)  # Variable 형태로 되돌린다.\n",
    "        return output\n",
    "    \n",
    "x = Variable(np.array(10))\n",
    "f = Function()\n",
    "y = f(x)\n",
    "\n",
    "print(type(y))\n",
    "print(y.data)"
   ]
  },
  {
   "cell_type": "markdown",
   "metadata": {},
   "source": [
    "### 2.3 Function 클래스 이용\n",
    "\n",
    "위에서 구현한 Function은 제곱 기능만 하므로 사실 Square라고 지칭하는게 낫다.\n",
    "\n",
    "앞으로 다른 함수들도 구현이 필요하므로, Function 클래스는 기반 클래스로 구현하고 공통 기능만 담아두는게 좋다.\n",
    "- Function 클래스는 기반 클래스로서, 모든 함수에 공통되는 기능을 구현함\n",
    "- 구체적인 함수는 Function을 상속하여 구현함"
   ]
  },
  {
   "cell_type": "code",
   "execution_count": 2,
   "metadata": {},
   "outputs": [
    {
     "name": "stdout",
     "output_type": "stream",
     "text": [
      "<class '__main__.Variable'>\n",
      "100\n"
     ]
    }
   ],
   "source": [
    "class Function:\n",
    "    def __call__(self, input: Variable):\n",
    "        x = input.data\n",
    "        y = self.forward(x) # 구체적인 계산은 forward 메서드에서 한다.\n",
    "        output = Variable(y)\n",
    "        return output\n",
    "\n",
    "    def forward(self, x):\n",
    "        # Function의 forward는 예외를 발생시키는데,\n",
    "        # 이는 Function 클래스를 상속하여 다른 클래스를 구현할 때\n",
    "        # forward 메서드를 꼭 구현해야 함을 알려주는 역할을 한다.\n",
    "        raise NotImplementedError\n",
    "\n",
    "class Square(Function):\n",
    "    def forward(self, x):\n",
    "        return x ** 2\n",
    "\n",
    "x = Variable(np.array(10))\n",
    "f = Square()\n",
    "y = f(x)\n",
    "print(type(y))\n",
    "print(y.data)"
   ]
  },
  {
   "cell_type": "code",
   "execution_count": null,
   "metadata": {},
   "outputs": [],
   "source": []
  }
 ],
 "metadata": {
  "kernelspec": {
   "display_name": ".venv",
   "language": "python",
   "name": "python3"
  },
  "language_info": {
   "codemirror_mode": {
    "name": "ipython",
    "version": 3
   },
   "file_extension": ".py",
   "mimetype": "text/x-python",
   "name": "python",
   "nbconvert_exporter": "python",
   "pygments_lexer": "ipython3",
   "version": "3.12.9"
  }
 },
 "nbformat": 4,
 "nbformat_minor": 2
}
