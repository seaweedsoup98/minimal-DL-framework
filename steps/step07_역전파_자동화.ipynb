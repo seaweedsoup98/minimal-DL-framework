{
 "cells": [
  {
   "cell_type": "markdown",
   "metadata": {},
   "source": [
    "## 7단계: 역전파 자동화\n",
    "\n",
    "> 역전파 코드를 직접 작성하면 실수가 생길 수 있고, 무엇보다 지루할 것입니다. \\\n",
    "그래서 이제부터 역전파를 자동화하려 합니다. \\\n",
    "더 정확히 말하면, 일반적인 계산(순전파)을 한 번만 해주면 어떤 계산이라도 상관없이 역전파가 자동으로 이루어지는 구조를 만들 것입니다. \\\n",
    "두둥! 지금부터가 바로 Define-by-Run의 핵심을 건드리는 내용입니다!"
   ]
  },
  {
   "cell_type": "markdown",
   "metadata": {},
   "source": [
    "### 7.1 역전파 자동화의 시작\n",
    "\n",
    "우선 역전파 자동화를 위해 변수와 함수의 '관계'를 이해해보자.\n",
    "\n",
    "함수 입장에서 변수는 '입력'과 '출력'에 쓰인다.\n",
    "\n",
    "변수는 함수에 의해 '만들어진다'. (창조자인 함수가 존재하지 않으면 사용자에 의해 만들어졌다 간주하자)\n",
    "\n",
    "이러한 관계는 아래 그림으로 나타낼 수 있다. (점선은 참조(reference)를 뜻함)\n",
    "\n",
    "<img src=\"images/그림 7-2.png\" width=600/>\n",
    "\n",
    "이를 코드에 녹여보자."
   ]
  },
  {
   "cell_type": "code",
   "execution_count": 1,
   "metadata": {},
   "outputs": [],
   "source": [
    "class Variable:\n",
    "    def __init__(self, data):\n",
    "        self.data = data\n",
    "        self.grad = None\n",
    "        self.creator = None\n",
    "\n",
    "    def set_creator(self, func):\n",
    "        self.creator = func\n",
    "\n",
    "\n",
    "class Function:\n",
    "    def __call__(self, input):\n",
    "        x = input.data\n",
    "        y = self.forward(x)\n",
    "        output = Variable(y)\n",
    "        output.set_creator(self)  # 출력 변수에 창조자 설정\n",
    "        self.input = input\n",
    "        self.output = output  # 출력도 저장한다. -> '연결'을 동적으로 만드는 기법의 핵심\n",
    "        return output"
   ]
  },
  {
   "cell_type": "code",
   "execution_count": 2,
   "metadata": {},
   "outputs": [],
   "source": [
    "# 필요 모듈 정의\n",
    "\n",
    "import numpy as np\n",
    "\n",
    "class Square(Function):\n",
    "    def forward(self, x):\n",
    "        y = x ** 2\n",
    "        return y\n",
    "    \n",
    "    def backward(self, gy):\n",
    "        x = self.input.data\n",
    "        gx = 2 * x * gy\n",
    "        return gx\n",
    "\n",
    "\n",
    "class Exp(Function):\n",
    "    def forward(self, x):\n",
    "        y = np.exp(x)\n",
    "        return y\n",
    "    \n",
    "    def backward(self, gy):\n",
    "        x = self.input.data\n",
    "        gx = np.exp(x) * gy\n",
    "        return gx"
   ]
  },
  {
   "cell_type": "code",
   "execution_count": null,
   "metadata": {},
   "outputs": [],
   "source": [
    "# 이와 같이 '연결'된 Variable과 Function이 있다면\n",
    "# 계산 그래프를 거꾸로 거슬러 올라갈 수 있다.\n",
    "A = Square()\n",
    "B = Exp()\n",
    "C = Square()\n",
    "\n",
    "x = Variable(np.array(0.5))\n",
    "a = A(x)\n",
    "b = B(a)\n",
    "y = C(b)\n",
    "\n",
    "# 계산 그래프의 노드들을 거꾸로 거슬러 올라간다.\n",
    "assert y.creator == C  # assert 문은 True가 아니면 AssertionError 발생\n",
    "assert y.creator.input == b\n",
    "assert y.creator.input.creator == B\n",
    "assert y.creator.input.creator.input == a\n",
    "assert y.creator.input.creator.input.creator == A\n",
    "assert y.creator.input.creator.input.creator.input == x"
   ]
  },
  {
   "cell_type": "markdown",
   "metadata": {},
   "source": [
    "위의 관계는 다음 그림으로 나타낼 수 있다.\n",
    "\n",
    "<img src=\"images/그림 7-3.png\" width=600/>\n",
    "\n",
    "중요한 점은 위 계산 그래프는 실제로 계산을 수행하는 시점(순전파 시점)에 만들어진다는 것이다.\n",
    "\n",
    "이러한 특성을 Define-by-Run이라 한다.\n",
    "\n",
    "또한 위 계산 그래프처럼 노드들의 연결로 이루어진 데이터 구조를 '링크드 리스트(linked list)'라고 한다."
   ]
  },
  {
   "cell_type": "markdown",
   "metadata": {},
   "source": [
    "### 7.2 역전파 도전!\n",
    "\n",
    "y에서 b까지의 역전파 구현\n",
    "\n",
    "<img src=\"images/그림 p77_01.png\" width=600/>"
   ]
  },
  {
   "cell_type": "code",
   "execution_count": 5,
   "metadata": {},
   "outputs": [],
   "source": [
    "y.grad = np.array(1.0)\n",
    "\n",
    "C = y.creator  # 1. 함수를 가져온다.\n",
    "b = C.input  # 2. 함수의 입력을 가져온다.\n",
    "b.grad = C.backward(y.grad)  # 3. 함수의 backward 메서드를 호출한다."
   ]
  },
  {
   "cell_type": "markdown",
   "metadata": {},
   "source": [
    "b에서 a까지의 역전파 구현\n",
    "\n",
    "<img src=\"images/그림 p77_02.png\" width=600/>"
   ]
  },
  {
   "cell_type": "code",
   "execution_count": 6,
   "metadata": {},
   "outputs": [],
   "source": [
    "B = b.creator  # 1. 함수를 가져온다.\n",
    "a = B.input  # 2. 함수의 입력을 가져온다.\n",
    "a.grad = B.backward(b.grad)  # 3. 함수의 backward 메서드를 호출한다."
   ]
  },
  {
   "cell_type": "markdown",
   "metadata": {},
   "source": [
    "a에서 x까지의 역전파 구현\n",
    "\n",
    "<img src=\"images/그림 p77_03.png\" width=600/>"
   ]
  },
  {
   "cell_type": "code",
   "execution_count": 8,
   "metadata": {},
   "outputs": [
    {
     "name": "stdout",
     "output_type": "stream",
     "text": [
      "3.297442541400256\n"
     ]
    }
   ],
   "source": [
    "A = a.creator  # 1. 함수를 가져온다.\n",
    "x = A.input  # 2. 함수의 입력을 가져온다.\n",
    "x.grad = A.backward(a.grad)  # 3. 함수의 backward 메서드를 호출한다.\n",
    "\n",
    "# 역전파 구현 완료\n",
    "print(x.grad)"
   ]
  },
  {
   "cell_type": "markdown",
   "metadata": {},
   "source": [
    "### 7.3 backward 메서드 추가\n",
    "\n",
    "방금의 역전파 코드는 똑같은 처리가 반복되었다.\n",
    "\n",
    "이를 자동화할 수 있도록 Variable 클래스에 backward 메서드를 추가한다."
   ]
  },
  {
   "cell_type": "code",
   "execution_count": 9,
   "metadata": {},
   "outputs": [],
   "source": [
    "class Variable:\n",
    "    def __init__(self, data):\n",
    "        self.data = data\n",
    "        self.grad = None\n",
    "        self.creator = None\n",
    "\n",
    "    def set_creator(self, func):\n",
    "        self.creator = func\n",
    "    \n",
    "    def backward(self):\n",
    "        f = self.creator  # 1. 함수를 가져온다.\n",
    "        if f is not None:\n",
    "            x = f.input  # 2. 함수의 입력을 가져온다.\n",
    "            x.grad = f.backward(self.grad)  # 3. 함수의 backward 메서드를 호출한다.\n",
    "            x.backward()  # 하나 앞 변수의 backward 메서드를 호출한다. (재귀)"
   ]
  },
  {
   "cell_type": "markdown",
   "metadata": {},
   "source": [
    "Variable의 backward 메서드는 지금까지의 처리 흐름과 거의 동일하다.\n",
    "1. Variable.creator에서 함수 가져옴\n",
    "2. 함수의 입력 변수 가져옴\n",
    "3. 함수의 backward 메서드를 호출함\n",
    "4. 하나 앞 변수의 backward 메서드를 호출함\n",
    "\n",
    "이런 식으로 각 변수의 backward 메서드가 재귀적으로 호출됨.\n",
    "\n",
    "(Variable.creator가 None이면 역전파가 중단됨)\n",
    "\n",
    "이제 자동화된 역전파를 확인해보자."
   ]
  },
  {
   "cell_type": "code",
   "execution_count": 10,
   "metadata": {},
   "outputs": [
    {
     "name": "stdout",
     "output_type": "stream",
     "text": [
      "3.297442541400256\n"
     ]
    }
   ],
   "source": [
    "A = Square()\n",
    "B = Exp()\n",
    "C = Square()\n",
    "\n",
    "x = Variable(np.array(0.5))\n",
    "a = A(x)\n",
    "b = B(a)\n",
    "y = C(b)\n",
    "\n",
    "# 역전파\n",
    "y.grad = np.array(1.0)\n",
    "y.backward()\n",
    "print(x.grad)"
   ]
  }
 ],
 "metadata": {
  "kernelspec": {
   "display_name": ".venv",
   "language": "python",
   "name": "python3"
  },
  "language_info": {
   "codemirror_mode": {
    "name": "ipython",
    "version": 3
   },
   "file_extension": ".py",
   "mimetype": "text/x-python",
   "name": "python",
   "nbconvert_exporter": "python",
   "pygments_lexer": "ipython3",
   "version": "3.12.9"
  }
 },
 "nbformat": 4,
 "nbformat_minor": 2
}
