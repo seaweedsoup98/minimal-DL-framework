{
 "cells": [
  {
   "cell_type": "markdown",
   "id": "22096fcc",
   "metadata": {},
   "source": [
    "## 30단계: 고차 미분(준비 편)\n",
    "\n",
    "> 현재의 DeZero는 미분을 자동으로 계산할 수 있지만 1차 미분 한정입니다. 그래서 이번 단계에서는 2차 미분도 자동으로 계산할 수 있도록, 나아가 3차 미분, 4차 미분, ... 형태의 모든 고차 미분까지 자동으로 계산할 수 있도록 DeZero를 확장할 것입니다.\n",
    "\n",
    "2차 미분 구현에 앞서, `Variable` 클래스와 `Function` 클래스를 복습해보자."
   ]
  },
  {
   "cell_type": "markdown",
   "id": "130bc698",
   "metadata": {},
   "source": [
    "### 30.1 확인 1: Variable 인스턴스 변수\n",
    "\n",
    "현재 Variable은 data와 grad 모두 ndarray 인스턴스를 저장한다.\n",
    "\n",
    "<img src=\"images/그림 30-1.png\" width=250/>\n",
    "\n",
    "여기서 `x = Variable(np.array(2.0))`을 실행하면 아래 그림의 왼쪽과 같다. \\\n",
    "추가로 `x.backward()` 등을 실행하면 아래 그림의 오른쪽과 같은 상태가 된다.\n",
    "\n",
    "<img src=\"images/그림 30-2.png\" width=450/>\n"
   ]
  },
  {
   "cell_type": "markdown",
   "id": "ade73511",
   "metadata": {},
   "source": [
    "### 30.2 확인 2: Function 클래스\n",
    "\n",
    "Function 클래스를 호출하면 계산 후 출력 변수를 생성하고 약한 참조로 연결하며, 입력 변수는 내부에 저장한다.\n",
    "\n",
    "<img src=\"images/그림 30-3.png\" width=600/>"
   ]
  },
  {
   "cell_type": "markdown",
   "id": "c8547f50",
   "metadata": {},
   "source": [
    "### 30.3 확인 3: Variable 클래스의 역전파\n",
    "\n",
    "마지막으로 역전파의 경우, 출력 변수에서 `grad`를 가져와 backward 계산을 수행한다. 이후 계산 결과를 입력 변수의 `grad`에 저장한다.\n",
    "\n",
    "<img src=\"images/그림 30-4.png\" width=600/>"
   ]
  },
  {
   "cell_type": "markdown",
   "id": "7f97c24c",
   "metadata": {},
   "source": [
    "이상 현재의 DeZero에 의한 순전파와 역전파 구현 방식을 확인했다. 다음 단계에서는 고차 미분을 계산할 수 있도록 현재의 DeZero를 개선하겠다."
   ]
  }
 ],
 "metadata": {
  "kernelspec": {
   "display_name": ".venv",
   "language": "python",
   "name": "python3"
  },
  "language_info": {
   "codemirror_mode": {
    "name": "ipython",
    "version": 3
   },
   "file_extension": ".py",
   "mimetype": "text/x-python",
   "name": "python",
   "nbconvert_exporter": "python",
   "pygments_lexer": "ipython3",
   "version": "3.12.9"
  }
 },
 "nbformat": 4,
 "nbformat_minor": 5
}
