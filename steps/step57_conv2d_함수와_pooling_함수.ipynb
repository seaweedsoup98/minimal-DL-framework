{
 "cells": [
  {
   "cell_type": "markdown",
   "id": "22096fcc",
   "metadata": {},
   "source": [
    "## 57단계: conv2d 함수와 pooling 함수\n",
    "\n",
    "> ."
   ]
  },
  {
   "cell_type": "markdown",
   "id": "a86e289a",
   "metadata": {},
   "source": [
    "### 57.1 im2col에 의한 전개\n",
    "\n",
    "im2col 함수를 구현하여 아래와 같이 합성곱 계산이 편리하도록 입력 데이터를 펼쳐준다.\n",
    "\n",
    "<img src=\"images/그림 57-1.png\" width=600/>\n",
    "\n",
    "이후 펼쳐진 데이터와 커널의 행렬 곱을 계산하여 출력값을 계산한다.\n",
    "\n",
    "<img src=\"images/그림 57-2.png\" width=600/>"
   ]
  },
  {
   "cell_type": "markdown",
   "id": "a434b4c1",
   "metadata": {},
   "source": [
    "### 57.2 conv2d 함수 구현\n",
    "\n",
    "이 책에서는 im2col 함수를 블랙박스처럼 사용한다.\n",
    "\n",
    "함수의 각 파라미터는 아래 표를 참고한다.\n",
    "\n",
    "<img src=\"images/표 57-1.png\" width=500/>\n",
    "\n",
    "kernel_size가 int면 높이와 너비를 동일하게, (int, int)면 (높이, 너비)로 해석한다. (stride, pad도 동일)"
   ]
  },
  {
   "cell_type": "code",
   "execution_count": 1,
   "id": "49c0363e",
   "metadata": {},
   "outputs": [
    {
     "name": "stdout",
     "output_type": "stream",
     "text": [
      "(9, 75)\n",
      "(90, 75)\n"
     ]
    }
   ],
   "source": [
    "import numpy as np\n",
    "import dezero.functions as F\n",
    "\n",
    "x1 = np.random.rand(1, 3, 7, 7)  # 배치 크기 = 1\n",
    "col1 = F.im2col(x1, kernel_size=5, stride=1, pad=0, to_matrix=True)\n",
    "print(col1.shape)\n",
    "\n",
    "x2 = np.random.rand(10, 3, 7, 7)  # 배치 크기 = 10\n",
    "kernel_size = (5, 5)\n",
    "stride = (1, 1)\n",
    "pad = (0, 0)\n",
    "col2 = F.im2col(x2, kernel_size, stride, pad, to_matrix=True)\n",
    "print(col2.shape)"
   ]
  },
  {
   "cell_type": "markdown",
   "id": "587ad36e",
   "metadata": {},
   "source": [
    "im2col 함수를 사용한 합성곱 연산 함수를 구현하기 전, `pair`라는 편의 함수를 구현한다."
   ]
  },
  {
   "cell_type": "code",
   "execution_count": 2,
   "id": "d8bb1917",
   "metadata": {},
   "outputs": [],
   "source": [
    "# dezero/utils.py\n",
    "def pair(x):\n",
    "    if isinstance(x, int):\n",
    "        return (x, x)\n",
    "    elif isinstance(x, tuple):\n",
    "        assert len(x) == 2\n",
    "        return x\n",
    "    else:\n",
    "        raise ValueError"
   ]
  },
  {
   "cell_type": "code",
   "execution_count": 3,
   "id": "3d6f80e7",
   "metadata": {},
   "outputs": [
    {
     "name": "stdout",
     "output_type": "stream",
     "text": [
      "(1, 1)\n",
      "(1, 2)\n"
     ]
    }
   ],
   "source": [
    "from dezero.utils import pair\n",
    "\n",
    "print(pair(1))\n",
    "print(pair((1, 2)))"
   ]
  },
  {
   "cell_type": "markdown",
   "id": "d73300da",
   "metadata": {},
   "source": [
    "이제 합성곱 연산을 수행하는 함수 `conv2d_simple`을 구현한다."
   ]
  },
  {
   "cell_type": "code",
   "execution_count": 4,
   "id": "bd5cb0d5",
   "metadata": {},
   "outputs": [],
   "source": [
    "# dezero/functions_conv.py\n",
    "from dezero.core import as_variable\n",
    "from dezero.functions import im2col, linear\n",
    "from dezero.utils import pair, get_conv_outsize\n",
    "\n",
    "def conv2d_simple(x, W, b=None, stride=1, pad=0):\n",
    "    x, W = as_variable(x), as_variable(W)\n",
    "\n",
    "    Weight = W\n",
    "    N, C, H, W = x.shape\n",
    "    OC, C, KH, KW = Weight.shape\n",
    "    SH, SW = pair(stride)\n",
    "    PH, PW = pair(pad)\n",
    "    OH = get_conv_outsize(H, KH, SH, PH)\n",
    "    OW = get_conv_outsize(W, KW, SW, PW)\n",
    "\n",
    "    col = im2col(x, (KH, KW), stride, pad, to_matrix=True)  # 입력 데이터 펼치기\n",
    "    Weight = Weight.reshape(OC, -1).transpose()  # 커널 Weight 펼친 후 transpose\n",
    "    t = linear(col, Weight, b)  # 행렬 곱 계산\n",
    "    y = t.reshape(N, OH, OW, OC).transpose(0, 3, 1, 2)  # 출력 shape 조정\n",
    "    return y"
   ]
  },
  {
   "cell_type": "markdown",
   "id": "a1c30cb2",
   "metadata": {},
   "source": [
    "<img src=\"images/그림 57-3.png\" width=500/>"
   ]
  },
  {
   "cell_type": "code",
   "execution_count": 5,
   "id": "f9d3a568",
   "metadata": {},
   "outputs": [
    {
     "name": "stdout",
     "output_type": "stream",
     "text": [
      "(1, 8, 15, 15)\n",
      "(1, 5, 15, 15)\n"
     ]
    }
   ],
   "source": [
    "from dezero import Variable\n",
    "\n",
    "N, C, H, W = 1, 5, 15, 15\n",
    "OC, (KH, KW) = 8, (3, 3)\n",
    "\n",
    "x = Variable(np.random.randn(N, C, H, W))\n",
    "W = np.random.randn(OC, C, KH, KW)\n",
    "y = F.conv2d_simple(x, W, b=None, stride=1, pad=1)\n",
    "y.backward()\n",
    "\n",
    "print(y.shape)\n",
    "print(x.grad.shape)"
   ]
  },
  {
   "cell_type": "markdown",
   "id": "31205fbb",
   "metadata": {},
   "source": [
    "Function 클래스 상속한 버전은 dezero/functions_conv.py 참고"
   ]
  },
  {
   "cell_type": "markdown",
   "id": "375ab333",
   "metadata": {},
   "source": [
    "### 57.3 Conv2d 계층 구현"
   ]
  },
  {
   "cell_type": "code",
   "execution_count": 6,
   "id": "f12c4518",
   "metadata": {},
   "outputs": [],
   "source": [
    "# dezero/layers.py\n",
    "from dezero import Layer, Parameter, cuda\n",
    "\n",
    "class Conv2d(Layer):\n",
    "    def __init__(self, out_channels, kernel_size, stride=1,\n",
    "                 pad=0, nobias=False, dtype=np.float32, in_channels=None):\n",
    "\n",
    "        super().__init__()\n",
    "        self.in_channels = in_channels\n",
    "        self.out_channels = out_channels\n",
    "        self.kernel_size = kernel_size\n",
    "        self.stride = stride\n",
    "        self.pad = pad\n",
    "        self.dtype = dtype\n",
    "\n",
    "        self.W = Parameter(None, name='W')\n",
    "        if in_channels is not None:\n",
    "            self._init_W()\n",
    "\n",
    "        if nobias:\n",
    "            self.b = None\n",
    "        else:\n",
    "            self.b = Parameter(np.zeros(out_channels, dtype=dtype), name='b')\n",
    "\n",
    "    def _init_W(self, xp=np):\n",
    "        C, OC = self.in_channels, self.out_channels\n",
    "        KH, KW = pair(self.kernel_size)\n",
    "        scale = np.sqrt(1 / (C * KH * KW))\n",
    "        W_data = xp.random.randn(OC, C, KH, KW).astype(self.dtype) * scale\n",
    "        self.W.data = W_data\n",
    "\n",
    "    def forward(self, x):\n",
    "        if self.W.data is None:\n",
    "            self.in_channels = x.shape[1]\n",
    "            xp = cuda.get_array_module(x)\n",
    "            self._init_W(xp)\n",
    "\n",
    "        y = F.conv2d(x, self.W, self.b, self.stride, self.pad)\n",
    "        return y"
   ]
  },
  {
   "cell_type": "markdown",
   "id": "657ee667",
   "metadata": {},
   "source": [
    "<img src=\"images/표 57-2.png\" width=500/>"
   ]
  },
  {
   "cell_type": "markdown",
   "id": "5dd02061",
   "metadata": {},
   "source": [
    "### 57.4 pooling 함수 구현\n",
    "\n",
    "<img src=\"images/그림 57-4.png\" width=600/>\n",
    "<br/>\n",
    "<img src=\"images/그림 57-5.png\" width=600/>"
   ]
  },
  {
   "cell_type": "code",
   "execution_count": 7,
   "id": "325c303f",
   "metadata": {},
   "outputs": [],
   "source": [
    "# dezero/functions_conv.py\n",
    "\n",
    "def pooling_simple(x, kernel_size, stride=1, pad=0):\n",
    "    x = as_variable(x)\n",
    "\n",
    "    N, C, H, W = x.shape\n",
    "    KH, KW = pair(kernel_size)\n",
    "    PH, PW = pair(pad)\n",
    "    SH, SW = pair(stride)\n",
    "    OH = get_conv_outsize(H, KH, SH, PH)\n",
    "    OW = get_conv_outsize(W, KW, SW, PW)\n",
    "\n",
    "    col = im2col(x, kernel_size, stride, pad, to_matrix=True)  # 입력 데이터 펼치기\n",
    "    col = col.reshape(-1, KH * KW)\n",
    "    y = col.max(axis=1)  # 각 행의 최댓값 찾기\n",
    "    y = y.reshape(N, OH, OW, C).transpose(0, 3, 1, 2)  # shape 변환\n",
    "    return y"
   ]
  }
 ],
 "metadata": {
  "kernelspec": {
   "display_name": ".venv",
   "language": "python",
   "name": "python3"
  },
  "language_info": {
   "codemirror_mode": {
    "name": "ipython",
    "version": 3
   },
   "file_extension": ".py",
   "mimetype": "text/x-python",
   "name": "python",
   "nbconvert_exporter": "python",
   "pygments_lexer": "ipython3",
   "version": "3.12.9"
  }
 },
 "nbformat": 4,
 "nbformat_minor": 5
}
