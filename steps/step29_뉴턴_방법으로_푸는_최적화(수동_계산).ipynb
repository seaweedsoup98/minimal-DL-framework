{
 "cells": [
  {
   "cell_type": "markdown",
   "id": "22096fcc",
   "metadata": {},
   "source": [
    "## 29단계: 뉴턴 방법으로 푸는 최적화(수동 계산)\n",
    "\n",
    "> 이전 단계에서는 경사하강법으로 로젠브록 함수의 최솟값지점을 구해봤는데, 결과로 나타나듯이 경사하강법은 일반적으로 수렴이 느리다는 단점이 있습니다. \\\n",
    "경사하강법을 대체할 수 있는 다른 방법들은 여러 가지가 있는데, 그 중 유명한 것이 뉴턴 방법(Newton's method)입니다. 뉴턴 방법을 이용하면 더 적은 반복으로 최적값을 얻을 가능성이 높아집니다.\n",
    "\n",
    "<img src=\"images/그림 29-1.png\" width=700/>\n",
    "\n",
    "`그림 29-1`에서 볼 수 있듯이 경사하강법은 '계곡'에서 고전하는데 반면, 뉴턴 방법은 계곡을 뛰어넘어 6회 만에 목적지에 도착합니다. (물론 항상 이렇게 극적으로 차이나는 것은 아닙니다.)"
   ]
  },
  {
   "cell_type": "markdown",
   "id": "130bc698",
   "metadata": {},
   "source": [
    "### 29.1 뉴턴 방법을 활용한 최적화 이론\n",
    "\n",
    "뉴턴 방법은 테일러 급수의 2계 미분값까지의 항을 이용한다.\n",
    "\n",
    "<img src=\"images/식 29.2.png\" width=500/>\n",
    "\n",
    "이 때, 2차 근사식의 최솟값 지점을 해석적으로 찾는다.\n",
    "\n",
    "<img src=\"images/식 29.3.png\" width=500/>\n",
    "\n",
    "이를 2차원 평면에 나타내면 다음과 같다.\n",
    "\n",
    "<img src=\"images/그림 29-2.png\" width=550/>\n",
    "\n",
    "$a$를 $-\\frac{f'(a)}{f''(a)}$만큼 갱신하여 다음 탐색 지점으로 이동한다.\n",
    "\n",
    "<img src=\"images/그림 29-3.png\" width=550/>\n",
    "\n",
    "수식으로 경사하강법과 뉴턴 방법의 차이를 보면 다음과 같다.\n",
    "\n",
    "<img src=\"images/식 29.4.png\" width=400/>\n",
    "<img src=\"images/식 29.5.png\" width=400/>\n",
    "\n",
    "즉, 뉴턴 방법은 $\\alpha = \\frac{1}{f''(x)}$로 대치한 방법이라 생각할 수 있다."
   ]
  },
  {
   "cell_type": "markdown",
   "id": "26cf1bc3",
   "metadata": {},
   "source": [
    "### 29.2 뉴턴 방법을 활용한 최적화 구현\n",
    "\n",
    "이제 뉴턴 방법으로 $y = x^4 - 2x^2$를 최적화해보자. \\\n",
    "아직 DeZero는 2차 미분을 구할 수 없으니, 해석적으로 2차 미분을 구한다.\n",
    "\n",
    "$$y = x^4 - 2x^2$$\n",
    "$$\\frac{\\partial y}{\\partial x} = 4x^3 - 4x$$\n",
    "$$\\frac{\\partial^2 y}{\\partial x^2} = 12x^2 - 4$$\n",
    "\n",
    "<img src=\"images/그림 29-4.png\" width=550/>"
   ]
  },
  {
   "cell_type": "code",
   "execution_count": 1,
   "id": "8827580a",
   "metadata": {},
   "outputs": [
    {
     "name": "stdout",
     "output_type": "stream",
     "text": [
      "0 Variable(2.0)\n",
      "1 Variable(1.4545454545454546)\n",
      "2 Variable(1.1510467893775467)\n",
      "3 Variable(1.0253259289766978)\n",
      "4 Variable(1.0009084519430513)\n",
      "5 Variable(1.0000012353089454)\n",
      "6 Variable(1.000000000002289)\n",
      "7 Variable(1.0)\n",
      "8 Variable(1.0)\n",
      "9 Variable(1.0)\n"
     ]
    }
   ],
   "source": [
    "import numpy as np\n",
    "from dezero import Variable\n",
    "\n",
    "def f(x):\n",
    "    y = x**4 - 2 * x**2\n",
    "    return y\n",
    "\n",
    "def gx2(x):\n",
    "    return 12 * x**2 - 4\n",
    "\n",
    "x = Variable(np.array(2.0))\n",
    "iters = 10\n",
    "\n",
    "for i in range(iters):\n",
    "    print(i, x)\n",
    "    \n",
    "    y = f(x)\n",
    "    x.cleargrad()\n",
    "    y.backward()\n",
    "    \n",
    "    x.data -= x.grad / gx2(x.data)"
   ]
  },
  {
   "cell_type": "markdown",
   "id": "da29db8d",
   "metadata": {},
   "source": [
    "뉴턴 방법으로 구현한 경우, 매우 빠르게 수렴하는 것을 확인할 수 있다.\n",
    "\n",
    "<img src=\"images/그림 29-5.png\" width=600/>"
   ]
  },
  {
   "cell_type": "markdown",
   "id": "1e1bbe89",
   "metadata": {},
   "source": [
    "뉴턴 방법을 이용한 최적화가 유용함을 확인했지만, 2차 미분을 수동으로 계산했다는 한계가 있었다. \\\n",
    "다음 단계부터는 2차 미분 계산을 자동화해보자."
   ]
  }
 ],
 "metadata": {
  "kernelspec": {
   "display_name": ".venv",
   "language": "python",
   "name": "python3"
  },
  "language_info": {
   "codemirror_mode": {
    "name": "ipython",
    "version": 3
   },
   "file_extension": ".py",
   "mimetype": "text/x-python",
   "name": "python",
   "nbconvert_exporter": "python",
   "pygments_lexer": "ipython3",
   "version": "3.12.9"
  }
 },
 "nbformat": 4,
 "nbformat_minor": 5
}
