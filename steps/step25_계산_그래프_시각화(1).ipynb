{
 "cells": [
  {
   "cell_type": "markdown",
   "id": "22096fcc",
   "metadata": {},
   "source": [
    "## 25단계: 계산 그래프 시각화(1)\n",
    "\n",
    "> DeZero는 이제 복잡한 수식도 쉽게 코드로 옮길 수 있습니다. 그런데 이런 복잡한 수식을 계산할 때 어떤 '계산 그래프'가 만들어지는지 눈으로 확인하고 싶지 않나요? 그런 분들을 위해 이번 단계에서는 계산 그래프를 시각화합니다."
   ]
  },
  {
   "cell_type": "markdown",
   "id": "610af97c",
   "metadata": {},
   "source": [
    "### 25.1 Graphviz 설치하기\n",
    "\n",
    "Graphviz는 그래프 시각화 도구이다. 아래 명령어로 터미널에서 직접 설치한다.\n",
    "\n",
    "[참고: Graphviz 웹페이지](https://graphviz.gitlab.io/download/)\n",
    "\n",
    "```bash\n",
    "$ brew install graphviz  # MacOS\n",
    "$ sudo apt install graphviz  # Ubuntu\n",
    "```"
   ]
  },
  {
   "cell_type": "markdown",
   "id": "96b6636a",
   "metadata": {},
   "source": [
    "### 25.2 DOT 언어로 그래프 작성하기\n",
    "\n",
    "DOT 언어는 그래프를 설명하는 언어로, 간단한 문법으로 그래프를 작성할 수 있다.\n",
    "\n",
    "반드시 `digraph g {...}` 구조여야 하고, 각 노드는 '줄바꿈'으로 구분해야 한다.\n",
    "\n",
    "```text\n",
    "digraph g{\n",
    "    x\n",
    "    y\n",
    "}\n",
    "```\n",
    "\n",
    "위 내용을 sample.dot 파일로 저장하고 다음 명령을 실행해보자.\n",
    "\n",
    "```bash\n",
    "$ dot sample.dot -T png -o sample.png\n",
    "```\n",
    "\n",
    "그럼 `그림 25-1`의 이미지가 출력된다.\n",
    "\n",
    "<img src=\"images/그림 25-1.png\" width=250/>"
   ]
  },
  {
   "cell_type": "markdown",
   "id": "5fbdafbc",
   "metadata": {},
   "source": [
    "### 25.3 노드에 속성 지정하기\n",
    "\n",
    "노드에는 다음과 같이 '색'과 '모양'을 지정할 수 있다.\n",
    "\n",
    "```text\n",
    "digraph g {\n",
    "    1 [label=\"x\", color=orange, style=filled]\n",
    "    2 [label=\"y\", color=orange, style=filled]\n",
    "}\n",
    "```\n",
    "\n",
    "<img src=\"images/그림 25-2.png\" width=250/>\n",
    "\n",
    "여기에 사각형의 하늘색 노드를 추가하면 다음과 같다.\n",
    "\n",
    "```text\n",
    "digraph g {\n",
    "    1 [label=\"x\", color=orange, style=filled]\n",
    "    2 [label=\"y\", color=orange, style=filled]\n",
    "    3 [label=\"Exp\", color=lightblue, style=filled, shape=box]\n",
    "}\n",
    "```\n",
    "\n",
    "<img src=\"images/그림 25-3.png\" width=350/>"
   ]
  },
  {
   "cell_type": "markdown",
   "id": "9a4a9834",
   "metadata": {},
   "source": [
    "### 25.4 노드 연결하기\n",
    "\n",
    "노드를 연결하려면 두 노드의 ID를 '->'로 연결하면 된다.\n",
    "\n",
    "```text\n",
    "digraph g {\n",
    "    1 [label=\"x\", color=orange, style=filled]\n",
    "    2 [label=\"y\", color=orange, style=filled]\n",
    "    3 [label=\"Exp\", color=lightblue, style=filled, shape=box]\n",
    "    1 -> 3\n",
    "    3 -> 2\n",
    "}\n",
    "```\n",
    "\n",
    "<img src=\"images/그림 25-4.png\" width=200/>"
   ]
  },
  {
   "cell_type": "markdown",
   "id": "877b2c22",
   "metadata": {},
   "source": [
    "다음 단계에서는 DeZero 계산 그래프를 DOT 언어로 출력하는 기능을 추가하겠다."
   ]
  }
 ],
 "metadata": {
  "kernelspec": {
   "display_name": ".venv",
   "language": "python",
   "name": "python3"
  },
  "language_info": {
   "name": "python",
   "version": "3.12.9"
  }
 },
 "nbformat": 4,
 "nbformat_minor": 5
}
