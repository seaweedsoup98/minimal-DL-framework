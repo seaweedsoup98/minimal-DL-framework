{
 "cells": [
  {
   "cell_type": "markdown",
   "id": "22096fcc",
   "metadata": {},
   "source": [
    "## 59단계: RNN을 활용한 시계열 데이터 처리\n",
    "\n",
    "> ."
   ]
  },
  {
   "cell_type": "markdown",
   "id": "a86e289a",
   "metadata": {},
   "source": [
    "### 59.1 RNN 계층 구현\n",
    "\n",
    "<img src=\"images/그림 59-1.png\" width=250/>\n",
    "<br/>\n",
    "<img src=\"images/식 59.1.png\" width=400/>"
   ]
  },
  {
   "cell_type": "code",
   "execution_count": 1,
   "id": "c92105f7",
   "metadata": {},
   "outputs": [],
   "source": [
    "# dezero/layers.py\n",
    "from dezero import Layer\n",
    "from dezero.layers import Linear\n",
    "import dezero.functions as F\n",
    "\n",
    "class RNN(Layer):\n",
    "    def __init__(self, hidden_size, in_size=None):\n",
    "        super().__init__()\n",
    "        self.x2h = Linear(hidden_size, in_size=in_size)\n",
    "        self.h2h = Linear(hidden_size, in_size=in_size, nobias=True)\n",
    "        self.h = None\n",
    "    \n",
    "    def reset_state(self):\n",
    "        self.h = None\n",
    "        \n",
    "    def forward(self, x):\n",
    "        if self.h is None:\n",
    "            h_new = F.tanh(self.x2h(x))\n",
    "        else:\n",
    "            h_new = F.tanh(self.x2h(x) + self.h2h(self.h))\n",
    "        self.h = h_new\n",
    "        return h_new"
   ]
  },
  {
   "cell_type": "markdown",
   "id": "b47fc643",
   "metadata": {},
   "source": [
    "이제 RNN을 실행해보자"
   ]
  },
  {
   "cell_type": "code",
   "execution_count": 2,
   "id": "a3e7649d",
   "metadata": {},
   "outputs": [
    {
     "name": "stdout",
     "output_type": "stream",
     "text": [
      "(1, 10)\n"
     ]
    }
   ],
   "source": [
    "import numpy as np\n",
    "import dezero.layers as L\n",
    "\n",
    "rnn = L.RNN(10)\n",
    "x = np.random.rand(1, 1)\n",
    "h = rnn(x)\n",
    "print(h.shape)"
   ]
  },
  {
   "cell_type": "markdown",
   "id": "cf8ba3e8",
   "metadata": {},
   "source": [
    "최초 실행 시 계산 그래프는 다음과 같다\n",
    "\n",
    "<img src=\"images/그림 59-2.png\" width=400/>\n",
    "\n",
    "데이터를 계속 주면 다음과 같이 연결된다\n",
    "\n",
    "<img src=\"images/그림 59-3.png\" width=600/>"
   ]
  },
  {
   "cell_type": "markdown",
   "id": "5db9934b",
   "metadata": {},
   "source": [
    "### 59.2 RNN 모델 구현"
   ]
  },
  {
   "cell_type": "code",
   "execution_count": 3,
   "id": "d37210c2",
   "metadata": {},
   "outputs": [],
   "source": [
    "from dezero import Model\n",
    "import dezero.functions as F\n",
    "import dezero.layers as L\n",
    "\n",
    "class SimpleRNN(Model):\n",
    "    def __init__(self, hidden_size, out_size):\n",
    "        super().__init__()\n",
    "        self.rnn = L.RNN(hidden_size)\n",
    "        self.fc = L.Linear(out_size)\n",
    "        \n",
    "    def reset_state(self):\n",
    "        self.rnn.reset_state()\n",
    "        \n",
    "    def forward(self, x):\n",
    "        h = self.rnn(x)\n",
    "        y = self.fc(h)\n",
    "        return y\n",
    "\n",
    "\n",
    "seq_data = [np.random.randn(1, 1) for _ in range(1000)]  # dummy\n",
    "xs = seq_data[0:-1]\n",
    "ts = seq_data[1:]\n",
    "\n",
    "model = SimpleRNN(10, 1)\n",
    "loss, cnt = 0, 0\n",
    "for x, t in zip(xs, ts):\n",
    "    y = model(x)\n",
    "    loss += F.mean_squared_error(y, t)\n",
    "    \n",
    "    cnt += 1\n",
    "    if cnt == 2:\n",
    "        model.cleargrads()\n",
    "        loss.backward()\n",
    "        break"
   ]
  },
  {
   "cell_type": "markdown",
   "id": "aa2c80b0",
   "metadata": {},
   "source": [
    "<img src=\"images/그림 59-4.png\" width=600/>\n",
    "\n",
    "이와 같이 일련의 입력 데이터로 구성된 계산 그래프에서의 역전파를 BPTT(Backpropagation Through Time)라고 한다.\n",
    "\n",
    "그러나 역전파가 잘 되려면 계산 그래프를 적당한 길이에서 끊어주면 좋다.\n",
    "\n",
    "이를 Truncated BPTT라고 한다."
   ]
  },
  {
   "cell_type": "markdown",
   "id": "2e3f4490",
   "metadata": {},
   "source": [
    "### 59.3 '연결'을 끊어주는 메서드"
   ]
  },
  {
   "cell_type": "code",
   "execution_count": 4,
   "id": "1c7e79ae",
   "metadata": {},
   "outputs": [],
   "source": [
    "# dezero/core.py\n",
    "\n",
    "class Variable:\n",
    "    ...\n",
    "    \n",
    "    def unchain(self):\n",
    "        self.creator = None\n",
    "    ...\n",
    "    \n",
    "    def unchain_backward(self):\n",
    "        if self.creator is not None:\n",
    "            funcs = [self.creator]\n",
    "            while funcs:\n",
    "                f = funcs.pop()\n",
    "                for x in f.inputs:\n",
    "                    if x.creator is not None:\n",
    "                        funcs.append(x.creator)\n",
    "                        x.unchain()"
   ]
  },
  {
   "cell_type": "markdown",
   "id": "73d7af17",
   "metadata": {},
   "source": [
    "### 59.4 사인파 예측"
   ]
  },
  {
   "cell_type": "code",
   "execution_count": 5,
   "id": "e1c0ec96",
   "metadata": {},
   "outputs": [
    {
     "name": "stdout",
     "output_type": "stream",
     "text": [
      "999\n",
      "(array([-0.0286856]), array([-0.03266713]))\n",
      "(array([-0.03266713]), array([-0.03359359]))\n",
      "(array([-0.03359359]), array([-0.02910069]))\n"
     ]
    },
    {
     "data": {
      "image/png": "[encoded data removed]",
      "text/plain": [
       "<Figure size 640x480 with 1 Axes>"
      ]
     },
     "metadata": {},
     "output_type": "display_data"
    }
   ],
   "source": [
    "import numpy as np\n",
    "import dezero\n",
    "import matplotlib.pyplot as plt\n",
    "\n",
    "train_set = dezero.datasets.SinCurve(train=True)\n",
    "print(len(train_set))\n",
    "print(train_set[0])\n",
    "print(train_set[1])\n",
    "print(train_set[2])\n",
    "\n",
    "# 그래프 그리기\n",
    "xs = [example[0] for example in train_set]\n",
    "ts = [example[1] for example in train_set]\n",
    "plt.plot(xs, label='xs')\n",
    "plt.plot(ts, label='ts')\n",
    "plt.show()"
   ]
  },
  {
   "cell_type": "code",
   "execution_count": 6,
   "id": "22b96cf7",
   "metadata": {},
   "outputs": [
    {
     "name": "stdout",
     "output_type": "stream",
     "text": [
      "| epoch 1 | loss 0.267486\n",
      "| epoch 2 | loss 0.067445\n",
      "| epoch 3 | loss 0.037430\n",
      "| epoch 4 | loss 0.017640\n",
      "| epoch 5 | loss 0.008722\n",
      "| epoch 6 | loss 0.006379\n",
      "| epoch 7 | loss 0.003455\n",
      "| epoch 8 | loss 0.004863\n",
      "| epoch 9 | loss 0.003078\n",
      "| epoch 10 | loss 0.004149\n",
      "| epoch 11 | loss 0.003236\n",
      "| epoch 12 | loss 0.004332\n",
      "| epoch 13 | loss 0.005054\n",
      "| epoch 14 | loss 0.005924\n",
      "| epoch 15 | loss 0.006404\n",
      "| epoch 16 | loss 0.006325\n",
      "| epoch 17 | loss 0.006089\n",
      "| epoch 18 | loss 0.005937\n",
      "| epoch 19 | loss 0.005761\n",
      "| epoch 20 | loss 0.005515\n",
      "| epoch 21 | loss 0.005365\n",
      "| epoch 22 | loss 0.005396\n",
      "| epoch 23 | loss 0.005511\n",
      "| epoch 24 | loss 0.005590\n",
      "| epoch 25 | loss 0.005633\n",
      "| epoch 26 | loss 0.005722\n",
      "| epoch 27 | loss 0.005918\n",
      "| epoch 28 | loss 0.006265\n",
      "| epoch 29 | loss 0.006817\n",
      "| epoch 30 | loss 0.007641\n",
      "| epoch 31 | loss 0.008880\n",
      "| epoch 32 | loss 0.010580\n",
      "| epoch 33 | loss 0.013231\n",
      "| epoch 34 | loss 0.013308\n",
      "| epoch 35 | loss 0.012438\n",
      "| epoch 36 | loss 0.018635\n",
      "| epoch 37 | loss 0.010724\n",
      "| epoch 38 | loss 0.026639\n",
      "| epoch 39 | loss 0.018854\n",
      "| epoch 40 | loss 0.016429\n",
      "| epoch 41 | loss 0.039322\n",
      "| epoch 42 | loss 0.039786\n",
      "| epoch 43 | loss 0.042295\n",
      "| epoch 44 | loss 0.029785\n",
      "| epoch 45 | loss 0.028879\n",
      "| epoch 46 | loss 0.021358\n",
      "| epoch 47 | loss 0.004987\n",
      "| epoch 48 | loss 0.002566\n",
      "| epoch 49 | loss 0.002222\n",
      "| epoch 50 | loss 0.001959\n",
      "| epoch 51 | loss 0.002082\n",
      "| epoch 52 | loss 0.001821\n",
      "| epoch 53 | loss 0.001720\n",
      "| epoch 54 | loss 0.001674\n",
      "| epoch 55 | loss 0.001678\n",
      "| epoch 56 | loss 0.001655\n",
      "| epoch 57 | loss 0.001614\n",
      "| epoch 58 | loss 0.001583\n",
      "| epoch 59 | loss 0.001561\n",
      "| epoch 60 | loss 0.001541\n",
      "| epoch 61 | loss 0.001522\n",
      "| epoch 62 | loss 0.001506\n",
      "| epoch 63 | loss 0.001494\n",
      "| epoch 64 | loss 0.001486\n",
      "| epoch 65 | loss 0.001480\n",
      "| epoch 66 | loss 0.001479\n",
      "| epoch 67 | loss 0.001481\n",
      "| epoch 68 | loss 0.001488\n",
      "| epoch 69 | loss 0.001501\n",
      "| epoch 70 | loss 0.001521\n",
      "| epoch 71 | loss 0.001548\n",
      "| epoch 72 | loss 0.001583\n",
      "| epoch 73 | loss 0.001629\n",
      "| epoch 74 | loss 0.001686\n",
      "| epoch 75 | loss 0.001756\n",
      "| epoch 76 | loss 0.001843\n",
      "| epoch 77 | loss 0.001954\n",
      "| epoch 78 | loss 0.002105\n",
      "| epoch 79 | loss 0.002281\n",
      "| epoch 80 | loss 0.002362\n",
      "| epoch 81 | loss 0.002403\n",
      "| epoch 82 | loss 0.002415\n",
      "| epoch 83 | loss 0.002425\n",
      "| epoch 84 | loss 0.002424\n",
      "| epoch 85 | loss 0.002346\n",
      "| epoch 86 | loss 0.002250\n",
      "| epoch 87 | loss 0.002089\n",
      "| epoch 88 | loss 0.001971\n",
      "| epoch 89 | loss 0.002000\n",
      "| epoch 90 | loss 0.001909\n",
      "| epoch 91 | loss 0.001942\n",
      "| epoch 92 | loss 0.001951\n",
      "| epoch 93 | loss 0.001930\n",
      "| epoch 94 | loss 0.001997\n",
      "| epoch 95 | loss 0.002165\n",
      "| epoch 96 | loss 0.002297\n",
      "| epoch 97 | loss 0.002553\n",
      "| epoch 98 | loss 0.002881\n",
      "| epoch 99 | loss 0.003109\n",
      "| epoch 100 | loss 0.003478\n"
     ]
    }
   ],
   "source": [
    "# 하이퍼파라미터 설정\n",
    "max_epoch = 100\n",
    "hidden_size = 100\n",
    "bptt_length = 30  # BPTT 길이\n",
    "train_set = dezero.datasets.SinCurve(train=True)\n",
    "seqlen = len(train_set)\n",
    "\n",
    "model = SimpleRNN(hidden_size, 1)\n",
    "optimizer = dezero.optimizers.Adam().setup(model)\n",
    "\n",
    "# 학습 시작\n",
    "for epoch in range(max_epoch):\n",
    "    model.reset_state()\n",
    "    loss, count = 0, 0\n",
    "\n",
    "    for x, t in train_set:\n",
    "        x = x.reshape(1, 1)\n",
    "        y = model(x)\n",
    "        loss += F.mean_squared_error(y, t)\n",
    "        count += 1\n",
    "        \n",
    "        # Truncated BPTT 타이밍 조정\n",
    "        if count % bptt_length == 0 or count == seqlen:\n",
    "            model.cleargrads()\n",
    "            loss.backward()\n",
    "            loss.unchain_backward()  # 연결 끊기\n",
    "            optimizer.update()\n",
    "\n",
    "    avg_loss = float(loss.data) / count\n",
    "    print('| epoch %d | loss %f' % (epoch + 1, avg_loss))"
   ]
  },
  {
   "cell_type": "code",
   "execution_count": 7,
   "id": "e31ff701",
   "metadata": {},
   "outputs": [
    {
     "name": "stderr",
     "output_type": "stream",
     "text": [
      "/tmp/ipykernel_59381/3134256770.py:11: DeprecationWarning: Conversion of an array with ndim > 0 to a scalar is deprecated, and will error in future. Ensure you extract a single element from your array before performing this operation. (Deprecated NumPy 1.25.)\n",
      "  pred_list.append(float(y.data))\n"
     ]
    },
    {
     "data": {
      "image/png": "[encoded data removed]",
      "text/plain": [
       "<Figure size 640x480 with 1 Axes>"
      ]
     },
     "metadata": {},
     "output_type": "display_data"
    }
   ],
   "source": [
    "import matplotlib.pyplot as plt\n",
    "\n",
    "xs = np.cos(np.linspace(0, 4 * np.pi, 1000))\n",
    "model.reset_state()\n",
    "pred_list = []\n",
    "\n",
    "with dezero.no_grad():\n",
    "    for x in xs:\n",
    "        x = np.array(x).reshape(1, 1)\n",
    "        y = model(x)\n",
    "        pred_list.append(float(y.data))\n",
    "\n",
    "plt.plot(xs, label='y=cos(x)')\n",
    "plt.plot(pred_list, label='predict')\n",
    "plt.xlabel('x')\n",
    "plt.ylabel('y')\n",
    "plt.legend()\n",
    "plt.show()"
   ]
  },
  {
   "cell_type": "markdown",
   "id": "56130667",
   "metadata": {},
   "source": [
    "현재는 배치 크기가 1이라 시간이 오래 걸린다. 다음 단계에서는 미니배치 단위로 처리해보자."
   ]
  },
  {
   "cell_type": "markdown",
   "id": "1c0b464c",
   "metadata": {},
   "source": []
  }
 ],
 "metadata": {
  "kernelspec": {
   "display_name": ".venv",
   "language": "python",
   "name": "python3"
  },
  "language_info": {
   "codemirror_mode": {
    "name": "ipython",
    "version": 3
   },
   "file_extension": ".py",
   "mimetype": "text/x-python",
   "name": "python",
   "nbconvert_exporter": "python",
   "pygments_lexer": "ipython3",
   "version": "3.12.9"
  }
 },
 "nbformat": 4,
 "nbformat_minor": 5
}
