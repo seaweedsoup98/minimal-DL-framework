{
 "cells": [
  {
   "cell_type": "markdown",
   "metadata": {},
   "source": [
    "## 5단계: 역전파 이론\n",
    "\n",
    "> 우리는 수치 미분을 이용해 미분을 계산할 수 있게 되었지만 수치 미분은 계산 비용과 정확도 면에서 문제가 있습니다. \\\n",
    "지금이 바로 역전파(backpropagation, 오차역전파법)가 구세주로 등장할 시점입니다! \\\n",
    "역전파를 이용하면 미분을 효율적으로 계산할 수 있고 결괏값의 오차도 더 작습니다. \\\n",
    "이번 단계에서는 아직 역전파 구현까지는 들어가지 않고 이론 설명에 집중하겠습니다."
   ]
  },
  {
   "cell_type": "markdown",
   "metadata": {},
   "source": [
    "### 5.1 연쇄 법칙\n",
    "\n",
    "역전파는 연쇄 법칙(chain rule)로 설명한다.\n",
    "\n",
    "연쇄 법칙에 따르면 합성 함수의 미분은 구성 함수 각각을 미분한 후 곱한 것과 같다.\n",
    "\n",
    "아래 $y=F(x)=C(B(A(x)))$ 의 예시를 보자.\n",
    "\n",
    "<img src=\"images/그림 5-1.png\" width=600/>\n",
    "\n",
    "이때 $x$에 대한 $y$의 미분은 다음과 같이 표현할 수 있다.\n",
    "\n",
    "$$\n",
    "\\begin{aligned}\n",
    "a &= A(x) \\\\\n",
    "b &= B(a) \\\\\n",
    "y &= C(b)\n",
    "\\end{aligned}\n",
    "$$\n",
    "$$\\frac{dy}{dx}=\\frac{dy}{db}\\frac{db}{da}\\frac{da}{dx}$$\n",
    "\n",
    "연쇄 법칙에 따라 $x$에 대한 $y$의 미분은 구성 함수 각각의 미분값을 모두 곱한 값과 같다.\n",
    "\n",
    "더해서 위 식에 구현 편의성을 위해 $\\frac{dy}{dy}$를 덧붙이자.\n",
    "\n",
    "$$\\frac{dy}{dx}=\\frac{dy}{dy}\\frac{dy}{db}\\frac{db}{da}\\frac{da}{dx}$$\n",
    "\n",
    "이때 $\\frac{dy}{db}$는 '자신'에 대한 미분이라 항상 1이다.\n",
    "\n",
    "(원래는 생략하지만 역전파 구현을 위해 일부러 포함시킴)"
   ]
  },
  {
   "cell_type": "markdown",
   "metadata": {},
   "source": [
    "### 5.2 역전파 원리 도출\n",
    "\n",
    "연쇄 법칙으로 도출한 미분 식의 계산 순서를 출력에서 입력 방향으로(즉, 역방향으로) 계산해보자.\n",
    "\n",
    "$$\\frac{dy}{dx}=\\left(\\left(\\frac{dy}{dy}\\frac{dy}{db}\\right)\\frac{db}{da}\\right)\\frac{da}{dx}$$\n",
    "\n",
    "<img src=\"images/그림 5-2.png\" width=500/>\n",
    "<br>\n",
    "<img src=\"images/그림 5-3.png\" width=600/>\n",
    "<br>\n",
    "<img src=\"images/그림 5-4.png\" width=600/>\n",
    "\n",
    "이렇듯 연쇄 법칙에서의 도함수 곱을 함수 노드로 표현할 수 있다.\n",
    "\n",
    "이때 미분값이 $y$, $b$, $a$, $x$ 순으로 전파되는데, 이를 **역전파**라고 한다.\n",
    "\n",
    "또한 각 도함수에는 $\\frac{dy}{dy}$, $\\frac{dy}{db}$, $\\frac{dy}{da}$, $\\frac{dy}{dx}$처럼 모두 **$y$에 대한 미분값**이 전파되고 있다."
   ]
  },
  {
   "cell_type": "markdown",
   "metadata": {},
   "source": [
    "### 5.3 계산 그래프로 살펴보기\n",
    "\n",
    "순전파 계산 그래프와 역전파 계산 그래프를 나란히 놓고 살펴보자.\n",
    "\n",
    "<img src=\"images/그림 5-5.png\" width=700/>\n",
    "\n",
    "그러면 순전파 사의 변수 $a$와 역전파 시의 미분 $\\frac{dy}{da}$에 대응됨을 확인할 수 있다.\n",
    "\n",
    "또, 함수 $A$는 도함수 $A'(x)$에 대응된다.\n",
    "\n",
    "여기에서 역전파 구현의 힌트를 알 수 있다."
   ]
  },
  {
   "cell_type": "markdown",
   "metadata": {},
   "source": [
    "마지막으로 [그림 5-5]의 함수 노드 $C'(b)$를 보면, $C'(b)$ 계산에 $b$ 값이 필요함을 알 수 있다.\n",
    "\n",
    "즉, 역전파 시에는 순전파 시 이용한 데이터가 필요하다.\n",
    "\n",
    "따라서 역전파를 구현하기 위해선 먼저 순전파를 하고, 각 함수가 입력 변수의 값을 기억해야 한다.\n",
    "\n",
    "이는 다음 단계에서 구현할 것이다."
   ]
  }
 ],
 "metadata": {
  "kernelspec": {
   "display_name": ".venv",
   "language": "python",
   "name": "python3"
  },
  "language_info": {
   "codemirror_mode": {
    "name": "ipython",
    "version": 3
   },
   "file_extension": ".py",
   "mimetype": "text/x-python",
   "name": "python",
   "nbconvert_exporter": "python",
   "pygments_lexer": "ipython3",
   "version": "3.12.9"
  }
 },
 "nbformat": 4,
 "nbformat_minor": 2
}
