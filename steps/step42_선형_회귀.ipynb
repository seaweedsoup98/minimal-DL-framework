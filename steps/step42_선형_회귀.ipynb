{
 "cells": [
  {
   "cell_type": "markdown",
   "id": "22096fcc",
   "metadata": {},
   "source": [
    "## 42단계: 선형 회귀\n",
    "\n",
    ">."
   ]
  },
  {
   "cell_type": "markdown",
   "id": "a86e289a",
   "metadata": {},
   "source": [
    "### 42.1 토이 데이터셋\n",
    "\n",
    "<img src=\"images/그림 42-1.png\" width=500/>"
   ]
  },
  {
   "cell_type": "code",
   "execution_count": 1,
   "id": "69cf9c92",
   "metadata": {},
   "outputs": [],
   "source": [
    "import numpy as np\n",
    "\n",
    "np.random.seed(0)\n",
    "x = np.random.randn(100, 1)\n",
    "y = 5 + 2 * x + np.random.randn(100, 1)"
   ]
  },
  {
   "cell_type": "markdown",
   "id": "3b97fa35",
   "metadata": {},
   "source": [
    "### 42.2 선형 회귀 이론\n",
    "\n",
    "<img src=\"images/그림 42-2.png\" width=500/>\n",
    "<br/>\n",
    "<img src=\"images/식 42.1.png\" width=400/>"
   ]
  },
  {
   "cell_type": "markdown",
   "id": "fda915a5",
   "metadata": {},
   "source": [
    "### 42.3 선형 회귀 구현"
   ]
  },
  {
   "cell_type": "code",
   "execution_count": 2,
   "id": "b815832b",
   "metadata": {},
   "outputs": [],
   "source": [
    "import numpy as np\n",
    "from dezero import Variable\n",
    "import dezero.functions as F\n",
    "\n",
    "# 토이 데이터셋\n",
    "np.random.seed(0)\n",
    "x = np.random.randn(100, 1)\n",
    "y = 5 + 2 * x + np.random.randn(100, 1)\n",
    "x, y = Variable(x), Variable(y)  # 생략 가능\n",
    "\n",
    "W = Variable(np.zeros((1, 1)))\n",
    "b = Variable(np.zeros(1))\n",
    "\n",
    "def predict(x):\n",
    "    y = F.matmul(x, W) + b\n",
    "    return y"
   ]
  },
  {
   "cell_type": "code",
   "execution_count": 3,
   "id": "8d228fdc",
   "metadata": {},
   "outputs": [
    {
     "name": "stdout",
     "output_type": "stream",
     "text": [
      "Variable([[0.49185321]]) Variable([1.0403258]) Variable(32.65684143290435)\n",
      "Variable([[0.87098307]]) Variable([1.86670309]) Variable(20.8049653938767)\n",
      "Variable([[1.16293087]]) Variable([2.52326992]) Variable(13.405480828635747)\n",
      "Variable([[1.38750254]]) Variable([3.04503122]) Variable(8.783241422956205)\n",
      "Variable([[1.56004728]]) Variable([3.45975402]) Variable(5.894230127462607)\n",
      "Variable([[1.69245272]]) Variable([3.78946835]) Variable(4.087467116592623)\n",
      "Variable([[1.79391933]]) Variable([4.05165603]) Variable(2.9568445746276204)\n",
      "Variable([[1.87156267]]) Variable([4.26019247]) Variable(2.248885834520452)\n",
      "Variable([[1.9308816]]) Variable([4.42609289]) Variable(1.8052961399692495)\n",
      "Variable([[1.97612211]]) Variable([4.55810367]) Variable(1.5271664114616335)\n",
      "Variable([[2.01055989]]) Variable([4.66317115]) Variable(1.352658545853154)\n",
      "Variable([[2.0367197]]) Variable([4.7468132]) Variable(1.2430881436096468)\n",
      "Variable([[2.05654553]]) Variable([4.81341393]) Variable(1.1742401964288234)\n",
      "Variable([[2.07153261]]) Variable([4.86645736]) Variable(1.130947281335902)\n",
      "Variable([[2.08282962]]) Variable([4.90871284]) Variable(1.1037027660492316)\n",
      "Variable([[2.09131795]]) Variable([4.94238209]) Variable(1.086544011239224)\n",
      "Variable([[2.09767293]]) Variable([4.96921596]) Variable(1.0757285632165476)\n",
      "Variable([[2.10241128]]) Variable([4.99060704]) Variable(1.0689057646903457)\n",
      "Variable([[2.1059277]]) Variable([5.00766322]) Variable(1.064598052977042)\n",
      "Variable([[2.10852317]]) Variable([5.0212661]) Variable(1.0618759595194345)\n",
      "Variable([[2.11042676]]) Variable([5.03211737]) Variable(1.0601543388332906)\n",
      "Variable([[2.11181245]]) Variable([5.04077561]) Variable(1.059064518022486)\n",
      "Variable([[2.11281206]]) Variable([5.04768562]) Variable(1.058374023186869)\n",
      "Variable([[2.11352521]]) Variable([5.05320168]) Variable(1.0579361409079033)\n",
      "Variable([[2.11402698]]) Variable([5.05760599]) Variable(1.0576582021503207)\n",
      "Variable([[2.11437377]]) Variable([5.06112344]) Variable(1.0574816235073754)\n",
      "Variable([[2.11460778]]) Variable([5.06393326]) Variable(1.0573693373143267)\n",
      "Variable([[2.11476047]]) Variable([5.06617831]) Variable(1.0572978688036483)\n",
      "Variable([[2.11485517]]) Variable([5.06797252]) Variable(1.0572523381764114)\n",
      "Variable([[2.11490911]]) Variable([5.06940676]) Variable(1.057223305126602)\n",
      "Variable([[2.11493489]]) Variable([5.0705535]) Variable(1.0572047749024729)\n",
      "Variable([[2.1149417]]) Variable([5.07147059]) Variable(1.057192937243938)\n",
      "Variable([[2.11493615]]) Variable([5.07220418]) Variable(1.0571853681222083)\n",
      "Variable([[2.11492296]]) Variable([5.07279112]) Variable(1.0571805239849006)\n",
      "Variable([[2.11490544]]) Variable([5.07326083]) Variable(1.057177421035239)\n",
      "Variable([[2.11488587]]) Variable([5.0736368]) Variable(1.0571754316643447)\n",
      "Variable([[2.11486579]]) Variable([5.07393782]) Variable(1.0571741551246168)\n",
      "Variable([[2.11484621]]) Variable([5.07417887]) Variable(1.0571733352929618)\n",
      "Variable([[2.11482773]]) Variable([5.07437194]) Variable(1.0571728083295147)\n",
      "Variable([[2.11481071]]) Variable([5.07452663]) Variable(1.0571724693332196)\n",
      "Variable([[2.11479532]]) Variable([5.07465057]) Variable(1.0571722510799284)\n",
      "Variable([[2.11478157]]) Variable([5.07474992]) Variable(1.0571721104523915)\n",
      "Variable([[2.11476945]]) Variable([5.07482956]) Variable(1.0571720197715333)\n",
      "Variable([[2.11475884]]) Variable([5.07489341]) Variable(1.0571719612537047)\n",
      "Variable([[2.11474963]]) Variable([5.07494462]) Variable(1.0571719234634798)\n",
      "Variable([[2.11474168]]) Variable([5.0749857]) Variable(1.0571718990415147)\n",
      "Variable([[2.11473487]]) Variable([5.07501866]) Variable(1.0571718832478638)\n",
      "Variable([[2.11472905]]) Variable([5.07504511]) Variable(1.0571718730272708)\n",
      "Variable([[2.1147241]]) Variable([5.07506634]) Variable(1.0571718664088856)\n",
      "Variable([[2.1147199]]) Variable([5.07508338]) Variable(1.0571718621204296)\n",
      "Variable([[2.11471636]]) Variable([5.07509707]) Variable(1.0571718593399897)\n",
      "Variable([[2.11471337]]) Variable([5.07510806]) Variable(1.0571718575362226)\n",
      "Variable([[2.11471087]]) Variable([5.07511688]) Variable(1.0571718563653971)\n",
      "Variable([[2.11470877]]) Variable([5.07512397]) Variable(1.057171855605001)\n",
      "Variable([[2.11470701]]) Variable([5.07512967]) Variable(1.0571718551109015)\n",
      "Variable([[2.11470554]]) Variable([5.07513425]) Variable(1.0571718547896791)\n",
      "Variable([[2.11470432]]) Variable([5.07513793]) Variable(1.0571718545807458)\n",
      "Variable([[2.1147033]]) Variable([5.07514089]) Variable(1.057171854444787)\n",
      "Variable([[2.11470245]]) Variable([5.07514327]) Variable(1.0571718543562754)\n",
      "Variable([[2.11470175]]) Variable([5.07514519]) Variable(1.0571718542986286)\n",
      "Variable([[2.11470117]]) Variable([5.07514673]) Variable(1.0571718542610684)\n",
      "Variable([[2.11470069]]) Variable([5.07514797]) Variable(1.0571718542365864)\n",
      "Variable([[2.11470029]]) Variable([5.07514896]) Variable(1.0571718542206234)\n",
      "Variable([[2.11469996]]) Variable([5.07514977]) Variable(1.057171854210211)\n",
      "Variable([[2.11469969]]) Variable([5.07515041]) Variable(1.0571718542034167)\n",
      "Variable([[2.11469946]]) Variable([5.07515093]) Variable(1.0571718541989825)\n",
      "Variable([[2.11469928]]) Variable([5.07515135]) Variable(1.057171854196087)\n",
      "Variable([[2.11469913]]) Variable([5.07515169]) Variable(1.0571718541941961)\n",
      "Variable([[2.114699]]) Variable([5.07515196]) Variable(1.0571718541929611)\n",
      "Variable([[2.1146989]]) Variable([5.07515218]) Variable(1.0571718541921542)\n",
      "Variable([[2.11469882]]) Variable([5.07515235]) Variable(1.0571718541916264)\n",
      "Variable([[2.11469875]]) Variable([5.07515249]) Variable(1.0571718541912813)\n",
      "Variable([[2.11469869]]) Variable([5.07515261]) Variable(1.057171854191056)\n",
      "Variable([[2.11469864]]) Variable([5.0751527]) Variable(1.0571718541909083)\n",
      "Variable([[2.11469861]]) Variable([5.07515278]) Variable(1.057171854190812)\n",
      "Variable([[2.11469857]]) Variable([5.07515284]) Variable(1.0571718541907489)\n",
      "Variable([[2.11469855]]) Variable([5.07515288]) Variable(1.0571718541907074)\n",
      "Variable([[2.11469853]]) Variable([5.07515292]) Variable(1.0571718541906805)\n",
      "Variable([[2.11469851]]) Variable([5.07515295]) Variable(1.057171854190663)\n",
      "Variable([[2.1146985]]) Variable([5.07515298]) Variable(1.0571718541906512)\n",
      "Variable([[2.11469848]]) Variable([5.075153]) Variable(1.0571718541906439)\n",
      "Variable([[2.11469848]]) Variable([5.07515302]) Variable(1.0571718541906387)\n",
      "Variable([[2.11469847]]) Variable([5.07515303]) Variable(1.0571718541906354)\n",
      "Variable([[2.11469846]]) Variable([5.07515304]) Variable(1.0571718541906332)\n",
      "Variable([[2.11469846]]) Variable([5.07515305]) Variable(1.0571718541906319)\n",
      "Variable([[2.11469845]]) Variable([5.07515306]) Variable(1.0571718541906308)\n",
      "Variable([[2.11469845]]) Variable([5.07515306]) Variable(1.05717185419063)\n",
      "Variable([[2.11469845]]) Variable([5.07515307]) Variable(1.0571718541906299)\n",
      "Variable([[2.11469844]]) Variable([5.07515307]) Variable(1.0571718541906296)\n",
      "Variable([[2.11469844]]) Variable([5.07515307]) Variable(1.0571718541906296)\n",
      "Variable([[2.11469844]]) Variable([5.07515307]) Variable(1.0571718541906292)\n",
      "Variable([[2.11469844]]) Variable([5.07515308]) Variable(1.0571718541906292)\n",
      "Variable([[2.11469844]]) Variable([5.07515308]) Variable(1.0571718541906292)\n",
      "Variable([[2.11469844]]) Variable([5.07515308]) Variable(1.0571718541906292)\n",
      "Variable([[2.11469844]]) Variable([5.07515308]) Variable(1.0571718541906292)\n",
      "Variable([[2.11469844]]) Variable([5.07515308]) Variable(1.0571718541906292)\n",
      "Variable([[2.11469844]]) Variable([5.07515308]) Variable(1.057171854190629)\n",
      "Variable([[2.11469844]]) Variable([5.07515308]) Variable(1.0571718541906288)\n",
      "Variable([[2.11469843]]) Variable([5.07515308]) Variable(1.0571718541906292)\n",
      "Variable([[2.11469843]]) Variable([5.07515308]) Variable(1.0571718541906292)\n"
     ]
    }
   ],
   "source": [
    "def mean_squared_error(x0, x1):\n",
    "    diff = x0 - x1\n",
    "    return F.sum(diff ** 2) / len(diff)\n",
    "\n",
    "lr = 0.1\n",
    "iters = 100\n",
    "\n",
    "for i in range(iters):\n",
    "    y_pred = predict(x)\n",
    "    loss = mean_squared_error(y, y_pred)\n",
    "    \n",
    "    W.cleargrad()\n",
    "    b.cleargrad()\n",
    "    loss.backward()\n",
    "    \n",
    "    W.data -= lr * W.grad.data\n",
    "    b.data -= lr * b.grad.data\n",
    "    print(W, b, loss)"
   ]
  }
 ],
 "metadata": {
  "kernelspec": {
   "display_name": ".venv",
   "language": "python",
   "name": "python3"
  },
  "language_info": {
   "codemirror_mode": {
    "name": "ipython",
    "version": 3
   },
   "file_extension": ".py",
   "mimetype": "text/x-python",
   "name": "python",
   "nbconvert_exporter": "python",
   "pygments_lexer": "ipython3",
   "version": "3.12.9"
  }
 },
 "nbformat": 4,
 "nbformat_minor": 5
}
