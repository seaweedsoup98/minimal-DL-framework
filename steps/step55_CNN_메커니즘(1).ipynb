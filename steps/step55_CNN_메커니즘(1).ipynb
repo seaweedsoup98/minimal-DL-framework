{
 "cells": [
  {
   "cell_type": "markdown",
   "id": "22096fcc",
   "metadata": {},
   "source": [
    "## 55단계: CNN 메커니즘(1)\n",
    "\n",
    "> 이번 단계에서는 CNN, 이미지 인식용 CNN의 메커니즘을 설명합니다."
   ]
  },
  {
   "cell_type": "markdown",
   "id": "a86e289a",
   "metadata": {},
   "source": [
    "### 55.1 CNN 신경망의 구조\n",
    "\n",
    "CNN은 합성곱층(convolution layer)과 풀링층(pooling layer) 등을 이용하여 구성한다.\n",
    "\n",
    "<img src=\"images/그림 55-1.png\" width=600/>"
   ]
  },
  {
   "cell_type": "markdown",
   "id": "7b0fe7e4",
   "metadata": {},
   "source": [
    "### 55.2 합성곱 연산\n",
    "\n",
    "<img src=\"images/그림 55-2.png\" width=500/>\n",
    "\n",
    "문헌에 따라 필터(filter)를 커널(kernel)이라고도 함\n",
    "\n",
    "<img src=\"images/그림 55-3.png\" width=500/>\n",
    "\n",
    "편향까지 포함시키면 아래와 같이 됨\n",
    "\n",
    "<img src=\"images/그림 55-4.png\" width=500/>"
   ]
  },
  {
   "cell_type": "markdown",
   "id": "83437f79",
   "metadata": {},
   "source": [
    "### 55.3 패딩\n",
    "\n",
    "<img src=\"images/그림 55-5.png\" width=500/>"
   ]
  },
  {
   "cell_type": "markdown",
   "id": "58cda75c",
   "metadata": {},
   "source": [
    "### 55.4 스트라이드\n",
    "\n",
    "<img src=\"images/그림 55-6.png\" width=500/>"
   ]
  },
  {
   "cell_type": "markdown",
   "id": "16367045",
   "metadata": {},
   "source": [
    "### 55.5 출력 크기 계산 방법"
   ]
  },
  {
   "cell_type": "code",
   "execution_count": 1,
   "id": "52a12d5d",
   "metadata": {},
   "outputs": [
    {
     "name": "stdout",
     "output_type": "stream",
     "text": [
      "4 4\n"
     ]
    }
   ],
   "source": [
    "def get_conv_outsize(input_size, kernel_size, stride, pad):\n",
    "    return (input_size + pad * 2 - kernel_size) // stride + 1\n",
    "\n",
    "H, W = 4, 4  # 입력 사이즈\n",
    "KH, KW = 3, 3  # 커널 사이즈\n",
    "SH, SW = 1, 1  # 스트라이드(세로, 가로)\n",
    "PH, PW = 1, 1  # 패딩(세로, 가로)\n",
    "\n",
    "OH = get_conv_outsize(H, KH, SH, PH)\n",
    "OW = get_conv_outsize(W, KW, SW, PW)\n",
    "print(OH, OW)"
   ]
  },
  {
   "cell_type": "code",
   "execution_count": null,
   "id": "12cc67a0",
   "metadata": {},
   "outputs": [],
   "source": []
  }
 ],
 "metadata": {
  "kernelspec": {
   "display_name": ".venv",
   "language": "python",
   "name": "python3"
  },
  "language_info": {
   "codemirror_mode": {
    "name": "ipython",
    "version": 3
   },
   "file_extension": ".py",
   "mimetype": "text/x-python",
   "name": "python",
   "nbconvert_exporter": "python",
   "pygments_lexer": "ipython3",
   "version": "3.12.9"
  }
 },
 "nbformat": 4,
 "nbformat_minor": 5
}
