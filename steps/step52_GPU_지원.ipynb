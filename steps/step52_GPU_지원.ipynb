{
 "cells": [
  {
   "cell_type": "markdown",
   "id": "22096fcc",
   "metadata": {},
   "source": [
    "## 52단계: GPU 지원\n",
    "\n",
    "> 딥러닝으로 하는 계산은 '행렬의 곱'이 대부분을 차지합니다. 그런데 행렬의 곱은 곱셉과 덧셈으로 구성되어 있어서 병렬로 계산하는 게 가능하고, 병렬 계산에는 CPU보다 GPU가 훨씬 뛰어 납니다. 그래서 이번 단계에서는 DeZero를 GPU에서 구동하기 위한 구조를 만들 것입니다."
   ]
  },
  {
   "cell_type": "markdown",
   "id": "a86e289a",
   "metadata": {},
   "source": [
    "### 52.1 쿠파이 설치 및 사용 방법\n",
    "\n",
    "```bash\n",
    "$ pip install cupy\n",
    "```"
   ]
  },
  {
   "cell_type": "code",
   "execution_count": 1,
   "id": "b8e6b599",
   "metadata": {},
   "outputs": [
    {
     "name": "stdout",
     "output_type": "stream",
     "text": [
      "[[0 1 2]\n",
      " [3 4 5]]\n",
      "[[0 1 2]\n",
      " [3 4 5]]\n",
      "[ 3 12]\n",
      "[ 3 12]\n"
     ]
    }
   ],
   "source": [
    "import numpy as np\n",
    "import cupy as cp\n",
    "\n",
    "np_x = np.arange(6).reshape(2, 3)\n",
    "print(np_x)\n",
    "cp_x = cp.arange(6).reshape(2, 3)\n",
    "print(cp_x)\n",
    "\n",
    "np_y = np_x.sum(axis=1)\n",
    "print(np_y)\n",
    "cp_y = cp_x.sum(axis=1)\n",
    "print(cp_y)"
   ]
  },
  {
   "cell_type": "markdown",
   "id": "79b175b3",
   "metadata": {},
   "source": [
    "주의: numpy와 cupy의 API는 거의 동일하지만 완전히 같지는 않다."
   ]
  },
  {
   "cell_type": "code",
   "execution_count": 2,
   "id": "39b5c8c2",
   "metadata": {},
   "outputs": [
    {
     "name": "stdout",
     "output_type": "stream",
     "text": [
      "True\n",
      "True\n"
     ]
    }
   ],
   "source": [
    "# numpy -> cupy\n",
    "n = np.array([1, 2, 3])\n",
    "c = cp.asarray(n)\n",
    "\n",
    "print(isinstance(c, cp.ndarray))\n",
    "\n",
    "# cupy -> numpy\n",
    "c = cp.array([1, 2, 3])\n",
    "n = cp.asnumpy(c)\n",
    "print(isinstance(n, np.ndarray))"
   ]
  },
  {
   "cell_type": "code",
   "execution_count": 3,
   "id": "fc335a11",
   "metadata": {},
   "outputs": [
    {
     "name": "stdout",
     "output_type": "stream",
     "text": [
      "True\n",
      "True\n"
     ]
    }
   ],
   "source": [
    "# x가 넘파이 배열인 경우\n",
    "x = np.array([1, 2, 3])\n",
    "xp = cp.get_array_module(x)\n",
    "print(xp == np)\n",
    "\n",
    "# x가 쿠파이 배열인 경우\n",
    "x = cp.array([1, 2, 3])\n",
    "xp = cp.get_array_module(x)\n",
    "print(xp == cp)"
   ]
  },
  {
   "cell_type": "markdown",
   "id": "8e216186",
   "metadata": {},
   "source": [
    "### 52.2 쿠다 모듈"
   ]
  },
  {
   "cell_type": "code",
   "execution_count": 4,
   "id": "1e96d5b2",
   "metadata": {},
   "outputs": [],
   "source": [
    "# dezero/cuda.py\n",
    "\n",
    "import numpy as np\n",
    "gpu_enable = True\n",
    "try:\n",
    "    import cupy as cp\n",
    "    cupy = cp\n",
    "except ImportError:\n",
    "    gpu_enable = False\n",
    "from dezero import Variable\n",
    "\n",
    "\n",
    "# cupy는 필수가 아니므로 설치되지 않은 경우에도 동작하도록 설계\n",
    "def get_array_module(x):\n",
    "    if isinstance(x, Variable):\n",
    "        x = x.data\n",
    "    \n",
    "    if not gpu_enable:\n",
    "        return np\n",
    "    xp = cp.get_array_module(x)\n",
    "    return xp\n",
    "\n",
    "def as_numpy(x):\n",
    "    if isinstance(x, Variable):\n",
    "        x = x.data\n",
    "    \n",
    "    if np.isscalar(x):\n",
    "        return np.array(x)\n",
    "    elif isinstance(x, np.ndarray):\n",
    "        return x\n",
    "    return cp.asnumpy(x)\n",
    "\n",
    "def as_cupy(x):\n",
    "    if isinstance(x, Variable):\n",
    "        x = x.data\n",
    "    \n",
    "    if not gpu_enable:\n",
    "        raise Exception('CuPy를 로드할 수 없습니다. CuPy를 먼저 설치해주세요.')\n",
    "    return cp.asarray(x)"
   ]
  },
  {
   "cell_type": "markdown",
   "id": "3418042c",
   "metadata": {},
   "source": [
    "### 52.3 Variable/Layer/DataLoader 클래스 추가 구현"
   ]
  },
  {
   "cell_type": "code",
   "execution_count": 5,
   "id": "74892767",
   "metadata": {},
   "outputs": [],
   "source": [
    "# dezero/core.py\n",
    "\n",
    "import dezero\n",
    "\n",
    "...\n",
    "try:  # 동적으로 array_types 설정\n",
    "    import cupy\n",
    "    array_types = (np.ndarray, cupy.ndarray)\n",
    "except ImportError:\n",
    "    array_types = (np.ndarray,)\n",
    "\n",
    "class Variable:\n",
    "    def __init__(self, data, name=None):\n",
    "        if data is not None:\n",
    "            if not isinstance(data, array_types):\n",
    "                raise TypeError('{} is not supported'.format(type(data)))\n",
    "        ...\n",
    "    \n",
    "    def backward(self, retain_grad = False, create_graph=False):\n",
    "        if self.grad is None:\n",
    "            xp = dezero.cuda.get_array_module(self.data)  # 데이터 타입에 따라 모듈 선택\n",
    "            self.grad = Variable(xp.ones_like(self.data))\n",
    "        ...\n",
    "    \n",
    "    ...\n",
    "    def to_cpu(self):  # 데이터를 cpu로 전송\n",
    "        if self.data is not None:\n",
    "            self.data = dezero.cuda.as_numpy(self.data)\n",
    "            \n",
    "    def to_gpu(self):  # 데이터를 gpu로 전송\n",
    "        if self.data is not None:\n",
    "            self.data = dezero.cuda.as_cupy(self.data)"
   ]
  },
  {
   "cell_type": "code",
   "execution_count": 6,
   "id": "b8bf505e",
   "metadata": {},
   "outputs": [],
   "source": [
    "# dezero/layers.py\n",
    "\n",
    "class Layer:\n",
    "    ...\n",
    "    \n",
    "    def to_cpu(self):\n",
    "        for param in self.params():\n",
    "            param.to_cpu()\n",
    "            \n",
    "    def to_gpu(self):\n",
    "        for param in self.params():\n",
    "            param.to_gpu()"
   ]
  },
  {
   "cell_type": "code",
   "execution_count": 7,
   "id": "7ff9282f",
   "metadata": {},
   "outputs": [],
   "source": [
    "# dezero/dataloaders.py\n",
    "\n",
    "...\n",
    "from dezero import cuda\n",
    "\n",
    "class DataLoader:\n",
    "    def __init__(self, dataset, batch_size, shuffle=True, gpu=False):\n",
    "        ...\n",
    "        self.gpu = gpu\n",
    "        \n",
    "        self.reset()\n",
    "    \n",
    "    def __next__(self):\n",
    "        ...\n",
    "        xp = cuda.cupy if self.gpu else np\n",
    "        x = xp.array([example[0] for example in batch])\n",
    "        t = xp.array([example[0] for example in batch])\n",
    "        \n",
    "        self.iteration += 1\n",
    "        \n",
    "        return x, t\n",
    "    \n",
    "    def to_cpu(self):\n",
    "        self.gpu = False\n",
    "\n",
    "    def to_gpu(self):\n",
    "        self.gpu = True"
   ]
  },
  {
   "cell_type": "markdown",
   "id": "fb8e68b6",
   "metadata": {},
   "source": [
    "### 52.4 함수 추가 구현\n",
    "\n",
    "아래는 Sin 클래스의 수정 예시이다. `functions.py`, `optimizers.py`, `layers.py`에도 필요한 부분에 전부 적용해줘야 한다."
   ]
  },
  {
   "cell_type": "code",
   "execution_count": 8,
   "id": "6106a4be",
   "metadata": {},
   "outputs": [],
   "source": [
    "# dezero/functions.py\n",
    "\n",
    "from dezero import Function\n",
    "\n",
    "class Sin(Function):\n",
    "    def forward(self, x):\n",
    "        xp = cuda.get_array_module(x)  # 동적으로 모듈 선택\n",
    "        y = xp.sin(x)\n",
    "        return y\n",
    "    ..."
   ]
  },
  {
   "cell_type": "markdown",
   "id": "38308aa8",
   "metadata": {},
   "source": [
    "사칙연산도 수정해준다."
   ]
  },
  {
   "cell_type": "code",
   "execution_count": 9,
   "id": "db240e50",
   "metadata": {},
   "outputs": [],
   "source": [
    "# dezero/core.py\n",
    "\n",
    "def as_array(x, array_module=np):\n",
    "    if np.isscalar(x):\n",
    "        return array_module.array(x)\n",
    "    return x\n",
    "\n",
    "def add(x0, x1):\n",
    "    x1 = as_array(x1, dezero.cuda.get_array_module(x0.data))\n",
    "    return Add()(x0, x1)\n",
    "\n",
    "def mul(x0, x1):\n",
    "    x1 = as_array(x1, dezero.cuda.get_array_module(x0.data))\n",
    "    return Mul()(x0, x1)\n",
    "\n",
    "# sub, rsub, div, rdiv 전부 수정"
   ]
  },
  {
   "cell_type": "markdown",
   "id": "1f7e6683",
   "metadata": {},
   "source": [
    "### 52.5 GPU로 MNIST 학습하기"
   ]
  },
  {
   "cell_type": "code",
   "execution_count": 10,
   "id": "24287f90",
   "metadata": {},
   "outputs": [
    {
     "name": "stdout",
     "output_type": "stream",
     "text": [
      "epoch: 1, loss: 1.9166, time: 7.2556[sec]\n",
      "epoch: 2, loss: 1.2864, time: 5.1546[sec]\n",
      "epoch: 3, loss: 0.9261, time: 5.1708[sec]\n",
      "epoch: 4, loss: 0.7403, time: 5.3612[sec]\n",
      "epoch: 5, loss: 0.6351, time: 5.4565[sec]\n"
     ]
    }
   ],
   "source": [
    "import time\n",
    "import dezero\n",
    "import dezero.functions as F\n",
    "from dezero import optimizers\n",
    "from dezero import DataLoader\n",
    "from dezero.models import MLP\n",
    "\n",
    "\n",
    "max_epoch = 5\n",
    "batch_size = 100\n",
    "\n",
    "train_set = dezero.datasets.MNIST(train=True)\n",
    "train_loader = DataLoader(train_set, batch_size)\n",
    "model = MLP((1000, 10))\n",
    "optimizer = optimizers.SGD().setup(model)\n",
    "\n",
    "# GPU mode\n",
    "if dezero.cuda.gpu_enable:\n",
    "    train_loader.to_gpu()\n",
    "    model.to_gpu()\n",
    "\n",
    "for epoch in range(max_epoch):\n",
    "    start = time.time()\n",
    "    sum_loss = 0\n",
    "\n",
    "    for x, t in train_loader:\n",
    "        y = model(x)\n",
    "        loss = F.softmax_cross_entropy(y, t)\n",
    "        model.cleargrads()\n",
    "        loss.backward()\n",
    "        optimizer.update()\n",
    "        sum_loss += float(loss.data) * len(t)\n",
    "\n",
    "    elapsed_time = time.time() - start\n",
    "    print('epoch: {}, loss: {:.4f}, time: {:.4f}[sec]'.format(\n",
    "        epoch + 1, sum_loss / len(train_set), elapsed_time))"
   ]
  },
  {
   "cell_type": "code",
   "execution_count": 11,
   "id": "474e7c8f",
   "metadata": {},
   "outputs": [
    {
     "name": "stdout",
     "output_type": "stream",
     "text": [
      "epoch: 1, loss: 1.9129, time: 23.8272[sec]\n",
      "epoch: 2, loss: 1.2801, time: 26.7616[sec]\n",
      "epoch: 3, loss: 0.9207, time: 17.0228[sec]\n",
      "epoch: 4, loss: 0.7373, time: 17.0101[sec]\n",
      "epoch: 5, loss: 0.6334, time: 21.7303[sec]\n"
     ]
    }
   ],
   "source": [
    "train_set = dezero.datasets.MNIST(train=True)\n",
    "train_loader = DataLoader(train_set, batch_size)\n",
    "model = MLP((1000, 10))\n",
    "optimizer = optimizers.SGD().setup(model)\n",
    "\n",
    "# GPU mode -> CPU mode\n",
    "# if dezero.cuda.gpu_enable:\n",
    "#     train_loader.to_gpu()\n",
    "#     model.to_gpu()\n",
    "\n",
    "for epoch in range(max_epoch):\n",
    "    start = time.time()\n",
    "    sum_loss = 0\n",
    "\n",
    "    for x, t in train_loader:\n",
    "        y = model(x)\n",
    "        loss = F.softmax_cross_entropy(y, t)\n",
    "        model.cleargrads()\n",
    "        loss.backward()\n",
    "        optimizer.update()\n",
    "        sum_loss += float(loss.data) * len(t)\n",
    "\n",
    "    elapsed_time = time.time() - start\n",
    "    print('epoch: {}, loss: {:.4f}, time: {:.4f}[sec]'.format(\n",
    "        epoch + 1, sum_loss / len(train_set), elapsed_time))"
   ]
  }
 ],
 "metadata": {
  "kernelspec": {
   "display_name": ".venv",
   "language": "python",
   "name": "python3"
  },
  "language_info": {
   "codemirror_mode": {
    "name": "ipython",
    "version": 3
   },
   "file_extension": ".py",
   "mimetype": "text/x-python",
   "name": "python",
   "nbconvert_exporter": "python",
   "pygments_lexer": "ipython3",
   "version": "3.12.9"
  }
 },
 "nbformat": 4,
 "nbformat_minor": 5
}
