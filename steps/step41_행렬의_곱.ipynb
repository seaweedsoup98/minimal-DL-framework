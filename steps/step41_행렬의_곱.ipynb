{
 "cells": [
  {
   "cell_type": "markdown",
   "id": "22096fcc",
   "metadata": {},
   "source": [
    "## 41단계: 행렬의 곱곱\n",
    "\n",
    "> ."
   ]
  },
  {
   "cell_type": "markdown",
   "id": "a86e289a",
   "metadata": {},
   "source": [
    "### 41.1 벡터의 내적과 행렬의 곱\n",
    "\n",
    "<img src=\"images/그림 41-1.png\" width=300/>"
   ]
  },
  {
   "cell_type": "code",
   "execution_count": 1,
   "id": "ffaabe3d",
   "metadata": {},
   "outputs": [
    {
     "name": "stdout",
     "output_type": "stream",
     "text": [
      "32\n",
      "[[19 22]\n",
      " [43 50]]\n"
     ]
    }
   ],
   "source": [
    "import numpy as np\n",
    "\n",
    "a = np.array([1, 2, 3])\n",
    "b = np.array([4, 5, 6])\n",
    "c = np.dot(a, b)\n",
    "print(c)\n",
    "\n",
    "a = np.array([[1, 2], [3, 4]])\n",
    "b = np.array([[5, 6], [7, 8]])\n",
    "c = np.dot(a, b)\n",
    "print(c)"
   ]
  },
  {
   "cell_type": "markdown",
   "id": "a9cb27b3",
   "metadata": {},
   "source": [
    "### 41.2 행렬의 형상 체크\n",
    "\n",
    "<img src=\"images/그림 41-2.png\" width=400/>"
   ]
  },
  {
   "cell_type": "markdown",
   "id": "69ed74ad",
   "metadata": {},
   "source": [
    "### 41.3 행렬 곱의 역전파\n",
    "\n",
    "<img src=\"images/그림 41-3.png\" width=500/>\n",
    "<br/>\n",
    "<img src=\"images/식 41.2.png\" width=500/>\n",
    "<br/>\n",
    "<img src=\"images/식 41.3.png\" width=500/>\n",
    "<br/>\n",
    "<img src=\"images/식 41.4.png\" width=500/>\n",
    "<br/>\n",
    "<img src=\"images/그림 41-4.png\" width=400/>\n",
    "<br/>\n",
    "<img src=\"images/그림 41-5.png\" width=300/>\n",
    "<br/>\n",
    "<img src=\"images/그림 41-6.png\" width=350/>"
   ]
  },
  {
   "cell_type": "code",
   "execution_count": 2,
   "id": "54989a43",
   "metadata": {},
   "outputs": [],
   "source": [
    "# dezero/functions.py\n",
    "from dezero import Function\n",
    "\n",
    "class MatMul(Function):\n",
    "    def forward(self, x, W):\n",
    "        y = x.dot(W)\n",
    "        return y\n",
    "    \n",
    "    def backward(self, gy):\n",
    "        x, W = self.inputs\n",
    "        gx = matmul(gy, W.T)\n",
    "        gW = matmul(x.T, gy)\n",
    "        return gx, gW\n",
    "    \n",
    "def matmul(x, W):\n",
    "    return MatMul()(x, W)"
   ]
  },
  {
   "cell_type": "code",
   "execution_count": 3,
   "id": "0d9ed537",
   "metadata": {},
   "outputs": [
    {
     "name": "stdout",
     "output_type": "stream",
     "text": [
      "(2, 3)\n",
      "(3, 4)\n"
     ]
    }
   ],
   "source": [
    "import numpy as np\n",
    "from dezero import Variable\n",
    "import dezero.functions as F\n",
    "\n",
    "x = Variable(np.random.randn(2, 3))\n",
    "W = Variable(np.random.randn(3, 4))\n",
    "y = F.matmul(x, W)\n",
    "y.backward()\n",
    "\n",
    "print(x.grad.shape)\n",
    "print(W.grad.shape)"
   ]
  }
 ],
 "metadata": {
  "kernelspec": {
   "display_name": ".venv",
   "language": "python",
   "name": "python3"
  },
  "language_info": {
   "codemirror_mode": {
    "name": "ipython",
    "version": 3
   },
   "file_extension": ".py",
   "mimetype": "text/x-python",
   "name": "python",
   "nbconvert_exporter": "python",
   "pygments_lexer": "ipython3",
   "version": "3.12.9"
  }
 },
 "nbformat": 4,
 "nbformat_minor": 5
}
