{
 "cells": [
  {
   "cell_type": "markdown",
   "id": "22096fcc",
   "metadata": {},
   "source": [
    "## 37단계: 텐서를 다루다\n",
    "\n",
    "> ."
   ]
  },
  {
   "cell_type": "markdown",
   "id": "a86e289a",
   "metadata": {},
   "source": [
    "### 37.1 원소별 계산"
   ]
  },
  {
   "cell_type": "code",
   "execution_count": 1,
   "id": "9a99c06d",
   "metadata": {},
   "outputs": [
    {
     "name": "stdout",
     "output_type": "stream",
     "text": [
      "Variable(0.8414709848078965)\n"
     ]
    }
   ],
   "source": [
    "import numpy as np\n",
    "import dezero.functions as F\n",
    "from dezero import Variable\n",
    "\n",
    "x = Variable(np.array(1.0))\n",
    "y = F.sin(x)\n",
    "print(y)"
   ]
  },
  {
   "cell_type": "code",
   "execution_count": 2,
   "id": "ed3e016a",
   "metadata": {},
   "outputs": [
    {
     "name": "stdout",
     "output_type": "stream",
     "text": [
      "Variable([[ 0.84147098  0.90929743  0.14112001]\n",
      "          [-0.7568025  -0.95892427 -0.2794155 ]])\n"
     ]
    }
   ],
   "source": [
    "x = Variable(np.array([[1, 2, 3], [4, 5, 6]]))\n",
    "y = F.sin(x)\n",
    "print(y)"
   ]
  },
  {
   "cell_type": "code",
   "execution_count": 3,
   "id": "58e4655e",
   "metadata": {},
   "outputs": [
    {
     "name": "stdout",
     "output_type": "stream",
     "text": [
      "Variable([[11 22 33]\n",
      "          [44 55 66]])\n"
     ]
    }
   ],
   "source": [
    "x = Variable(np.array([[1, 2, 3], [4, 5, 6]]))\n",
    "c = Variable(np.array([[10, 20, 30], [40, 50, 60]]))\n",
    "y = x + c\n",
    "print(y)"
   ]
  },
  {
   "cell_type": "markdown",
   "id": "321946c5",
   "metadata": {},
   "source": [
    "### 37.2 텐서 사용 시의 역전파\n",
    "\n",
    "<img src=\"images/그림 37-1.png\" width=500/>"
   ]
  },
  {
   "cell_type": "code",
   "execution_count": 4,
   "id": "48d4a9d2",
   "metadata": {},
   "outputs": [
    {
     "name": "stdout",
     "output_type": "stream",
     "text": [
      "Variable(1)\n",
      "Variable([[1 1 1]\n",
      "          [1 1 1]])\n",
      "Variable([[1 1 1]\n",
      "          [1 1 1]])\n",
      "Variable([[1 1 1]\n",
      "          [1 1 1]])\n"
     ]
    }
   ],
   "source": [
    "x = Variable(np.array([[1, 2, 3], [4, 5, 6]]))\n",
    "c = Variable(np.array([[10, 20, 30], [40, 50, 60]]))\n",
    "t = x + c\n",
    "y = F.sum(t)\n",
    "\n",
    "y.backward(retain_grad=True)\n",
    "print(y.grad)\n",
    "print(t.grad)\n",
    "print(x.grad)\n",
    "print(c.grad)"
   ]
  }
 ],
 "metadata": {
  "kernelspec": {
   "display_name": ".venv",
   "language": "python",
   "name": "python3"
  },
  "language_info": {
   "codemirror_mode": {
    "name": "ipython",
    "version": 3
   },
   "file_extension": ".py",
   "mimetype": "text/x-python",
   "name": "python",
   "nbconvert_exporter": "python",
   "pygments_lexer": "ipython3",
   "version": "3.12.9"
  }
 },
 "nbformat": 4,
 "nbformat_minor": 5
}
